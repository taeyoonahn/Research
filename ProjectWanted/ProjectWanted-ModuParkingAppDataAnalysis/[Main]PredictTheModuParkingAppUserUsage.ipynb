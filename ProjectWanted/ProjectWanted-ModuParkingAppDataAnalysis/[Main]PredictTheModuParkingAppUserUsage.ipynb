{
 "cells": [
  {
   "cell_type": "markdown",
   "id": "7d02681f",
   "metadata": {
    "slideshow": {
     "slide_type": "skip"
    }
   },
   "source": [
    "**1. 프로젝트 개요<br>\n",
    "&nbsp;1.1 프로젝트 목표<br>\n",
    "&nbsp;1.2. 분석데이터<br>**\n",
    "<br>\n",
    "**2.데이터전처리<br>\n",
    "&nbsp;2.1. 데이터클렌징<br>\n",
    "&nbsp;&nbsp;2.1.1. 데이터 결측치 처리<br>\n",
    "&nbsp;&nbsp;2.1.2. 데이터 이상치 처리<br>\n",
    "&nbsp;&nbsp;2.1.3. 데이터변환<br>\n",
    "<br>\n",
    "3.EDA<br>\n",
    "&nbsp;3.1. EDA목표<br>\n",
    "&nbsp;3.2. EDA분석<br>\n",
    "&nbsp;&nbsp;3.2.1.데이터 분포 확인<br>\n",
    "&nbsp;&nbsp;3.2.2.목표변수와의 상관관계 확인<br>\n",
    "&nbsp;3.3. EDA결론<br>\n",
    "&nbsp;&nbsp;3.3.1. EDA정리<br>\n",
    "&nbsp;&nbsp;3.3.2. 가설수립<br>\n",
    "<br>\n",
    "**4.모델링 및 검증<br>\n",
    "&nbsp;4.1. 이용자 일일(행별카운트)단위 예측 모델링<br>\n",
    "&nbsp;4.2. 이용자 별 한달단위 이용 횟수 예측 모델링<br>\n",
    "&nbsp;&nbsp;4.2.1 피쳐 엔지니어링<br>\n",
    "&nbsp;&nbsp;4.2.2 모델 수립<br>\n",
    "&nbsp;&nbsp;4.2.3 모델 평가<br>"
   ]
  },
  {
   "cell_type": "markdown",
   "id": "ce69fb45",
   "metadata": {
    "slideshow": {
     "slide_type": "slide"
    }
   },
   "source": [
    "# 1. 프로젝트 개요\n",
    "## 1.1 프로젝트 목표\n",
    "**모두의 주차장 어플 이용자의 일 단위 이용 건수 예측(예측기간 : 2020.10.01~2020.12.31)<br>**\n",
    "**모두의 주차장 어플 이용자별 1달 단위 향후 이용 건수 예측(예측기간 : 2020.10.01~2020.12.31)**\n",
    "## 1.2 분석데이터\n",
    "**(1). 실전db.csv<br>\n",
    "(2). 서울시_기상데이터.csv<br>**"
   ]
  },
  {
   "cell_type": "markdown",
   "id": "882474de",
   "metadata": {
    "slideshow": {
     "slide_type": "slide"
    }
   },
   "source": [
    "# 2. 데이터전처리\n",
    "## 2.1. 데이터클렌징\n",
    "### 2.1.1. 데이터 결측치 처리"
   ]
  },
  {
   "cell_type": "code",
   "execution_count": 1,
   "id": "32b64735",
   "metadata": {
    "slideshow": {
     "slide_type": "skip"
    }
   },
   "outputs": [],
   "source": [
    "#EDA관련 패키지 구성 및 디스플레이 설정\n",
    "import pandas as pd\n",
    "import numpy as np\n",
    "import datetime as dt\n",
    "import matplotlib.pyplot as plt\n",
    "import seaborn as sns\n",
    "import re\n",
    "import math\n",
    "from IPython.display import set_matplotlib_formats\n",
    "import warnings\n",
    "warnings.filterwarnings('ignore')\n",
    "plt.rc('font', family='Malgun Gothic')\n",
    "plt.rc('axes', unicode_minus=False)\n",
    "set_matplotlib_formats('retina')\n",
    "pd.set_option('display.max_rows', 30)\n",
    "pd.set_option('display.max_columns', None)\n",
    "pd.set_option('display.float_format', '{:.2f}'.format)\n",
    "\n",
    "#RandomForestRegressor 관련 패키지 구성\n",
    "from sklearn.tree import export_graphviz\n",
    "import graphviz\n",
    "from sklearn.model_selection import train_test_split\n",
    "from sklearn.ensemble import RandomForestRegressor\n",
    "from sklearn.model_selection import GridSearchCV"
   ]
  },
  {
   "cell_type": "code",
   "execution_count": 2,
   "id": "542dfcbe",
   "metadata": {
    "scrolled": true,
    "slideshow": {
     "slide_type": "skip"
    }
   },
   "outputs": [
    {
     "data": {
      "text/html": [
       "<div>\n",
       "<style scoped>\n",
       "    .dataframe tbody tr th:only-of-type {\n",
       "        vertical-align: middle;\n",
       "    }\n",
       "\n",
       "    .dataframe tbody tr th {\n",
       "        vertical-align: top;\n",
       "    }\n",
       "\n",
       "    .dataframe thead th {\n",
       "        text-align: right;\n",
       "    }\n",
       "</style>\n",
       "<table border=\"1\" class=\"dataframe\">\n",
       "  <thead>\n",
       "    <tr style=\"text-align: right;\">\n",
       "      <th></th>\n",
       "      <th>USER_ID</th>\n",
       "      <th>JOIN_DATE</th>\n",
       "      <th>D_TYPE</th>\n",
       "      <th>STORE_ID</th>\n",
       "      <th>GOODS_TYPE</th>\n",
       "      <th>DATE</th>\n",
       "      <th>COUNT</th>\n",
       "      <th>AD1</th>\n",
       "    </tr>\n",
       "  </thead>\n",
       "  <tbody>\n",
       "    <tr>\n",
       "      <th>0</th>\n",
       "      <td>2858</td>\n",
       "      <td>2014-01-07</td>\n",
       "      <td>AA</td>\n",
       "      <td>1892</td>\n",
       "      <td>A</td>\n",
       "      <td>2020-01-01</td>\n",
       "      <td>1</td>\n",
       "      <td>GN</td>\n",
       "    </tr>\n",
       "    <tr>\n",
       "      <th>1</th>\n",
       "      <td>5647</td>\n",
       "      <td>2014-02-14</td>\n",
       "      <td>BB</td>\n",
       "      <td>182009</td>\n",
       "      <td>A</td>\n",
       "      <td>2020-01-01</td>\n",
       "      <td>1</td>\n",
       "      <td>J</td>\n",
       "    </tr>\n",
       "    <tr>\n",
       "      <th>2</th>\n",
       "      <td>33314</td>\n",
       "      <td>2014-11-20</td>\n",
       "      <td>BB</td>\n",
       "      <td>82431</td>\n",
       "      <td>A</td>\n",
       "      <td>2020-01-01</td>\n",
       "      <td>1</td>\n",
       "      <td>SC</td>\n",
       "    </tr>\n",
       "    <tr>\n",
       "      <th>3</th>\n",
       "      <td>37001</td>\n",
       "      <td>2014-12-04</td>\n",
       "      <td>BB</td>\n",
       "      <td>725</td>\n",
       "      <td>C</td>\n",
       "      <td>2020-01-01</td>\n",
       "      <td>1</td>\n",
       "      <td>MP</td>\n",
       "    </tr>\n",
       "    <tr>\n",
       "      <th>4</th>\n",
       "      <td>37819</td>\n",
       "      <td>2014-12-07</td>\n",
       "      <td>AA</td>\n",
       "      <td>220691</td>\n",
       "      <td>C</td>\n",
       "      <td>2020-01-01</td>\n",
       "      <td>1</td>\n",
       "      <td>JRR</td>\n",
       "    </tr>\n",
       "  </tbody>\n",
       "</table>\n",
       "</div>"
      ],
      "text/plain": [
       "   USER_ID   JOIN_DATE D_TYPE  STORE_ID GOODS_TYPE        DATE  COUNT  AD1\n",
       "0     2858  2014-01-07     AA      1892          A  2020-01-01      1   GN\n",
       "1     5647  2014-02-14     BB    182009          A  2020-01-01      1    J\n",
       "2    33314  2014-11-20     BB     82431          A  2020-01-01      1   SC\n",
       "3    37001  2014-12-04     BB       725          C  2020-01-01      1   MP\n",
       "4    37819  2014-12-07     AA    220691          C  2020-01-01      1  JRR"
      ]
     },
     "execution_count": 2,
     "metadata": {},
     "output_type": "execute_result"
    }
   ],
   "source": [
    "df_ori = pd.read_csv('실전db.csv', encoding='cp949')\n",
    "df_ori.head()"
   ]
  },
  {
   "cell_type": "code",
   "execution_count": 3,
   "id": "3f2654b6",
   "metadata": {
    "slideshow": {
     "slide_type": "skip"
    }
   },
   "outputs": [
    {
     "data": {
      "text/html": [
       "<div>\n",
       "<style scoped>\n",
       "    .dataframe tbody tr th:only-of-type {\n",
       "        vertical-align: middle;\n",
       "    }\n",
       "\n",
       "    .dataframe tbody tr th {\n",
       "        vertical-align: top;\n",
       "    }\n",
       "\n",
       "    .dataframe thead th {\n",
       "        text-align: right;\n",
       "    }\n",
       "</style>\n",
       "<table border=\"1\" class=\"dataframe\">\n",
       "  <thead>\n",
       "    <tr style=\"text-align: right;\">\n",
       "      <th></th>\n",
       "      <th>USER_ID</th>\n",
       "      <th>JOIN_DATE</th>\n",
       "      <th>D_TYPE</th>\n",
       "      <th>STORE_ID</th>\n",
       "      <th>GOODS_TYPE</th>\n",
       "      <th>DATE</th>\n",
       "      <th>COUNT</th>\n",
       "      <th>AD1</th>\n",
       "    </tr>\n",
       "  </thead>\n",
       "  <tbody>\n",
       "    <tr>\n",
       "      <th>0</th>\n",
       "      <td>2858</td>\n",
       "      <td>2014-01-07</td>\n",
       "      <td>AA</td>\n",
       "      <td>1892</td>\n",
       "      <td>A</td>\n",
       "      <td>2020-01-01</td>\n",
       "      <td>1</td>\n",
       "      <td>GN</td>\n",
       "    </tr>\n",
       "    <tr>\n",
       "      <th>1</th>\n",
       "      <td>5647</td>\n",
       "      <td>2014-02-14</td>\n",
       "      <td>BB</td>\n",
       "      <td>182009</td>\n",
       "      <td>A</td>\n",
       "      <td>2020-01-01</td>\n",
       "      <td>1</td>\n",
       "      <td>J</td>\n",
       "    </tr>\n",
       "    <tr>\n",
       "      <th>2</th>\n",
       "      <td>33314</td>\n",
       "      <td>2014-11-20</td>\n",
       "      <td>BB</td>\n",
       "      <td>82431</td>\n",
       "      <td>A</td>\n",
       "      <td>2020-01-01</td>\n",
       "      <td>1</td>\n",
       "      <td>SC</td>\n",
       "    </tr>\n",
       "    <tr>\n",
       "      <th>3</th>\n",
       "      <td>37001</td>\n",
       "      <td>2014-12-04</td>\n",
       "      <td>BB</td>\n",
       "      <td>725</td>\n",
       "      <td>C</td>\n",
       "      <td>2020-01-01</td>\n",
       "      <td>1</td>\n",
       "      <td>MP</td>\n",
       "    </tr>\n",
       "    <tr>\n",
       "      <th>4</th>\n",
       "      <td>37819</td>\n",
       "      <td>2014-12-07</td>\n",
       "      <td>AA</td>\n",
       "      <td>220691</td>\n",
       "      <td>C</td>\n",
       "      <td>2020-01-01</td>\n",
       "      <td>1</td>\n",
       "      <td>JRR</td>\n",
       "    </tr>\n",
       "    <tr>\n",
       "      <th>...</th>\n",
       "      <td>...</td>\n",
       "      <td>...</td>\n",
       "      <td>...</td>\n",
       "      <td>...</td>\n",
       "      <td>...</td>\n",
       "      <td>...</td>\n",
       "      <td>...</td>\n",
       "      <td>...</td>\n",
       "    </tr>\n",
       "    <tr>\n",
       "      <th>879266</th>\n",
       "      <td>1830551</td>\n",
       "      <td>2020-12-31</td>\n",
       "      <td>BB</td>\n",
       "      <td>219886</td>\n",
       "      <td>B</td>\n",
       "      <td>2020-12-31</td>\n",
       "      <td>1</td>\n",
       "      <td>GN</td>\n",
       "    </tr>\n",
       "    <tr>\n",
       "      <th>879267</th>\n",
       "      <td>1830570</td>\n",
       "      <td>2020-12-31</td>\n",
       "      <td>BB</td>\n",
       "      <td>82433</td>\n",
       "      <td>B</td>\n",
       "      <td>2020-12-31</td>\n",
       "      <td>1</td>\n",
       "      <td>CY</td>\n",
       "    </tr>\n",
       "    <tr>\n",
       "      <th>879268</th>\n",
       "      <td>1830580</td>\n",
       "      <td>2020-12-31</td>\n",
       "      <td>AA</td>\n",
       "      <td>92020</td>\n",
       "      <td>B</td>\n",
       "      <td>2020-12-31</td>\n",
       "      <td>1</td>\n",
       "      <td>JRR</td>\n",
       "    </tr>\n",
       "    <tr>\n",
       "      <th>879269</th>\n",
       "      <td>1830589</td>\n",
       "      <td>2020-12-31</td>\n",
       "      <td>BB</td>\n",
       "      <td>92437</td>\n",
       "      <td>B</td>\n",
       "      <td>2020-12-31</td>\n",
       "      <td>1</td>\n",
       "      <td>J</td>\n",
       "    </tr>\n",
       "    <tr>\n",
       "      <th>879270</th>\n",
       "      <td>1830598</td>\n",
       "      <td>2020-12-31</td>\n",
       "      <td>AA</td>\n",
       "      <td>220959</td>\n",
       "      <td>B</td>\n",
       "      <td>2020-12-31</td>\n",
       "      <td>1</td>\n",
       "      <td>SC</td>\n",
       "    </tr>\n",
       "  </tbody>\n",
       "</table>\n",
       "<p>879271 rows × 8 columns</p>\n",
       "</div>"
      ],
      "text/plain": [
       "        USER_ID   JOIN_DATE D_TYPE  STORE_ID GOODS_TYPE        DATE  COUNT  \\\n",
       "0          2858  2014-01-07     AA      1892          A  2020-01-01      1   \n",
       "1          5647  2014-02-14     BB    182009          A  2020-01-01      1   \n",
       "2         33314  2014-11-20     BB     82431          A  2020-01-01      1   \n",
       "3         37001  2014-12-04     BB       725          C  2020-01-01      1   \n",
       "4         37819  2014-12-07     AA    220691          C  2020-01-01      1   \n",
       "...         ...         ...    ...       ...        ...         ...    ...   \n",
       "879266  1830551  2020-12-31     BB    219886          B  2020-12-31      1   \n",
       "879267  1830570  2020-12-31     BB     82433          B  2020-12-31      1   \n",
       "879268  1830580  2020-12-31     AA     92020          B  2020-12-31      1   \n",
       "879269  1830589  2020-12-31     BB     92437          B  2020-12-31      1   \n",
       "879270  1830598  2020-12-31     AA    220959          B  2020-12-31      1   \n",
       "\n",
       "        AD1  \n",
       "0        GN  \n",
       "1         J  \n",
       "2        SC  \n",
       "3        MP  \n",
       "4       JRR  \n",
       "...     ...  \n",
       "879266   GN  \n",
       "879267   CY  \n",
       "879268  JRR  \n",
       "879269    J  \n",
       "879270   SC  \n",
       "\n",
       "[879271 rows x 8 columns]"
      ]
     },
     "execution_count": 3,
     "metadata": {},
     "output_type": "execute_result"
    }
   ],
   "source": [
    "#원본 데이터 변경을 막기위해 데이터프레임 변경\n",
    "df=df_ori.copy()\n",
    "df"
   ]
  },
  {
   "cell_type": "code",
   "execution_count": 4,
   "id": "b95af284",
   "metadata": {
    "slideshow": {
     "slide_type": "slide"
    }
   },
   "outputs": [
    {
     "name": "stdout",
     "output_type": "stream",
     "text": [
      "<class 'pandas.core.frame.DataFrame'>\n",
      "RangeIndex: 879271 entries, 0 to 879270\n",
      "Data columns (total 8 columns):\n",
      " #   Column      Non-Null Count   Dtype \n",
      "---  ------      --------------   ----- \n",
      " 0   USER_ID     879271 non-null  int64 \n",
      " 1   JOIN_DATE   879271 non-null  object\n",
      " 2   D_TYPE      879271 non-null  object\n",
      " 3   STORE_ID    879271 non-null  int64 \n",
      " 4   GOODS_TYPE  879271 non-null  object\n",
      " 5   DATE        879271 non-null  object\n",
      " 6   COUNT       879271 non-null  int64 \n",
      " 7   AD1         879271 non-null  object\n",
      "dtypes: int64(3), object(5)\n",
      "memory usage: 53.7+ MB\n",
      "None\n"
     ]
    }
   ],
   "source": [
    "#데이터 정보 확인\n",
    "print(df.info())"
   ]
  },
  {
   "cell_type": "markdown",
   "id": "a886a96d",
   "metadata": {
    "slideshow": {
     "slide_type": "skip"
    }
   },
   "source": [
    "> **1. USER_ID : 정수형<br>\n",
    "2. JOIN_DATE : 범주형(문자형)<br>\n",
    "3. D_TYPE : 범주형(문자형)<br>\n",
    "4. STORE_ID : 정수형<br>\n",
    "5. GOODS_TYPE : 범주형(문자형)<br>\n",
    "6. DATE : 범주형(문자형)<br>\n",
    "7. <목표변수> COUNT : 정수형<br>\n",
    "8. AD1 : 범주형(문자형)**"
   ]
  },
  {
   "cell_type": "code",
   "execution_count": 5,
   "id": "638c0457",
   "metadata": {
    "slideshow": {
     "slide_type": "slide"
    }
   },
   "outputs": [
    {
     "data": {
      "text/plain": [
       "USER_ID       0\n",
       "JOIN_DATE     0\n",
       "D_TYPE        0\n",
       "STORE_ID      0\n",
       "GOODS_TYPE    0\n",
       "DATE          0\n",
       "COUNT         0\n",
       "AD1           0\n",
       "dtype: int64"
      ]
     },
     "execution_count": 5,
     "metadata": {},
     "output_type": "execute_result"
    }
   ],
   "source": [
    "#데이터 결측치 확인\n",
    "df.isnull()\n",
    "df.isnull().sum()"
   ]
  },
  {
   "cell_type": "markdown",
   "id": "4b0d577c",
   "metadata": {
    "slideshow": {
     "slide_type": "slide"
    }
   },
   "source": [
    "> **데이터셋의 결측치는 존재하지 않음**"
   ]
  },
  {
   "cell_type": "markdown",
   "id": "961498e7",
   "metadata": {
    "slideshow": {
     "slide_type": "slide"
    }
   },
   "source": [
    "### 2.1.2. 데이터 이상치 처리"
   ]
  },
  {
   "cell_type": "markdown",
   "id": "8958992a",
   "metadata": {
    "slideshow": {
     "slide_type": "slide"
    }
   },
   "source": [
    ">**프로젝트의 목표(일반 이용자의 한달 사용 건수 예측)를 고려해 일반적인 이용자로 보이지 않는 데이터를 이상치로 판단**\n",
    "> **다음 조건에 해당하는 이용자는 이상치로 처리<br>\n",
    "-연속적으로 이용<br>\n",
    "-데이터가 5개 이상<br>\n",
    "-AD1이 계속해서 바뀜<br>\n",
    "-COUNT 값의 평균이 비정상적으로 높음**"
   ]
  },
  {
   "cell_type": "code",
   "execution_count": 6,
   "id": "e8f3a553",
   "metadata": {
    "slideshow": {
     "slide_type": "skip"
    }
   },
   "outputs": [],
   "source": [
    "#이용자 이상치 선별\n",
    "df_outlier = df.query(\"COUNT > 10\")"
   ]
  },
  {
   "cell_type": "code",
   "execution_count": 7,
   "id": "79532a37",
   "metadata": {
    "slideshow": {
     "slide_type": "slide"
    }
   },
   "outputs": [],
   "source": [
    "#USER_ID=999665 인 이용자에 대한 처리\n",
    "df=df[df['USER_ID']!=999665]"
   ]
  },
  {
   "cell_type": "code",
   "execution_count": 8,
   "id": "83375e97",
   "metadata": {
    "slideshow": {
     "slide_type": "skip"
    }
   },
   "outputs": [
    {
     "name": "stdout",
     "output_type": "stream",
     "text": [
      "<class 'pandas.core.frame.DataFrame'>\n",
      "Int64Index: 878905 entries, 0 to 879270\n",
      "Data columns (total 8 columns):\n",
      " #   Column      Non-Null Count   Dtype         \n",
      "---  ------      --------------   -----         \n",
      " 0   USER_ID     878905 non-null  int64         \n",
      " 1   JOIN_DATE   878905 non-null  datetime64[ns]\n",
      " 2   D_TYPE      878905 non-null  object        \n",
      " 3   STORE_ID    878905 non-null  int64         \n",
      " 4   GOODS_TYPE  878905 non-null  object        \n",
      " 5   DATE        878905 non-null  datetime64[ns]\n",
      " 6   COUNT       878905 non-null  int64         \n",
      " 7   AD1         878905 non-null  object        \n",
      "dtypes: datetime64[ns](2), int64(3), object(3)\n",
      "memory usage: 60.3+ MB\n"
     ]
    }
   ],
   "source": [
    "#이상치가 존재할 가능성이 있는 시계열 데이터컬럼의 타입을 Datetime으로 바꿔줌\n",
    "#JOIN_DATE, DATE\n",
    "df['JOIN_DATE']=pd.to_datetime(df['JOIN_DATE'],format='%Y-%m-%d')\n",
    "df['DATE']=pd.to_datetime(df['DATE'],format='%Y-%m-%d')\n",
    "df.info()"
   ]
  },
  {
   "cell_type": "code",
   "execution_count": 9,
   "id": "2dc6dff4",
   "metadata": {
    "slideshow": {
     "slide_type": "skip"
    }
   },
   "outputs": [
    {
     "data": {
      "text/plain": [
       "COUNT\n",
       "1        863775\n",
       "2         13519\n",
       "3          1060\n",
       "4           271\n",
       "5           133\n",
       "6            63\n",
       "7            36\n",
       "9            12\n",
       "8            11\n",
       "10            6\n",
       "15            4\n",
       "11            3\n",
       "12            3\n",
       "13            3\n",
       "23            2\n",
       "22            1\n",
       "17            1\n",
       "19            1\n",
       "20            1\n",
       "dtype: int64"
      ]
     },
     "execution_count": 9,
     "metadata": {},
     "output_type": "execute_result"
    }
   ],
   "source": [
    "df[['COUNT']].value_counts()"
   ]
  },
  {
   "cell_type": "code",
   "execution_count": 10,
   "id": "f26d4f2c",
   "metadata": {
    "slideshow": {
     "slide_type": "skip"
    }
   },
   "outputs": [
    {
     "data": {
      "text/plain": [
       "USER_ID       878905\n",
       "JOIN_DATE     878905\n",
       "D_TYPE        878905\n",
       "STORE_ID      878905\n",
       "GOODS_TYPE    878905\n",
       "DATE          878905\n",
       "COUNT         878905\n",
       "AD1           878905\n",
       "dtype: int64"
      ]
     },
     "execution_count": 10,
     "metadata": {},
     "output_type": "execute_result"
    }
   ],
   "source": [
    "#전체 데이터의 개수\n",
    "df.count()"
   ]
  },
  {
   "cell_type": "code",
   "execution_count": 11,
   "id": "f1609293",
   "metadata": {},
   "outputs": [
    {
     "data": {
      "text/plain": [
       "USER_ID       1611\n",
       "JOIN_DATE     1611\n",
       "D_TYPE        1611\n",
       "STORE_ID      1611\n",
       "GOODS_TYPE    1611\n",
       "DATE          1611\n",
       "COUNT         1611\n",
       "AD1           1611\n",
       "dtype: int64"
      ]
     },
     "execution_count": 11,
     "metadata": {},
     "output_type": "execute_result"
    }
   ],
   "source": [
    "#COUNT가 1 또는 2가 아닌 데이터의 개수\n",
    "df_not12=df[df['COUNT']!=1]\n",
    "df_not12=df_not12[df_not12['COUNT']!=2]\n",
    "df_not12.count()"
   ]
  },
  {
   "cell_type": "markdown",
   "id": "0cb506de",
   "metadata": {},
   "source": [
    ">**count가 대부분 1,2에 몰려있는 데이터<br>\n",
    "1,2가 아닌 값은 전체 데이터의 0.2%가량에 불과**"
   ]
  },
  {
   "cell_type": "code",
   "execution_count": 12,
   "id": "84da0993",
   "metadata": {},
   "outputs": [
    {
     "data": {
      "text/plain": [
       "<AxesSubplot:>"
      ]
     },
     "execution_count": 12,
     "metadata": {},
     "output_type": "execute_result"
    },
    {
     "data": {
      "image/png": "[encoded data removed]",
      "text/plain": [
       "<Figure size 2160x288 with 1 Axes>"
      ]
     },
     "metadata": {
      "image/png": {
       "height": 249,
       "width": 1729
      },
      "needs_background": "light"
     },
     "output_type": "display_data"
    }
   ],
   "source": [
    "#COUNT, JOIN_DATE, DATE 컬럼에 대하여 이상치 분석\n",
    "#COUNT 컬럼 이상치 분석\n",
    "df[['COUNT']].boxplot(figsize=(30,4),vert=0)"
   ]
  },
  {
   "cell_type": "code",
   "execution_count": 13,
   "id": "15d470dc",
   "metadata": {
    "scrolled": true,
    "slideshow": {
     "slide_type": "slide"
    }
   },
   "outputs": [
    {
     "data": {
      "text/plain": [
       "<AxesSubplot:>"
      ]
     },
     "execution_count": 13,
     "metadata": {},
     "output_type": "execute_result"
    },
    {
     "data": {
      "image/png": "[encoded data removed]",
      "text/plain": [
       "<Figure size 432x288 with 1 Axes>"
      ]
     },
     "metadata": {
      "image/png": {
       "height": 249,
       "width": 389
      },
      "needs_background": "light"
     },
     "output_type": "display_data"
    }
   ],
   "source": [
    "#COUNT, JOIN_DATE, DATE 컬럼에 대하여 이상치 분석\n",
    "#COUNT 컬럼 이상치 분석\n",
    "df['COUNT'].hist(bins=100)"
   ]
  },
  {
   "cell_type": "markdown",
   "id": "67355b39",
   "metadata": {
    "slideshow": {
     "slide_type": "slide"
    }
   },
   "source": [
    ">**count가 대부분 1,2에 몰려있는 데이터<br>\n",
    "다른 값들도 단순히 당일 사용한 횟수를 의미하기 때문에 이상치라고 판단하기 힘듬**"
   ]
  },
  {
   "cell_type": "code",
   "execution_count": 14,
   "id": "16f01afb",
   "metadata": {
    "slideshow": {
     "slide_type": "slide"
    }
   },
   "outputs": [
    {
     "data": {
      "text/plain": [
       "<AxesSubplot:>"
      ]
     },
     "execution_count": 14,
     "metadata": {},
     "output_type": "execute_result"
    },
    {
     "data": {
      "image/png": "[encoded data removed]",
      "text/plain": [
       "<Figure size 432x288 with 1 Axes>"
      ]
     },
     "metadata": {
      "image/png": {
       "height": 249,
       "width": 389
      },
      "needs_background": "light"
     },
     "output_type": "display_data"
    }
   ],
   "source": [
    "#COUNT, JOIN_DATE, DATE 컬럼에 대하여 이상치 분석\n",
    "#JOIN_DATE 컬럼 이상치 분석\n",
    "df['JOIN_DATE'].hist()"
   ]
  },
  {
   "cell_type": "code",
   "execution_count": 15,
   "id": "e5c2bbf6",
   "metadata": {
    "slideshow": {
     "slide_type": "skip"
    }
   },
   "outputs": [
    {
     "data": {
      "text/html": [
       "<div>\n",
       "<style scoped>\n",
       "    .dataframe tbody tr th:only-of-type {\n",
       "        vertical-align: middle;\n",
       "    }\n",
       "\n",
       "    .dataframe tbody tr th {\n",
       "        vertical-align: top;\n",
       "    }\n",
       "\n",
       "    .dataframe thead th {\n",
       "        text-align: right;\n",
       "    }\n",
       "</style>\n",
       "<table border=\"1\" class=\"dataframe\">\n",
       "  <thead>\n",
       "    <tr style=\"text-align: right;\">\n",
       "      <th></th>\n",
       "      <th>USER_ID</th>\n",
       "      <th>JOIN_DATE</th>\n",
       "      <th>D_TYPE</th>\n",
       "      <th>STORE_ID</th>\n",
       "      <th>GOODS_TYPE</th>\n",
       "      <th>DATE</th>\n",
       "      <th>COUNT</th>\n",
       "      <th>AD1</th>\n",
       "    </tr>\n",
       "  </thead>\n",
       "  <tbody>\n",
       "    <tr>\n",
       "      <th>437</th>\n",
       "      <td>1081430</td>\n",
       "      <td>1970-01-01</td>\n",
       "      <td>CC</td>\n",
       "      <td>90070</td>\n",
       "      <td>A</td>\n",
       "      <td>2020-01-01</td>\n",
       "      <td>1</td>\n",
       "      <td>GD</td>\n",
       "    </tr>\n",
       "    <tr>\n",
       "      <th>2196</th>\n",
       "      <td>1410151</td>\n",
       "      <td>1970-01-01</td>\n",
       "      <td>CC</td>\n",
       "      <td>92437</td>\n",
       "      <td>B</td>\n",
       "      <td>2020-01-02</td>\n",
       "      <td>1</td>\n",
       "      <td>J</td>\n",
       "    </tr>\n",
       "    <tr>\n",
       "      <th>2204</th>\n",
       "      <td>1415023</td>\n",
       "      <td>1970-01-01</td>\n",
       "      <td>CC</td>\n",
       "      <td>131081</td>\n",
       "      <td>A</td>\n",
       "      <td>2020-01-02</td>\n",
       "      <td>1</td>\n",
       "      <td>YO</td>\n",
       "    </tr>\n",
       "    <tr>\n",
       "      <th>2434</th>\n",
       "      <td>125582</td>\n",
       "      <td>1970-01-01</td>\n",
       "      <td>CC</td>\n",
       "      <td>91885</td>\n",
       "      <td>A</td>\n",
       "      <td>2020-01-03</td>\n",
       "      <td>1</td>\n",
       "      <td>YD</td>\n",
       "    </tr>\n",
       "    <tr>\n",
       "      <th>2645</th>\n",
       "      <td>602188</td>\n",
       "      <td>1970-01-01</td>\n",
       "      <td>CC</td>\n",
       "      <td>2334</td>\n",
       "      <td>B</td>\n",
       "      <td>2020-01-03</td>\n",
       "      <td>1</td>\n",
       "      <td>MP</td>\n",
       "    </tr>\n",
       "    <tr>\n",
       "      <th>...</th>\n",
       "      <td>...</td>\n",
       "      <td>...</td>\n",
       "      <td>...</td>\n",
       "      <td>...</td>\n",
       "      <td>...</td>\n",
       "      <td>...</td>\n",
       "      <td>...</td>\n",
       "      <td>...</td>\n",
       "    </tr>\n",
       "    <tr>\n",
       "      <th>866536</th>\n",
       "      <td>1723400</td>\n",
       "      <td>1970-01-01</td>\n",
       "      <td>CC</td>\n",
       "      <td>190188</td>\n",
       "      <td>A</td>\n",
       "      <td>2020-12-26</td>\n",
       "      <td>1</td>\n",
       "      <td>JR</td>\n",
       "    </tr>\n",
       "    <tr>\n",
       "      <th>867913</th>\n",
       "      <td>1723400</td>\n",
       "      <td>1970-01-01</td>\n",
       "      <td>CC</td>\n",
       "      <td>190188</td>\n",
       "      <td>A</td>\n",
       "      <td>2020-12-27</td>\n",
       "      <td>1</td>\n",
       "      <td>JR</td>\n",
       "    </tr>\n",
       "    <tr>\n",
       "      <th>868210</th>\n",
       "      <td>1825656</td>\n",
       "      <td>1970-01-01</td>\n",
       "      <td>CC</td>\n",
       "      <td>219936</td>\n",
       "      <td>A</td>\n",
       "      <td>2020-12-27</td>\n",
       "      <td>1</td>\n",
       "      <td>YD</td>\n",
       "    </tr>\n",
       "    <tr>\n",
       "      <th>873707</th>\n",
       "      <td>1828010</td>\n",
       "      <td>1970-01-01</td>\n",
       "      <td>CC</td>\n",
       "      <td>220635</td>\n",
       "      <td>C</td>\n",
       "      <td>2020-12-29</td>\n",
       "      <td>1</td>\n",
       "      <td>GN</td>\n",
       "    </tr>\n",
       "    <tr>\n",
       "      <th>879171</th>\n",
       "      <td>1829458</td>\n",
       "      <td>1970-01-01</td>\n",
       "      <td>CC</td>\n",
       "      <td>137452</td>\n",
       "      <td>A</td>\n",
       "      <td>2020-12-31</td>\n",
       "      <td>1</td>\n",
       "      <td>CY</td>\n",
       "    </tr>\n",
       "  </tbody>\n",
       "</table>\n",
       "<p>1093 rows × 8 columns</p>\n",
       "</div>"
      ],
      "text/plain": [
       "        USER_ID  JOIN_DATE D_TYPE  STORE_ID GOODS_TYPE       DATE  COUNT AD1\n",
       "437     1081430 1970-01-01     CC     90070          A 2020-01-01      1  GD\n",
       "2196    1410151 1970-01-01     CC     92437          B 2020-01-02      1   J\n",
       "2204    1415023 1970-01-01     CC    131081          A 2020-01-02      1  YO\n",
       "2434     125582 1970-01-01     CC     91885          A 2020-01-03      1  YD\n",
       "2645     602188 1970-01-01     CC      2334          B 2020-01-03      1  MP\n",
       "...         ...        ...    ...       ...        ...        ...    ...  ..\n",
       "866536  1723400 1970-01-01     CC    190188          A 2020-12-26      1  JR\n",
       "867913  1723400 1970-01-01     CC    190188          A 2020-12-27      1  JR\n",
       "868210  1825656 1970-01-01     CC    219936          A 2020-12-27      1  YD\n",
       "873707  1828010 1970-01-01     CC    220635          C 2020-12-29      1  GN\n",
       "879171  1829458 1970-01-01     CC    137452          A 2020-12-31      1  CY\n",
       "\n",
       "[1093 rows x 8 columns]"
      ]
     },
     "execution_count": 15,
     "metadata": {},
     "output_type": "execute_result"
    }
   ],
   "source": [
    "df_wrongjoindate=df[df['JOIN_DATE']<='2013-08-01']\n",
    "df_wrongjoindate"
   ]
  },
  {
   "cell_type": "code",
   "execution_count": 16,
   "id": "152fc5a7",
   "metadata": {
    "slideshow": {
     "slide_type": "skip"
    }
   },
   "outputs": [
    {
     "name": "stdout",
     "output_type": "stream",
     "text": [
      "AxesSubplot(0.125,0.125;0.775x0.755)\n",
      "1970-01-01 00:00:00\n",
      "1970-01-01 00:00:00\n"
     ]
    },
    {
     "data": {
      "image/png": "[encoded data removed]",
      "text/plain": [
       "<Figure size 432x288 with 1 Axes>"
      ]
     },
     "metadata": {
      "image/png": {
       "height": 249,
       "width": 383
      },
      "needs_background": "light"
     },
     "output_type": "display_data"
    }
   ],
   "source": [
    "print(df_wrongjoindate['JOIN_DATE'].hist())\n",
    "print(df_wrongjoindate['JOIN_DATE'].min())\n",
    "print(df_wrongjoindate['JOIN_DATE'].max())"
   ]
  },
  {
   "cell_type": "markdown",
   "id": "00b9396b",
   "metadata": {
    "slideshow": {
     "slide_type": "slide"
    }
   },
   "source": [
    ">**모두의 주차장이 2013년 8월에 서비스를 시작했다는 것을 고려할때 이전의 데이터(전부 1970-01-01 데이터)는 오기입 등의 문제가 있는 잘못된 데이터일 확률이 높음**<br>\n",
    "**오류값으로 추정되었던 1970년도 가입데이터는 어떤 실험데이터가 아니었을까? 특정 COUNT분포를 보여주지 않을까?**"
   ]
  },
  {
   "cell_type": "code",
   "execution_count": 98,
   "id": "bbbb4b69",
   "metadata": {
    "slideshow": {
     "slide_type": "slide"
    }
   },
   "outputs": [
    {
     "data": {
      "text/plain": [
       "1    1071\n",
       "2      19\n",
       "3       2\n",
       "4       1\n",
       "Name: COUNT, dtype: int64"
      ]
     },
     "execution_count": 98,
     "metadata": {},
     "output_type": "execute_result"
    }
   ],
   "source": [
    "df_1970=df[df['JOIN_DATE']=='1970-01-01']\n",
    "df_1970['COUNT'].value_counts()"
   ]
  },
  {
   "cell_type": "markdown",
   "id": "a4668a7f",
   "metadata": {
    "slideshow": {
     "slide_type": "slide"
    }
   },
   "source": [
    ">**(COUNT가1,2가 아닌데이터)/(전체데이터) 비율이 0.2%로 특이한 분포를 보여주고있지는 않음<br>\n",
    "단순 기입 오류일 수 있음**"
   ]
  },
  {
   "cell_type": "code",
   "execution_count": 18,
   "id": "8bbc0016",
   "metadata": {},
   "outputs": [
    {
     "data": {
      "text/plain": [
       "count                     366\n",
       "unique                    366\n",
       "top       2020-03-13 00:00:00\n",
       "freq                        1\n",
       "first     2020-01-01 00:00:00\n",
       "last      2020-12-31 00:00:00\n",
       "Name: DATE, dtype: object"
      ]
     },
     "execution_count": 18,
     "metadata": {},
     "output_type": "execute_result"
    }
   ],
   "source": [
    "#COUNT, JOIN_DATE, DATE 컬럼에 대하여 이상치 분석\n",
    "#JDATE 컬럼 이상치 분석\n",
    "date_exploration=df['DATE']\n",
    "date_exploration.drop_duplicates(inplace=True)\n",
    "date_exploration.describe()"
   ]
  },
  {
   "cell_type": "code",
   "execution_count": 19,
   "id": "dcb8b220",
   "metadata": {},
   "outputs": [
    {
     "data": {
      "text/plain": [
       "<AxesSubplot:>"
      ]
     },
     "execution_count": 19,
     "metadata": {},
     "output_type": "execute_result"
    },
    {
     "data": {
      "image/png": "[encoded data removed]",
      "text/plain": [
       "<Figure size 432x288 with 1 Axes>"
      ]
     },
     "metadata": {
      "image/png": {
       "height": 249,
       "width": 371
      },
      "needs_background": "light"
     },
     "output_type": "display_data"
    }
   ],
   "source": [
    "date_exploration.hist()"
   ]
  },
  {
   "cell_type": "markdown",
   "id": "3de6725a",
   "metadata": {},
   "source": [
    ">**2020년 총 366일, DATE 컬럼은 2020년의 모든 날짜에 대응하는 데이터행을 최소 하나 이상 가지고 있음**"
   ]
  },
  {
   "cell_type": "markdown",
   "id": "301f8803",
   "metadata": {},
   "source": [
    "### 2.1.3. 데이터변환<br>"
   ]
  },
  {
   "cell_type": "markdown",
   "id": "4bf6162b",
   "metadata": {},
   "source": [
    "> **1. USER_ID : 정수형<br>\n",
    "2. JOIN_DATE : 범주형(문자형)<br>\n",
    "3. D_TYPE : 범주형(문자형)<br>\n",
    "4. STORE_ID : 정수형<br>\n",
    "5. GOODS_TYPE : 범주형(문자형)<br>\n",
    "6. DATE : 범주형(문자형)<br>\n",
    "7. <목표변수> COUNT : 정수형<br>\n",
    "8. AD1 : 범주형(문자형)**"
   ]
  },
  {
   "cell_type": "markdown",
   "id": "c4297952",
   "metadata": {
    "slideshow": {
     "slide_type": "skip"
    }
   },
   "source": [
    ">**연속형 설명변수가 없는 관계로 현단계(데이터탐색단계)에서는 스케일링작업(표준화 및 정규화)은 필요없다고 판단됨<br>**"
   ]
  },
  {
   "cell_type": "markdown",
   "id": "01f92efd",
   "metadata": {
    "slideshow": {
     "slide_type": "slide"
    }
   },
   "source": [
    "# 3. EDA\n",
    "## 3.1. EDA목표\n",
    "**(1).데이터의 분포 확인<br>\n",
    "(2).데이터의 특성 확인<br>\n",
    "(3).데이터 내 설명변수와 목표변수와의 관계를 중심으로 상관관계 확인**\n",
    "## 3.2. EDA분석\n",
    "### 3.2.1. 데이터 분포 확인"
   ]
  },
  {
   "cell_type": "code",
   "execution_count": 20,
   "id": "b0095dc9",
   "metadata": {
    "slideshow": {
     "slide_type": "skip"
    }
   },
   "outputs": [],
   "source": [
    "df_yearc=df.copy()\n",
    "df_yearc.JOIN_DATE = pd.to_datetime(df_yearc.JOIN_DATE) \n",
    "df_yearc.DATE = pd.to_datetime(df_yearc.DATE)\n",
    "df_yearc.JOIN_DATE = df_yearc.JOIN_DATE.dt.to_period(freq=\"A\") # 나중에 원핫인코딩으로 바꾸자.\n",
    "df_yearc.JOIN_DATE = df_yearc.JOIN_DATE.astype(str)\n",
    "df_yearc[\"MONTH\"] = df_yearc.DATE.dt.strftime('%m')"
   ]
  },
  {
   "cell_type": "code",
   "execution_count": 101,
   "id": "dd3963c7",
   "metadata": {
    "slideshow": {
     "slide_type": "slide"
    }
   },
   "outputs": [
    {
     "name": "stdout",
     "output_type": "stream",
     "text": [
      "591610     244\n",
      "1355841    235\n",
      "1365069    222\n",
      "1224426    222\n",
      "1407916    222\n",
      "          ... \n",
      "586251       1\n",
      "1575444      1\n",
      "1573397      1\n",
      "1591836      1\n",
      "30735        1\n",
      "Name: USER_ID, Length: 165424, dtype: int64\n"
     ]
    }
   ],
   "source": [
    "#USER_ID 컬럼 분포 확인\n",
    "df_utype_count=df['USER_ID'].value_counts()\n",
    "print(df_utype_count)"
   ]
  },
  {
   "cell_type": "markdown",
   "id": "75a8b68e",
   "metadata": {
    "slideshow": {
     "slide_type": "slide"
    }
   },
   "source": [
    "> **특정 주 사용 유저들이 존재한다는 사실을 알 수 있음**"
   ]
  },
  {
   "cell_type": "code",
   "execution_count": 22,
   "id": "c578861b",
   "metadata": {
    "slideshow": {
     "slide_type": "slide"
    }
   },
   "outputs": [
    {
     "name": "stdout",
     "output_type": "stream",
     "text": [
      "AA    493166\n",
      "BB    384541\n",
      "CC      1198\n",
      "Name: D_TYPE, dtype: int64\n",
      "AxesSubplot(0.125,0.125;0.775x0.755)\n"
     ]
    },
    {
     "data": {
      "image/png": "[encoded data removed]",
      "text/plain": [
       "<Figure size 432x288 with 1 Axes>"
      ]
     },
     "metadata": {
      "image/png": {
       "height": 251,
       "width": 389
      },
      "needs_background": "light"
     },
     "output_type": "display_data"
    }
   ],
   "source": [
    "#D_TYPE 컬럼 분포 확인\n",
    "df_dtype_count=df['D_TYPE'].value_counts()\n",
    "print(df_dtype_count)\n",
    "print(df_dtype_count.plot.bar())"
   ]
  },
  {
   "cell_type": "markdown",
   "id": "80063cff",
   "metadata": {
    "slideshow": {
     "slide_type": "skip"
    }
   },
   "source": [
    "> **D_TYPE이 CC인 유저는 수가 다른 두가지 D_TYPE에 비해 압도적으로 적음**"
   ]
  },
  {
   "cell_type": "code",
   "execution_count": 23,
   "id": "2fb61af5",
   "metadata": {
    "slideshow": {
     "slide_type": "slide"
    }
   },
   "outputs": [
    {
     "name": "stdout",
     "output_type": "stream",
     "text": [
      "220557    17613\n",
      "220893    17216\n",
      "220655    16274\n",
      "220848    15935\n",
      "92437     15857\n",
      "          ...  \n",
      "231127        1\n",
      "231128        1\n",
      "225653        1\n",
      "223093        1\n",
      "225629        1\n",
      "Name: STORE_ID, Length: 1060, dtype: int64\n",
      "AxesSubplot(0.125,0.125;0.775x0.755)\n"
     ]
    },
    {
     "data": {
      "image/png": "[encoded data removed]",
      "text/plain": [
       "<Figure size 432x288 with 1 Axes>"
      ]
     },
     "metadata": {
      "image/png": {
       "height": 272,
       "width": 388
      },
      "needs_background": "light"
     },
     "output_type": "display_data"
    }
   ],
   "source": [
    "#STORE_ID 컬럼 분포 확인\n",
    "df_stype_count=df['STORE_ID'].value_counts()\n",
    "print(df_stype_count)\n",
    "print(df_stype_count.plot.bar())"
   ]
  },
  {
   "cell_type": "markdown",
   "id": "787c2e03",
   "metadata": {},
   "source": [
    "> **STORE별로 이용 횟수 차이가 크게 난다는 사실을 알 수 있음**"
   ]
  },
  {
   "cell_type": "code",
   "execution_count": 24,
   "id": "5c3b104a",
   "metadata": {
    "slideshow": {
     "slide_type": "slide"
    }
   },
   "outputs": [
    {
     "name": "stdout",
     "output_type": "stream",
     "text": [
      "A    609494\n",
      "C    131108\n",
      "B    118541\n",
      "D     19762\n",
      "Name: GOODS_TYPE, dtype: int64\n",
      "AxesSubplot(0.125,0.125;0.775x0.755)\n"
     ]
    },
    {
     "data": {
      "image/png": "[encoded data removed]",
      "text/plain": [
       "<Figure size 432x288 with 1 Axes>"
      ]
     },
     "metadata": {
      "image/png": {
       "height": 246,
       "width": 389
      },
      "needs_background": "light"
     },
     "output_type": "display_data"
    }
   ],
   "source": [
    "#GOODS_TYPE 컬럼 분포 확인\n",
    "df_gtype_count=df['GOODS_TYPE'].value_counts()\n",
    "print(df_gtype_count)\n",
    "print(df_gtype_count.plot.bar(color='blue'))"
   ]
  },
  {
   "cell_type": "markdown",
   "id": "70cac447",
   "metadata": {
    "slideshow": {
     "slide_type": "skip"
    }
   },
   "source": [
    "> **GOODS_TYPE은 A의 사용이 다른 타입보다 압도적으로 많다는 사실을 알 수 있음**"
   ]
  },
  {
   "cell_type": "code",
   "execution_count": 25,
   "id": "124b3271",
   "metadata": {
    "slideshow": {
     "slide_type": "skip"
    }
   },
   "outputs": [
    {
     "name": "stdout",
     "output_type": "stream",
     "text": [
      "J      179291\n",
      "GN     172906\n",
      "JRR    126538\n",
      "SC      75810\n",
      "MP      67803\n",
      "        ...  \n",
      "RRR         3\n",
      "VO          1\n",
      "GR          1\n",
      "ADS         1\n",
      "NW          1\n",
      "Name: AD1, Length: 84, dtype: int64\n",
      "AxesSubplot(0.125,0.125;0.775x0.755)\n"
     ]
    },
    {
     "data": {
      "image/png": "[encoded data removed]",
      "text/plain": [
       "<Figure size 432x288 with 1 Axes>"
      ]
     },
     "metadata": {
      "image/png": {
       "height": 266,
       "width": 392
      },
      "needs_background": "light"
     },
     "output_type": "display_data"
    }
   ],
   "source": [
    "#AD1 컬럼 분포 확인\n",
    "df_atype_count=df['AD1'].value_counts()\n",
    "print(df_atype_count)\n",
    "print(df_atype_count.plot.bar())"
   ]
  },
  {
   "cell_type": "code",
   "execution_count": 26,
   "id": "e77836dd",
   "metadata": {
    "slideshow": {
     "slide_type": "slide"
    }
   },
   "outputs": [
    {
     "data": {
      "image/png": "[encoded data removed]",
      "text/plain": [
       "<Figure size 1440x720 with 1 Axes>"
      ]
     },
     "metadata": {
      "image/png": {
       "height": 612,
       "width": 1190
      },
      "needs_background": "light"
     },
     "output_type": "display_data"
    }
   ],
   "source": [
    "# AD1별 이용횟수별 시각화\n",
    "plt.figure(figsize=(20,10))\n",
    "sns.barplot(x=df.groupby(\"AD1\")[\"COUNT\"].sum().keys(),y=df.groupby(\"AD1\")[\"COUNT\"].sum())\n",
    "plt.ylabel('이용횟수', fontsize=16)\n",
    "plt.xlabel('AD1', fontsize=16)\n",
    "plt.xticks(rotation='vertical')\n",
    "plt.show()"
   ]
  },
  {
   "cell_type": "markdown",
   "id": "91f383d1",
   "metadata": {
    "slideshow": {
     "slide_type": "skip"
    }
   },
   "source": [
    "> **AD1은 J,GN, JRR의 사용이 다른 변수들보다 비교적 많음**"
   ]
  },
  {
   "cell_type": "code",
   "execution_count": 27,
   "id": "6ae1597a",
   "metadata": {
    "slideshow": {
     "slide_type": "slide"
    }
   },
   "outputs": [
    {
     "data": {
      "image/png": "[encoded data removed]",
      "text/plain": [
       "<Figure size 1080x576 with 1 Axes>"
      ]
     },
     "metadata": {
      "image/png": {
       "height": 506,
       "width": 914
      },
      "needs_background": "light"
     },
     "output_type": "display_data"
    }
   ],
   "source": [
    "#요일별 상품별 결제건수\n"
   ]
  },
  {
   "cell_type": "markdown",
   "id": "2ee87a30",
   "metadata": {
    "slideshow": {
     "slide_type": "slide"
    }
   },
   "source": [
    "### 3.2.2 목표변수와의 상관관계 확인"
   ]
  },
  {
   "cell_type": "markdown",
   "id": "302f3193",
   "metadata": {
    "slideshow": {
     "slide_type": "slide"
    }
   },
   "source": [
    "#### (1). USER_ID과 목표변수(COUNT)의 관계"
   ]
  },
  {
   "cell_type": "code",
   "execution_count": 28,
   "id": "266e860a",
   "metadata": {
    "slideshow": {
     "slide_type": "skip"
    }
   },
   "outputs": [
    {
     "data": {
      "text/html": [
       "<div>\n",
       "<style scoped>\n",
       "    .dataframe tbody tr th:only-of-type {\n",
       "        vertical-align: middle;\n",
       "    }\n",
       "\n",
       "    .dataframe tbody tr th {\n",
       "        vertical-align: top;\n",
       "    }\n",
       "\n",
       "    .dataframe thead th {\n",
       "        text-align: right;\n",
       "    }\n",
       "</style>\n",
       "<table border=\"1\" class=\"dataframe\">\n",
       "  <thead>\n",
       "    <tr style=\"text-align: right;\">\n",
       "      <th></th>\n",
       "      <th>USER_ID</th>\n",
       "      <th>COUNT</th>\n",
       "    </tr>\n",
       "  </thead>\n",
       "  <tbody>\n",
       "    <tr>\n",
       "      <th>0</th>\n",
       "      <td>224</td>\n",
       "      <td>1</td>\n",
       "    </tr>\n",
       "    <tr>\n",
       "      <th>1</th>\n",
       "      <td>232</td>\n",
       "      <td>2</td>\n",
       "    </tr>\n",
       "    <tr>\n",
       "      <th>2</th>\n",
       "      <td>342</td>\n",
       "      <td>1</td>\n",
       "    </tr>\n",
       "    <tr>\n",
       "      <th>3</th>\n",
       "      <td>565</td>\n",
       "      <td>1</td>\n",
       "    </tr>\n",
       "    <tr>\n",
       "      <th>4</th>\n",
       "      <td>729</td>\n",
       "      <td>1</td>\n",
       "    </tr>\n",
       "    <tr>\n",
       "      <th>...</th>\n",
       "      <td>...</td>\n",
       "      <td>...</td>\n",
       "    </tr>\n",
       "    <tr>\n",
       "      <th>165419</th>\n",
       "      <td>1830551</td>\n",
       "      <td>1</td>\n",
       "    </tr>\n",
       "    <tr>\n",
       "      <th>165420</th>\n",
       "      <td>1830570</td>\n",
       "      <td>1</td>\n",
       "    </tr>\n",
       "    <tr>\n",
       "      <th>165421</th>\n",
       "      <td>1830580</td>\n",
       "      <td>1</td>\n",
       "    </tr>\n",
       "    <tr>\n",
       "      <th>165422</th>\n",
       "      <td>1830589</td>\n",
       "      <td>1</td>\n",
       "    </tr>\n",
       "    <tr>\n",
       "      <th>165423</th>\n",
       "      <td>1830598</td>\n",
       "      <td>1</td>\n",
       "    </tr>\n",
       "  </tbody>\n",
       "</table>\n",
       "<p>165424 rows × 2 columns</p>\n",
       "</div>"
      ],
      "text/plain": [
       "        USER_ID  COUNT\n",
       "0           224      1\n",
       "1           232      2\n",
       "2           342      1\n",
       "3           565      1\n",
       "4           729      1\n",
       "...         ...    ...\n",
       "165419  1830551      1\n",
       "165420  1830570      1\n",
       "165421  1830580      1\n",
       "165422  1830589      1\n",
       "165423  1830598      1\n",
       "\n",
       "[165424 rows x 2 columns]"
      ]
     },
     "execution_count": 28,
     "metadata": {},
     "output_type": "execute_result"
    }
   ],
   "source": [
    "#USER_ID별 COUNT의 MAX값\n",
    "df_uc=df[['USER_ID','COUNT']]\n",
    "df_ucmax=df_uc.groupby('USER_ID').max().reset_index()\n",
    "df_ucmax"
   ]
  },
  {
   "cell_type": "code",
   "execution_count": 29,
   "id": "5fd3df5c",
   "metadata": {
    "slideshow": {
     "slide_type": "slide"
    }
   },
   "outputs": [
    {
     "data": {
      "text/html": [
       "<div>\n",
       "<style scoped>\n",
       "    .dataframe tbody tr th:only-of-type {\n",
       "        vertical-align: middle;\n",
       "    }\n",
       "\n",
       "    .dataframe tbody tr th {\n",
       "        vertical-align: top;\n",
       "    }\n",
       "\n",
       "    .dataframe thead th {\n",
       "        text-align: right;\n",
       "    }\n",
       "</style>\n",
       "<table border=\"1\" class=\"dataframe\">\n",
       "  <thead>\n",
       "    <tr style=\"text-align: right;\">\n",
       "      <th></th>\n",
       "      <th>USER_ID</th>\n",
       "      <th>COUNT</th>\n",
       "    </tr>\n",
       "  </thead>\n",
       "  <tbody>\n",
       "    <tr>\n",
       "      <th>130780</th>\n",
       "      <td>1635143</td>\n",
       "      <td>23.00</td>\n",
       "    </tr>\n",
       "    <tr>\n",
       "      <th>108481</th>\n",
       "      <td>1544719</td>\n",
       "      <td>19.00</td>\n",
       "    </tr>\n",
       "    <tr>\n",
       "      <th>157735</th>\n",
       "      <td>1775410</td>\n",
       "      <td>17.00</td>\n",
       "    </tr>\n",
       "    <tr>\n",
       "      <th>121597</th>\n",
       "      <td>1599008</td>\n",
       "      <td>15.00</td>\n",
       "    </tr>\n",
       "    <tr>\n",
       "      <th>8713</th>\n",
       "      <td>430741</td>\n",
       "      <td>11.00</td>\n",
       "    </tr>\n",
       "    <tr>\n",
       "      <th>...</th>\n",
       "      <td>...</td>\n",
       "      <td>...</td>\n",
       "    </tr>\n",
       "    <tr>\n",
       "      <th>56886</th>\n",
       "      <td>1160108</td>\n",
       "      <td>1.00</td>\n",
       "    </tr>\n",
       "    <tr>\n",
       "      <th>56887</th>\n",
       "      <td>1160109</td>\n",
       "      <td>1.00</td>\n",
       "    </tr>\n",
       "    <tr>\n",
       "      <th>56888</th>\n",
       "      <td>1160114</td>\n",
       "      <td>1.00</td>\n",
       "    </tr>\n",
       "    <tr>\n",
       "      <th>56889</th>\n",
       "      <td>1160128</td>\n",
       "      <td>1.00</td>\n",
       "    </tr>\n",
       "    <tr>\n",
       "      <th>165423</th>\n",
       "      <td>1830598</td>\n",
       "      <td>1.00</td>\n",
       "    </tr>\n",
       "  </tbody>\n",
       "</table>\n",
       "<p>165424 rows × 2 columns</p>\n",
       "</div>"
      ],
      "text/plain": [
       "        USER_ID  COUNT\n",
       "130780  1635143  23.00\n",
       "108481  1544719  19.00\n",
       "157735  1775410  17.00\n",
       "121597  1599008  15.00\n",
       "8713     430741  11.00\n",
       "...         ...    ...\n",
       "56886   1160108   1.00\n",
       "56887   1160109   1.00\n",
       "56888   1160114   1.00\n",
       "56889   1160128   1.00\n",
       "165423  1830598   1.00\n",
       "\n",
       "[165424 rows x 2 columns]"
      ]
     },
     "execution_count": 29,
     "metadata": {},
     "output_type": "execute_result"
    }
   ],
   "source": [
    "#USER_ID별 COUNT의 MEAN값\n",
    "df_uc=df[['USER_ID','COUNT']]\n",
    "df_ucmean=df_uc.groupby('USER_ID').mean().reset_index()\n",
    "df_ucmean.sort_values(by='COUNT',ascending=False)"
   ]
  },
  {
   "cell_type": "markdown",
   "id": "f8fdc61d",
   "metadata": {
    "slideshow": {
     "slide_type": "slide"
    }
   },
   "source": [
    "> **USER_ID 별로 COUNT 값의 크기가 다른 경향을 가지고 있음<br>\n",
    "상관관계를 가지고 있다고 할 수 있음**"
   ]
  },
  {
   "cell_type": "markdown",
   "id": "ce35fbfb",
   "metadata": {
    "slideshow": {
     "slide_type": "slide"
    }
   },
   "source": [
    "#### (2). JOIN_DATE와 목표변수(COUNT)의 관계"
   ]
  },
  {
   "cell_type": "code",
   "execution_count": 30,
   "id": "8354b4ec",
   "metadata": {
    "slideshow": {
     "slide_type": "skip"
    }
   },
   "outputs": [
    {
     "data": {
      "text/plain": [
       "<AxesSubplot:xlabel='JOIN_DATE'>"
      ]
     },
     "execution_count": 30,
     "metadata": {},
     "output_type": "execute_result"
    },
    {
     "data": {
      "image/png": "[encoded data removed]",
      "text/plain": [
       "<Figure size 432x288 with 1 Axes>"
      ]
     },
     "metadata": {
      "image/png": {
       "height": 251,
       "width": 367
      },
      "needs_background": "light"
     },
     "output_type": "display_data"
    }
   ],
   "source": [
    "df.plot(x='JOIN_DATE', y='COUNT')"
   ]
  },
  {
   "cell_type": "code",
   "execution_count": 31,
   "id": "2b8d1caa",
   "metadata": {
    "slideshow": {
     "slide_type": "skip"
    }
   },
   "outputs": [
    {
     "data": {
      "image/png": "[encoded data removed]",
      "text/plain": [
       "<Figure size 288x432 with 1 Axes>"
      ]
     },
     "metadata": {
      "image/png": {
       "height": 358,
       "width": 255
      },
      "needs_background": "light"
     },
     "output_type": "display_data"
    }
   ],
   "source": [
    "jx=df['JOIN_DATE']\n",
    "jy=df['COUNT']\n",
    "plt.figure(figsize=(4,6))\n",
    "plt.scatter(jx,jy)\n",
    "plt.show()"
   ]
  },
  {
   "cell_type": "markdown",
   "id": "231b1ae9",
   "metadata": {
    "slideshow": {
     "slide_type": "skip"
    }
   },
   "source": [
    ">**COUNT가 20 중반이상인 데이터는 특정날짜에 가입한 데이터들로 확인됨<br>\n",
    "즉 이날 D_TYPE을 CC로하는 대규모계약이 이루어졌을것으로 추정됨**"
   ]
  },
  {
   "cell_type": "code",
   "execution_count": 32,
   "id": "c4cf101b",
   "metadata": {
    "slideshow": {
     "slide_type": "skip"
    }
   },
   "outputs": [
    {
     "data": {
      "image/png": "[encoded data removed]",
      "text/plain": [
       "<Figure size 432x288 with 1 Axes>"
      ]
     },
     "metadata": {
      "image/png": {
       "height": 282,
       "width": 403
      },
      "needs_background": "light"
     },
     "output_type": "display_data"
    }
   ],
   "source": [
    "## 신규가입자와 이전 가입자 구분 COUNT 시각화\n",
    "# 신규 가입자 (0년~3년)만 따로 df_yearc 생성해서 확인\n",
    "sns.countplot(x='JOIN_DATE',data=df_yearc)\n",
    "plt.xlabel('가입햇수')\n",
    "plt.ylabel('COUNT')\n",
    "plt.title('가입햇수별 countplot', fontsize=15)\n",
    "plt.show()\n",
    "df_yearc['DATE_YEAR'] = df_yearc['DATE'].dt.to_period(freq=\"A\")\n",
    "df_yearc['DATE_YEAR'] = df_yearc['DATE_YEAR'].astype(str)\n",
    "df_yearc['DATE_YEAR'] = df_yearc['DATE_YEAR'].astype(int)\n",
    "df_yearc['JOIN_DATE'] = df_yearc['JOIN_DATE'].astype(int)\n",
    "years = []"
   ]
  },
  {
   "cell_type": "code",
   "execution_count": 33,
   "id": "9247f2d2",
   "metadata": {
    "slideshow": {
     "slide_type": "skip"
    }
   },
   "outputs": [],
   "source": [
    "# JOIN_DATE별 COUNT값\n",
    "#시각화용 데이터 프레임 생성\n",
    "df_g=df.copy()\n",
    "df_g.JOIN_DATE = pd.to_datetime(df.JOIN_DATE) \n",
    "df_g.DATE = pd.to_datetime(df.DATE)\n",
    "df_g.JOIN_DATE = df_g.JOIN_DATE.dt.to_period(freq=\"A\") # 나중에 원핫인코딩으로 바꾸자.\n",
    "df_g.JOIN_DATE = df_g.JOIN_DATE.astype(str)\n",
    "df_g[\"MONTH\"] = df_g.DATE.dt.strftime('%m')"
   ]
  },
  {
   "cell_type": "code",
   "execution_count": 34,
   "id": "da44da3e",
   "metadata": {
    "slideshow": {
     "slide_type": "slide"
    }
   },
   "outputs": [
    {
     "data": {
      "image/png": "[encoded data removed]",
      "text/plain": [
       "<Figure size 720x360 with 1 Axes>"
      ]
     },
     "metadata": {
      "image/png": {
       "height": 343,
       "width": 632
      },
      "needs_background": "light"
     },
     "output_type": "display_data"
    }
   ],
   "source": [
    "# JOIN_DATE별 COUNT값\n",
    "plt.figure(figsize=(10,5))\n",
    "sns.lineplot(df_g.groupby(\"JOIN_DATE\")[\"COUNT\"].sum().keys(),df_g.groupby(\"JOIN_DATE\")[\"COUNT\"].sum())\n",
    "plt.grid()\n",
    "plt.title('가입년도별 이용횟수', fontsize=18)\n",
    "plt.ylabel('이용횟수', fontsize=16)\n",
    "plt.xlabel('가입년도', fontsize=16)\n",
    "plt.show()"
   ]
  },
  {
   "cell_type": "markdown",
   "id": "cf646a11",
   "metadata": {
    "slideshow": {
     "slide_type": "slide"
    }
   },
   "source": [
    ">**가입년도 최근일 수록 월이용횟수가 증가하는 경향이 있음**"
   ]
  },
  {
   "cell_type": "markdown",
   "id": "238eb951",
   "metadata": {
    "slideshow": {
     "slide_type": "slide"
    }
   },
   "source": [
    "#### (3). D_TYPE과 목표변수(COUNT)의 관계"
   ]
  },
  {
   "cell_type": "code",
   "execution_count": 35,
   "id": "a623a5b6",
   "metadata": {
    "scrolled": true,
    "slideshow": {
     "slide_type": "slide"
    }
   },
   "outputs": [
    {
     "data": {
      "image/png": "[encoded data removed]",
      "text/plain": [
       "<Figure size 288x432 with 1 Axes>"
      ]
     },
     "metadata": {
      "image/png": {
       "height": 358,
       "width": 255
      },
      "needs_background": "light"
     },
     "output_type": "display_data"
    }
   ],
   "source": [
    "#D_TYPE과 목표변수와의 상관관계\n",
    "dx=df['D_TYPE']\n",
    "dy=df['COUNT']\n",
    "plt.figure(figsize=(4,6))\n",
    "plt.scatter(dx,dy)\n",
    "plt.show()"
   ]
  },
  {
   "cell_type": "markdown",
   "id": "d28ea0c2",
   "metadata": {
    "slideshow": {
     "slide_type": "skip"
    }
   },
   "source": [
    ">**COUNT가 25이상의 데이터는 전부 D_TYPE이 CC인 것을 확인할 수 있음<br>\n",
    "그러나 다른 컬럼의 영향이 있을 수 있어 다른방식의 접근 필요**"
   ]
  },
  {
   "cell_type": "code",
   "execution_count": 36,
   "id": "20638b0b",
   "metadata": {
    "slideshow": {
     "slide_type": "skip"
    }
   },
   "outputs": [
    {
     "data": {
      "text/html": [
       "<div>\n",
       "<style scoped>\n",
       "    .dataframe tbody tr th:only-of-type {\n",
       "        vertical-align: middle;\n",
       "    }\n",
       "\n",
       "    .dataframe tbody tr th {\n",
       "        vertical-align: top;\n",
       "    }\n",
       "\n",
       "    .dataframe thead th {\n",
       "        text-align: right;\n",
       "    }\n",
       "</style>\n",
       "<table border=\"1\" class=\"dataframe\">\n",
       "  <thead>\n",
       "    <tr style=\"text-align: right;\">\n",
       "      <th></th>\n",
       "      <th>D_TYPE</th>\n",
       "      <th>COUNTS</th>\n",
       "    </tr>\n",
       "  </thead>\n",
       "  <tbody>\n",
       "    <tr>\n",
       "      <th>0</th>\n",
       "      <td>AA</td>\n",
       "      <td>493166</td>\n",
       "    </tr>\n",
       "    <tr>\n",
       "      <th>1</th>\n",
       "      <td>BB</td>\n",
       "      <td>384541</td>\n",
       "    </tr>\n",
       "    <tr>\n",
       "      <th>2</th>\n",
       "      <td>CC</td>\n",
       "      <td>1198</td>\n",
       "    </tr>\n",
       "  </tbody>\n",
       "</table>\n",
       "</div>"
      ],
      "text/plain": [
       "  D_TYPE  COUNTS\n",
       "0     AA  493166\n",
       "1     BB  384541\n",
       "2     CC    1198"
      ]
     },
     "execution_count": 36,
     "metadata": {},
     "output_type": "execute_result"
    }
   ],
   "source": [
    "#D_TYPE별 COUNT의 COUNT값\n",
    "df_dc=df[['D_TYPE','COUNT']]\n",
    "df_dcc=df_dc.groupby('D_TYPE').count().reset_index()\n",
    "df_dcc.rename(columns={'COUNT':'COUNTS'},inplace=True)\n",
    "df_dcc"
   ]
  },
  {
   "cell_type": "code",
   "execution_count": 37,
   "id": "785fecc1",
   "metadata": {
    "slideshow": {
     "slide_type": "skip"
    }
   },
   "outputs": [
    {
     "data": {
      "text/html": [
       "<div>\n",
       "<style scoped>\n",
       "    .dataframe tbody tr th:only-of-type {\n",
       "        vertical-align: middle;\n",
       "    }\n",
       "\n",
       "    .dataframe tbody tr th {\n",
       "        vertical-align: top;\n",
       "    }\n",
       "\n",
       "    .dataframe thead th {\n",
       "        text-align: right;\n",
       "    }\n",
       "</style>\n",
       "<table border=\"1\" class=\"dataframe\">\n",
       "  <thead>\n",
       "    <tr style=\"text-align: right;\">\n",
       "      <th></th>\n",
       "      <th>D_TYPE</th>\n",
       "      <th>MAX_COUNT</th>\n",
       "    </tr>\n",
       "  </thead>\n",
       "  <tbody>\n",
       "    <tr>\n",
       "      <th>0</th>\n",
       "      <td>AA</td>\n",
       "      <td>23</td>\n",
       "    </tr>\n",
       "    <tr>\n",
       "      <th>1</th>\n",
       "      <td>BB</td>\n",
       "      <td>19</td>\n",
       "    </tr>\n",
       "    <tr>\n",
       "      <th>2</th>\n",
       "      <td>CC</td>\n",
       "      <td>4</td>\n",
       "    </tr>\n",
       "  </tbody>\n",
       "</table>\n",
       "</div>"
      ],
      "text/plain": [
       "  D_TYPE  MAX_COUNT\n",
       "0     AA         23\n",
       "1     BB         19\n",
       "2     CC          4"
      ]
     },
     "execution_count": 37,
     "metadata": {},
     "output_type": "execute_result"
    }
   ],
   "source": [
    "#D_TYPE별 COUNT의 MAX값\n",
    "df_dc=df[['D_TYPE','COUNT']]\n",
    "df_dcmax=df_dc.groupby('D_TYPE').max().reset_index()\n",
    "df_dcmax.rename(columns={'COUNT':'MAX_COUNT'},inplace=True)\n",
    "df_dcmax"
   ]
  },
  {
   "cell_type": "code",
   "execution_count": 38,
   "id": "13a2f3b7",
   "metadata": {
    "slideshow": {
     "slide_type": "slide"
    }
   },
   "outputs": [
    {
     "data": {
      "text/html": [
       "<div>\n",
       "<style scoped>\n",
       "    .dataframe tbody tr th:only-of-type {\n",
       "        vertical-align: middle;\n",
       "    }\n",
       "\n",
       "    .dataframe tbody tr th {\n",
       "        vertical-align: top;\n",
       "    }\n",
       "\n",
       "    .dataframe thead th {\n",
       "        text-align: right;\n",
       "    }\n",
       "</style>\n",
       "<table border=\"1\" class=\"dataframe\">\n",
       "  <thead>\n",
       "    <tr style=\"text-align: right;\">\n",
       "      <th></th>\n",
       "      <th>D_TYPE</th>\n",
       "      <th>MEAN_COUNT</th>\n",
       "    </tr>\n",
       "  </thead>\n",
       "  <tbody>\n",
       "    <tr>\n",
       "      <th>0</th>\n",
       "      <td>AA</td>\n",
       "      <td>1.02</td>\n",
       "    </tr>\n",
       "    <tr>\n",
       "      <th>1</th>\n",
       "      <td>BB</td>\n",
       "      <td>1.02</td>\n",
       "    </tr>\n",
       "    <tr>\n",
       "      <th>2</th>\n",
       "      <td>CC</td>\n",
       "      <td>1.04</td>\n",
       "    </tr>\n",
       "  </tbody>\n",
       "</table>\n",
       "</div>"
      ],
      "text/plain": [
       "  D_TYPE  MEAN_COUNT\n",
       "0     AA        1.02\n",
       "1     BB        1.02\n",
       "2     CC        1.04"
      ]
     },
     "execution_count": 38,
     "metadata": {},
     "output_type": "execute_result"
    }
   ],
   "source": [
    "#D_TYPE별 COUNT의 MEAN값\n",
    "df_dc=df[['D_TYPE','COUNT']]\n",
    "df_dcmean=df_dc.groupby('D_TYPE').mean().reset_index()\n",
    "df_dcmean.rename(columns={'COUNT':'MEAN_COUNT'},inplace=True)\n",
    "df_dcmean"
   ]
  },
  {
   "cell_type": "code",
   "execution_count": 39,
   "id": "add9e844",
   "metadata": {
    "slideshow": {
     "slide_type": "skip"
    }
   },
   "outputs": [
    {
     "data": {
      "text/html": [
       "<div>\n",
       "<style scoped>\n",
       "    .dataframe tbody tr th:only-of-type {\n",
       "        vertical-align: middle;\n",
       "    }\n",
       "\n",
       "    .dataframe tbody tr th {\n",
       "        vertical-align: top;\n",
       "    }\n",
       "\n",
       "    .dataframe thead th {\n",
       "        text-align: right;\n",
       "    }\n",
       "</style>\n",
       "<table border=\"1\" class=\"dataframe\">\n",
       "  <thead>\n",
       "    <tr style=\"text-align: right;\">\n",
       "      <th></th>\n",
       "      <th>D_TYPE</th>\n",
       "      <th>MEAN_COUNT</th>\n",
       "    </tr>\n",
       "  </thead>\n",
       "  <tbody>\n",
       "    <tr>\n",
       "      <th>0</th>\n",
       "      <td>AA</td>\n",
       "      <td>1.02</td>\n",
       "    </tr>\n",
       "    <tr>\n",
       "      <th>1</th>\n",
       "      <td>BB</td>\n",
       "      <td>1.02</td>\n",
       "    </tr>\n",
       "    <tr>\n",
       "      <th>2</th>\n",
       "      <td>CC</td>\n",
       "      <td>1.04</td>\n",
       "    </tr>\n",
       "  </tbody>\n",
       "</table>\n",
       "</div>"
      ],
      "text/plain": [
       "  D_TYPE  MEAN_COUNT\n",
       "0     AA        1.02\n",
       "1     BB        1.02\n",
       "2     CC        1.04"
      ]
     },
     "execution_count": 39,
     "metadata": {},
     "output_type": "execute_result"
    }
   ],
   "source": [
    "#D_TYPE별 COUNT의 MEAN값\n",
    "df1=df[df['USER_ID']!=999665]\n",
    "df1_dc=df1[['D_TYPE','COUNT']]\n",
    "df1_dcmean=df1_dc.groupby('D_TYPE').mean().reset_index()\n",
    "df1_dcmean.rename(columns={'COUNT':'MEAN_COUNT'},inplace=True)\n",
    "df1_dcmean"
   ]
  },
  {
   "cell_type": "markdown",
   "id": "34eab391",
   "metadata": {
    "slideshow": {
     "slide_type": "slide"
    }
   },
   "source": [
    ">**실제 D_TYPE별 이용횟수의 평균을 구하자 비슷하게 나옴\n",
    "다만 타입별 분포의 특이성을 고려해 컬럼으로 투입**"
   ]
  },
  {
   "cell_type": "markdown",
   "id": "59017509",
   "metadata": {
    "slideshow": {
     "slide_type": "slide"
    }
   },
   "source": [
    "#### (4). STORE_ID과 목표변수(COUNT)의 관계"
   ]
  },
  {
   "cell_type": "code",
   "execution_count": 40,
   "id": "a109b34c",
   "metadata": {
    "slideshow": {
     "slide_type": "slide"
    }
   },
   "outputs": [
    {
     "name": "stdout",
     "output_type": "stream",
     "text": [
      "GN 의 STORE_ID 리스트 :  [  1892   1900 220690  90542   2457 109839 204481 106329 104988  82407\n",
      "   2058 220660 104916  90444  96266 220685 204526 190054  90500    472\n",
      " 207620  90445  90545 131080 219913 109905  82430 207623 220071 220692\n",
      " 190483 220284 204444  90447 173872  90461 220582 220578 220700 220667\n",
      " 109832 173176  96257 220735 220607 104905 220612 109805 105345  82429\n",
      " 220087 109796 105426 106112 219977 220689 219886 204535 109768 220773\n",
      "  90433 220680 220635 106347 104985   1053 137450  90473 109526 220394\n",
      "  90448 203642 204443 204500 181817    607 109745 108963 220763 109801\n",
      " 109780 105424 220848 220850 108914 106355 220259 220377 220312 207629\n",
      "    453 220882 220971  83199 109877 220933 220906 190482 204458 220854\n",
      " 220962 221022 173848 221013  97305  97308 220628  90516 221045 222219\n",
      "    774 222210 219888 222301 222313 222317   1070 222381 222331 222819\n",
      " 223025 223012   1058 223141 223135 223650 223653 109819    456 228926\n",
      " 228941 228946 229411 228962 230736 230732 230836 230866 222238 106353\n",
      " 230998 231004  96255 231041 231045 231087 231406 231434 231428 231444]\n",
      "J 의 STORE_ID 리스트 :  [182009 109037  92510 220073 106129    647  92437 109421  92457  27996\n",
      " 220654 106076  82435  92305 181833 109400 105239 106153  82434 109423\n",
      " 203771 137463 220696 220805 173209 182008  97327 220608 220640 220610\n",
      "  92304 131225 182007 173268  92403 204341 108860   2076 189592 109414\n",
      " 220302  92471  96340 109401 204217 183301 203640 109419 105237 182014\n",
      " 220693 204548 109267 204463 220867 220771    500 220893 220897 220899\n",
      " 173183 220955 220018 221016  92474 109413 222339  28014 222361 222329\n",
      " 222269  92505 222403 222410 109422   2093 136910 223028 223054 223114\n",
      " 223128 223019 223110 223615 225649 223109 223129 228954 106328 181999\n",
      " 230216 230873 230909 230878 230995 223624 231010 230991 228943 227437\n",
      " 231095 223021 109341 231098 231043 220627 231430]\n",
      "SC 의 STORE_ID 리스트 :  [ 82431 102276  91156 203847 105033 182296 220695   1781 182335 219889\n",
      " 204207 181832 220724 182175 219890 188365 204208 220442 220683 220285\n",
      " 109991 110055 107969   2071 183110 205269 204534    466 203874 220451\n",
      " 220845 204946   2098 219841 220959 220980 220961 220972 222218 222216\n",
      " 221881 222206 222291 222246 222330 204519 222357 204409 223039 223085\n",
      "   1093 158176 223069 223133 223664 227424 228567 228953    161 230731\n",
      " 230871 230809 230839 230838 230993 230970 231033 231038 231040 231082\n",
      " 231420 231102]\n",
      "MP 의 STORE_ID 리스트 :  [   725   2334 220295 204949 219935 109160    564 203763 182013 190183\n",
      " 220074    635 204368 173060 204350 220661 220440 204420 220294 204592\n",
      " 111748 105301 109223 204962 204205 204593   2070 182242 182012 220634\n",
      "  91232 219968 220851 220853  91183   2102 184255    262 204464 220798\n",
      " 220994 221001 221018   2094 104075 222256 222272 222249 220985  91185\n",
      " 104067 222371 222377 222407 222835 223044 222276 222270 227433 230214\n",
      " 230740 230741 230814 230900 230954 230955 109226 231077 231079  91262\n",
      " 231119]\n",
      "JRR 의 STORE_ID 리스트 :  [220691 182320  82399 220655  92144  82401 220077 204547 220836    947\n",
      " 220734  92205  92011  28018 220719 182006  82400 220837  92027  92264\n",
      " 131201    801 220123 204218  92141  92171 102262 105198    179 220475\n",
      "   2096   1109    642    955  92037 204327  92211 220885 220966  92156\n",
      "      4  92166 220956 222268    943  92115      8 109677  92020 222390\n",
      "    353 228191 228942 230213 223665  92071 230916 230956 223667 231431\n",
      " 231465]\n",
      "YD 의 STORE_ID 리스트 :  [ 91885 172934  91853 182332 220070  91992  91845 219936 182064   2080\n",
      "   2479  91767 182010   2085 106190 203852  91908  91890 109148  96267\n",
      " 221017 221025 110172 222273 222274 222335 222318    295  91768 223023\n",
      " 225690 228188 228187 228936 223037 230903 231086 223074 227431 231142]\n",
      "GJ 의 STORE_ID 리스트 :  [220733 109555 190441 109557 219892 205209 220770 220791    978 220978\n",
      " 221003 221028 190266 222250 109050 158794 228955 230904 231141 231429\n",
      " 231105]\n",
      "YO 의 STORE_ID 리스트 :  [220557 131081 190172 105267 182227  96273 173059    822 220120 220857\n",
      " 219942 220957 222275 222247  91521  82436  83198    971 223136 220254\n",
      " 223138 109248 109251 227432 158238 222405 223661 230882 231048 230953\n",
      " 231071 231415]\n",
      "GSN 의 STORE_ID 리스트 :  [ 82408 219861 220611 220396 220286 110469 133167]\n",
      "GBC 의 STORE_ID 리스트 :  [110399 220787 220788 220045 220046 221042 221043 222833 223644 223621\n",
      " 227440 230193 228927 223646 220049]\n",
      "BF 의 STORE_ID 리스트 :  [105099   2364 220722 181777 219882 220721 186012 220576   2046 183113\n",
      " 181831 105319   2394 220687 185976 109954 220900 222258 220448 222426\n",
      " 109943 223058 181858 223668   1092 225640 227430 223076 230929 230967\n",
      " 230872 204970   2351 231427]\n",
      "DJ 의 STORE_ID 리스트 :  [ 82403 204438 109142 110069  90868 204467 223101 223093 182000 223169]\n",
      "0 의 STORE_ID 리스트 :  [220296 203766 157708 172827 173849 190306 203790 221896 204840 204453\n",
      " 219885 223082 223008]\n",
      "CD 의 STORE_ID 리스트 :  [ 90349 106114 137460 219838 110169 220954  48177 223094 222416 110206\n",
      "   2456 231068]\n",
      "NO 의 STORE_ID 리스트 :  [105202 220697 190426 190323 230938 231065]\n",
      "CY 의 STORE_ID 리스트 :  [109265  82433  93362   2428 190223 137452 220764 109659 220014 220042\n",
      " 105274 204591 219997 109266 157767 219867 220629 220989 109670 220967\n",
      " 220992 188369 204594 222401]\n",
      "YC 의 STORE_ID 리스트 :  [ 91628 110225   2097 220671 104062 219836 188368 222359]\n",
      "SD 의 STORE_ID 리스트 :  [ 91417  96253 220745  91446 222220 222278 222334 222356 220311 222415\n",
      " 188375 230915 230922 231037]\n",
      "GD 의 STORE_ID 리스트 :  [ 90070   1096 185978 221012  90061 204317 204318 222394 222806 225623\n",
      " 230737 230735 230910 231060 231106]\n",
      "GSW 의 STORE_ID 리스트 :  [110589 220747 220969 157742 110585]\n",
      "DM 의 STORE_ID 리스트 :  [109036 137454 220732 219949  90965  90928 220616 220382 207637 219839\n",
      " 220581 204958   1148 207638 219961 204479 223108 227429 223090 223177\n",
      " 223115 230968 222379   1774 231061 189098]\n",
      "R 의 STORE_ID 리스트 :  [157743   1985  90622 222277  90628 106109 231453]\n",
      "GB 의 STORE_ID 리스트 :  [  2090 157740 223017 223065 223026 133515]\n",
      "GS 의 STORE_ID 리스트 :  [ 93384 204539 204531 219852 207630 220431 204558 220300 183093 220365\n",
      " 220797 204559 204502 204461 188366 220914 220968  97312 220993 204450\n",
      " 222221 222233 222279 222425 223095 223107 223137 223139 188367 223158\n",
      " 225621  90356 225660 230810 220908 231059 231101]\n",
      "GHN 의 STORE_ID 리스트 :  [220792 220793 220076 220743 223183 223172 223627 231128 231130 231134]\n",
      "SB 의 STORE_ID 리스트 :  [190055 220301 222328 109465 223048 223143 223144]\n",
      "IND 의 STORE_ID 리스트 :  [108842 220703 220809 219986 220609 220444 222831 225612 225613]\n",
      "P 의 STORE_ID 리스트 :  [ 96260  91402 190065 220103 204216 222226 222271 223662 223658 227436]\n",
      "GW 의 STORE_ID 리스트 :  [ 90193  90152 110103 223111 223105 223106 231108]\n",
      "JR 의 STORE_ID 리스트 :  [106107 190188 203841 173968 223656 223652 230930]\n",
      "GEJ 의 STORE_ID 리스트 :  [106150 222400 223013 223016 223022 223020 227434]\n",
      "GGY 의 STORE_ID 리스트 :  [101119 105156 220283 221026]\n",
      "GKP 의 STORE_ID 리스트 :  [190274 220765 230190 230191 231029 220384 231115]\n",
      "CAS 의 STORE_ID 리스트 :  [220744 223035 223623]\n",
      "SG 의 STORE_ID 리스트 :  [220750 220806 220916 220915 222419 220706 182781]\n",
      "BJG 의 STORE_ID 리스트 :  [220333 219957  82446 182322 225616 225615 225652 225625 225624 225629\n",
      " 225643 225654 225619 225618 230908 225675]\n",
      "BHW 의 STORE_ID 리스트 :  [220310 182284 220553 222386  67813 225681 225684]\n",
      "GAY 의 STORE_ID 리스트 :  [110484 220746 203627 220808]\n",
      "GYI 의 STORE_ID 리스트 :  [220794 220385]\n",
      "CCA 의 STORE_ID 리스트 :  [220673 223626]\n",
      "PJP 의 STORE_ID 리스트 :  [220802 220769 220767 220748 222827 220785 230952]\n",
      "GGC 의 STORE_ID 리스트 :  [220807]\n",
      "IYS 의 STORE_ID 리스트 :  [182780 220774 230988 231127]\n",
      "DB 의 STORE_ID 리스트 :  [190224 222230 222208  90595 223030]\n",
      "GGM 의 STORE_ID 리스트 :  [220751 222235 223121 230849  96150]\n",
      "GAS 의 STORE_ID 리스트 :  [132827 219975 132812 221011 221021 132946 220290 110728]\n",
      "WOID 의 STORE_ID 리스트 :  [182864]\n",
      "DIV 의 STORE_ID 리스트 :  [220713 225667 225669]\n",
      "AOI 의 STORE_ID 리스트 :  [220742 220922 106119 220923 222358]\n",
      "COI 의 STORE_ID 리스트 :  [220894 220913 230947]\n",
      "GPJ 의 STORE_ID 리스트 :  [220932 220075 220934 225645 230821 230944 230913 230818 231132]\n",
      "SOI 의 STORE_ID 리스트 :  [220928]\n",
      "ABP 의 STORE_ID 리스트 :  [220921 223067 223071 230945 225650 225651 231135]\n",
      "DOI 의 STORE_ID 리스트 :  [220924 203835 190218 222378]\n",
      "WF 의 STORE_ID 리스트 :  [220960 223613 223165]\n",
      "BI 의 STORE_ID 리스트 :  [220752  48240 227438 222222 231034 231129 231032]\n",
      "ZP 의 STORE_ID 리스트 :  [220973 221040]\n",
      "EP 의 STORE_ID 리스트 :  [220974]\n"
     ]
    },
    {
     "name": "stdout",
     "output_type": "stream",
     "text": [
      "Q 의 STORE_ID 리스트 :  [221023 222283 223088 223084 157735 230911]\n",
      "BO 의 STORE_ID 리스트 :  [220919 223066 225646]\n",
      "ZE 의 STORE_ID 리스트 :  [220982 221894 219891 222352 222385 222384 223124 110138]\n",
      "RRR 의 STORE_ID 리스트 :  [108837]\n",
      "QGI 의 STORE_ID 리스트 :  [220383]\n",
      "DSO 의 STORE_ID 리스트 :  [220307 106256 225680  68628 225668 225639 230963]\n",
      "SOD 의 STORE_ID 리스트 :  [222333 223164 223654 223625 230937]\n",
      "BOI 의 STORE_ID 리스트 :  [222360 190210 223036]\n",
      "WT 의 STORE_ID 리스트 :  [223053 222423 230192 230942 230926 230932 230933 231403]\n",
      "BP 의 STORE_ID 리스트 :  [223073 222428]\n",
      "SP 의 STORE_ID 리스트 :  [181991 220705]\n",
      "CN 의 STORE_ID 리스트 :  [223166 222397 227435 227439]\n",
      "SJV 의 STORE_ID 리스트 :  [223666 225636 228960]\n",
      "SDU 의 STORE_ID 리스트 :  [225671 225674 225655 225656 225672 225670 231090 231091 225676]\n",
      "QH 의 STORE_ID 리스트 :  [223616 230935 231140 230996]\n",
      "BUD 의 STORE_ID 리스트 :  [223617]\n",
      "CU 의 STORE_ID 리스트 :  [230196 230902]\n",
      "VU 의 STORE_ID 리스트 :  [220783 230989]\n",
      "WAE 의 STORE_ID 리스트 :  [230734 230733]\n",
      "NW 의 STORE_ID 리스트 :  [225653]\n",
      "WH 의 STORE_ID 리스트 :  [230948 230969]\n",
      "GR 의 STORE_ID 리스트 :  [223622]\n",
      "X 의 STORE_ID 리스트 :  [230886]\n",
      "CVB 의 STORE_ID 리스트 :  [220709 231093]\n",
      "ADS 의 STORE_ID 리스트 :  [228200]\n",
      "VO 의 STORE_ID 리스트 :  [221002]\n"
     ]
    }
   ],
   "source": [
    "#STORE_ID와 AD1과의 상관관계\n",
    "ad1_list = df['AD1'].unique()\n",
    "for k in ad1_list :\n",
    "    new_df = df[df['AD1']==k]\n",
    "    print(k,\"의 STORE_ID 리스트 : \", new_df['STORE_ID'].unique())"
   ]
  },
  {
   "cell_type": "markdown",
   "id": "a0fdc993",
   "metadata": {
    "slideshow": {
     "slide_type": "slide"
    }
   },
   "source": [
    "> **STORE_ID는 AD1을 구성하는 데이터<br>\n",
    "따라서 AD1이 STORE_ID의 의미를 담고있음**"
   ]
  },
  {
   "cell_type": "markdown",
   "id": "25d05fca",
   "metadata": {
    "slideshow": {
     "slide_type": "slide"
    }
   },
   "source": [
    "#### (5). GOODS_TYPE과 목표변수(COUNT)의 관계"
   ]
  },
  {
   "cell_type": "code",
   "execution_count": 41,
   "id": "8dabdcbd",
   "metadata": {
    "slideshow": {
     "slide_type": "slide"
    }
   },
   "outputs": [
    {
     "data": {
      "image/png": "[encoded data removed]",
      "text/plain": [
       "<Figure size 288x432 with 1 Axes>"
      ]
     },
     "metadata": {
      "image/png": {
       "height": 358,
       "width": 255
      },
      "needs_background": "light"
     },
     "output_type": "display_data"
    }
   ],
   "source": [
    "#GOODS_TYPE과 목표변수와의 상관관계\n",
    "gx=df['GOODS_TYPE']\n",
    "gy=df['COUNT']\n",
    "plt.figure(figsize=(4,6))\n",
    "plt.scatter(gx,gy)\n",
    "plt.show()"
   ]
  },
  {
   "cell_type": "markdown",
   "id": "718293b1",
   "metadata": {
    "slideshow": {
     "slide_type": "skip"
    }
   },
   "source": [
    "> **GOODS_TYPE B는 낮은 COUNT를 기록하는 경향이 있음<br>\n",
    "40이상의 COUNT를 기록한 데이터는 GOODS_TYPE이 대부분 A값을 가짐<br>\n",
    "50이상의 COUNT를 기록한 데이터는 GOODS_TYPE이 모두 A값을 가짐<br>\n",
    "다른 변수에 의해 기록된 그래프일 확률이 있어 다른 방식의 접근 필요**"
   ]
  },
  {
   "cell_type": "code",
   "execution_count": 42,
   "id": "66830f31",
   "metadata": {
    "slideshow": {
     "slide_type": "skip"
    }
   },
   "outputs": [
    {
     "data": {
      "text/html": [
       "<div>\n",
       "<style scoped>\n",
       "    .dataframe tbody tr th:only-of-type {\n",
       "        vertical-align: middle;\n",
       "    }\n",
       "\n",
       "    .dataframe tbody tr th {\n",
       "        vertical-align: top;\n",
       "    }\n",
       "\n",
       "    .dataframe thead th {\n",
       "        text-align: right;\n",
       "    }\n",
       "</style>\n",
       "<table border=\"1\" class=\"dataframe\">\n",
       "  <thead>\n",
       "    <tr style=\"text-align: right;\">\n",
       "      <th></th>\n",
       "      <th>GOODS_TYPE</th>\n",
       "      <th>COUNTS</th>\n",
       "    </tr>\n",
       "  </thead>\n",
       "  <tbody>\n",
       "    <tr>\n",
       "      <th>0</th>\n",
       "      <td>A</td>\n",
       "      <td>609494</td>\n",
       "    </tr>\n",
       "    <tr>\n",
       "      <th>1</th>\n",
       "      <td>B</td>\n",
       "      <td>118541</td>\n",
       "    </tr>\n",
       "    <tr>\n",
       "      <th>2</th>\n",
       "      <td>C</td>\n",
       "      <td>131108</td>\n",
       "    </tr>\n",
       "    <tr>\n",
       "      <th>3</th>\n",
       "      <td>D</td>\n",
       "      <td>19762</td>\n",
       "    </tr>\n",
       "  </tbody>\n",
       "</table>\n",
       "</div>"
      ],
      "text/plain": [
       "  GOODS_TYPE  COUNTS\n",
       "0          A  609494\n",
       "1          B  118541\n",
       "2          C  131108\n",
       "3          D   19762"
      ]
     },
     "execution_count": 42,
     "metadata": {},
     "output_type": "execute_result"
    }
   ],
   "source": [
    "#GOODS_TYPE별 COUNT의 COUNT값\n",
    "df_gc=df[['GOODS_TYPE','COUNT']]\n",
    "df_gcc=df_gc.groupby('GOODS_TYPE').count().reset_index()\n",
    "df_gcc.rename(columns={'COUNT':'COUNTS'},inplace=True)\n",
    "df_gcc"
   ]
  },
  {
   "cell_type": "code",
   "execution_count": 43,
   "id": "4a16bad9",
   "metadata": {
    "slideshow": {
     "slide_type": "skip"
    }
   },
   "outputs": [
    {
     "data": {
      "text/html": [
       "<div>\n",
       "<style scoped>\n",
       "    .dataframe tbody tr th:only-of-type {\n",
       "        vertical-align: middle;\n",
       "    }\n",
       "\n",
       "    .dataframe tbody tr th {\n",
       "        vertical-align: top;\n",
       "    }\n",
       "\n",
       "    .dataframe thead th {\n",
       "        text-align: right;\n",
       "    }\n",
       "</style>\n",
       "<table border=\"1\" class=\"dataframe\">\n",
       "  <thead>\n",
       "    <tr style=\"text-align: right;\">\n",
       "      <th></th>\n",
       "      <th>GOODS_TYPE</th>\n",
       "      <th>MAX_COUNT</th>\n",
       "    </tr>\n",
       "  </thead>\n",
       "  <tbody>\n",
       "    <tr>\n",
       "      <th>0</th>\n",
       "      <td>A</td>\n",
       "      <td>23</td>\n",
       "    </tr>\n",
       "    <tr>\n",
       "      <th>1</th>\n",
       "      <td>B</td>\n",
       "      <td>23</td>\n",
       "    </tr>\n",
       "    <tr>\n",
       "      <th>2</th>\n",
       "      <td>C</td>\n",
       "      <td>10</td>\n",
       "    </tr>\n",
       "    <tr>\n",
       "      <th>3</th>\n",
       "      <td>D</td>\n",
       "      <td>5</td>\n",
       "    </tr>\n",
       "  </tbody>\n",
       "</table>\n",
       "</div>"
      ],
      "text/plain": [
       "  GOODS_TYPE  MAX_COUNT\n",
       "0          A         23\n",
       "1          B         23\n",
       "2          C         10\n",
       "3          D          5"
      ]
     },
     "execution_count": 43,
     "metadata": {},
     "output_type": "execute_result"
    }
   ],
   "source": [
    "#GOODS_TYPE별 COUNT의 MAX값\n",
    "df_gc=df[['GOODS_TYPE','COUNT']]\n",
    "df_gcmax=df_gc.groupby('GOODS_TYPE').max().reset_index()\n",
    "df_gcmax.rename(columns={'COUNT':'MAX_COUNT'},inplace=True)\n",
    "df_gcmax"
   ]
  },
  {
   "cell_type": "code",
   "execution_count": 44,
   "id": "d71c6fa2",
   "metadata": {
    "slideshow": {
     "slide_type": "slide"
    }
   },
   "outputs": [
    {
     "data": {
      "text/html": [
       "<div>\n",
       "<style scoped>\n",
       "    .dataframe tbody tr th:only-of-type {\n",
       "        vertical-align: middle;\n",
       "    }\n",
       "\n",
       "    .dataframe tbody tr th {\n",
       "        vertical-align: top;\n",
       "    }\n",
       "\n",
       "    .dataframe thead th {\n",
       "        text-align: right;\n",
       "    }\n",
       "</style>\n",
       "<table border=\"1\" class=\"dataframe\">\n",
       "  <thead>\n",
       "    <tr style=\"text-align: right;\">\n",
       "      <th></th>\n",
       "      <th>GOODS_TYPE</th>\n",
       "      <th>MEAN_COUNT</th>\n",
       "    </tr>\n",
       "  </thead>\n",
       "  <tbody>\n",
       "    <tr>\n",
       "      <th>0</th>\n",
       "      <td>A</td>\n",
       "      <td>1.02</td>\n",
       "    </tr>\n",
       "    <tr>\n",
       "      <th>1</th>\n",
       "      <td>B</td>\n",
       "      <td>1.01</td>\n",
       "    </tr>\n",
       "    <tr>\n",
       "      <th>2</th>\n",
       "      <td>C</td>\n",
       "      <td>1.03</td>\n",
       "    </tr>\n",
       "    <tr>\n",
       "      <th>3</th>\n",
       "      <td>D</td>\n",
       "      <td>1.02</td>\n",
       "    </tr>\n",
       "  </tbody>\n",
       "</table>\n",
       "</div>"
      ],
      "text/plain": [
       "  GOODS_TYPE  MEAN_COUNT\n",
       "0          A        1.02\n",
       "1          B        1.01\n",
       "2          C        1.03\n",
       "3          D        1.02"
      ]
     },
     "execution_count": 44,
     "metadata": {},
     "output_type": "execute_result"
    }
   ],
   "source": [
    "#GOODS_TYPE별 COUNT의 MEAN값\n",
    "df_gc=df[['GOODS_TYPE','COUNT']]\n",
    "df_gcmean=df_gc.groupby('GOODS_TYPE').mean().reset_index()\n",
    "df_gcmean.rename(columns={'COUNT':'MEAN_COUNT'},inplace=True)\n",
    "df_gcmean"
   ]
  },
  {
   "cell_type": "markdown",
   "id": "ceb3cbb8",
   "metadata": {
    "slideshow": {
     "slide_type": "slide"
    }
   },
   "source": [
    ">**실제 GOODS_TYPE별 이용횟수의 평균을 구하자 비슷하게 나옴<br>\n",
    "다만 타입별 분포의 특이성을 고려해 컬럼으로 투입**"
   ]
  },
  {
   "cell_type": "markdown",
   "id": "7939694e",
   "metadata": {
    "slideshow": {
     "slide_type": "slide"
    }
   },
   "source": [
    "#### (6). DATE와 목표변수(COUNT)의 관계"
   ]
  },
  {
   "cell_type": "code",
   "execution_count": 45,
   "id": "9f3ee8ff",
   "metadata": {
    "slideshow": {
     "slide_type": "skip"
    }
   },
   "outputs": [
    {
     "data": {
      "image/png": "[encoded data removed]",
      "text/plain": [
       "<Figure size 432x288 with 1 Axes>"
      ]
     },
     "metadata": {
      "image/png": {
       "height": 283,
       "width": 398
      },
      "needs_background": "light"
     },
     "output_type": "display_data"
    }
   ],
   "source": [
    "## 이윤지님 코드\n",
    "sns.countplot(x=df_yearc['MONTH'],data=df_yearc)\n",
    "plt.xticks(rotation=90)\n",
    "plt.xlabel('결제월')\n",
    "plt.ylabel('COUNT')\n",
    "plt.title('결제월별 countplot', fontsize=15)\n",
    "plt.show()"
   ]
  },
  {
   "cell_type": "code",
   "execution_count": 46,
   "id": "ad279418",
   "metadata": {
    "slideshow": {
     "slide_type": "slide"
    }
   },
   "outputs": [
    {
     "data": {
      "image/png": "[encoded data removed]",
      "text/plain": [
       "<Figure size 720x360 with 1 Axes>"
      ]
     },
     "metadata": {
      "image/png": {
       "height": 343,
       "width": 612
      },
      "needs_background": "light"
     },
     "output_type": "display_data"
    }
   ],
   "source": [
    "# 월별로 이용횟수 수 파악\n",
    "plt.figure(figsize=(10,5))\n",
    "sns.lineplot(df_g['MONTH'].unique(),df_g.groupby(\"MONTH\")[\"USER_ID\"].sum()) # 2010년   \n",
    "plt.grid()\n",
    "plt.xticks(np.arange(1, 12, step=1)) # 월이면 1~12 / 주간이면 1~53 / ~~\n",
    "plt.title('월별 이용자 수', fontsize=18)\n",
    "plt.ylabel('이용자수', fontsize=16)\n",
    "plt.xlabel('월', fontsize=16)\n",
    "plt.show()"
   ]
  },
  {
   "cell_type": "markdown",
   "id": "cadd0643",
   "metadata": {
    "slideshow": {
     "slide_type": "slide"
    }
   },
   "source": [
    ">**서비스 이용날짜가 최근에 가까워짐에 따라 COUNT의 수가 커지는 경향을 보임<br>**\n",
    ">**시계열 순으로 train과 test를 분리했고 기간내 계절과 연의 순환이 없음<br>\n",
    "주중과 주말 및 공휴일에 차이가 있지않을까?**"
   ]
  },
  {
   "cell_type": "code",
   "execution_count": 47,
   "id": "a97db6fb",
   "metadata": {
    "slideshow": {
     "slide_type": "skip"
    }
   },
   "outputs": [],
   "source": [
    "df_day=pd.read_csv('실전db.csv', encoding='cp949')\n",
    "# 이상치(일반적인 이용자라고 추정할 수 없는 USER_ID) 제거\n",
    "df_day=df_day[df_day[\"USER_ID\"] != 999665]\n",
    "df_day=df_day.reset_index()\n",
    "df_day.drop(['index'], axis=1, inplace=True)"
   ]
  },
  {
   "cell_type": "code",
   "execution_count": 48,
   "id": "0e020557",
   "metadata": {
    "slideshow": {
     "slide_type": "skip"
    }
   },
   "outputs": [],
   "source": [
    "df_day.JOIN_DATE = pd.to_datetime(df_day.JOIN_DATE) \n",
    "df_day.DATE = pd.to_datetime(df_day.DATE)\n",
    "holiday_list = ['2020-01-01','2020-01-24','2020-01-25','2020-01-26','2020-01-27','2020-03-01',\n",
    "                '2020-05-05','2020-04-15','2020-04-30','2020-06-06','2020-08-15','2020-09-30','2020-10-01',\n",
    "                '2020-10-02','2020-10-03','2020-10-09','2020-12-25']"
   ]
  },
  {
   "cell_type": "code",
   "execution_count": 49,
   "id": "647599e2",
   "metadata": {
    "slideshow": {
     "slide_type": "skip"
    }
   },
   "outputs": [],
   "source": [
    "# 공휴일 컬럼 만들기\n",
    "# 2020년 휴일 리스트\n",
    "holiday_list = ['2020-01-01', '2020-01-24', '2020-01-25', '2020-01-26', '2020-01-27', '2020-03-01', '2020-05-05', '2020-04-15', '2020-04-30', '2020-06-06', '2020-08-15', '2020-09-30', '2020-10-01', '2020-10-02', '2020-10-03', '2020-10-09', '2020-12-25']\n",
    "day_type_list = []\n",
    "for z in range(len(df_day)) :\n",
    "    if df_day['DATE'].loc[z].strftime('%Y-%m-%d') in holiday_list :\n",
    "        day_type_list.append(\"공휴일\")         \n",
    "    elif df_day['DATE'].loc[z].weekday() > 4 :\n",
    "        day_type_list.append(\"주말\")        \n",
    "    else :\n",
    "        day_type_list.append(\"주중\")          \n",
    "df_day[\"DAY_TYPE\"] = day_type_list "
   ]
  },
  {
   "cell_type": "code",
   "execution_count": 50,
   "id": "1b5909ca",
   "metadata": {
    "slideshow": {
     "slide_type": "skip"
    }
   },
   "outputs": [],
   "source": [
    "# DAY TYPE별 분류\n",
    "df_day_0= df_day[df_day['DAY_TYPE']=='주말']\n",
    "df_day_1= df_day[df_day['DAY_TYPE']=='공휴일']\n",
    "df_day_2= df_day[df_day['DAY_TYPE']=='주중']"
   ]
  },
  {
   "cell_type": "code",
   "execution_count": 51,
   "id": "895d7e2d",
   "metadata": {
    "slideshow": {
     "slide_type": "skip"
    }
   },
   "outputs": [],
   "source": [
    "# COUNT와 요일별 연관성 파악\n",
    "def day_count(df) :\n",
    "    print(df[\"DAY_TYPE\"].iloc[0],\"데이터입니다.\\n\")\n",
    "    new_df_4 = df[df[\"COUNT\"] > 4]\n",
    "    print(\"데이터 중 4보다 큰 COUNT 항의 개수 :\",len(new_df_4))\n",
    "    new_df_1 = df[df[\"COUNT\"] > 1]\n",
    "    print(\"데이터 중 1보다 큰 COUNT 항의 개수 :\",len(new_df_1),\"\\n\")\n",
    "    print(\"전체 주말데이터의 개수 :\", len(df))\n",
    "    print('데이터 중 5회 이상 사용한 사람의 비율 :',(len(new_df_4)/len(df))*100)\n",
    "    print('데이터 중 2회 이상 사용한 사람의 비율 :',(len(new_df_1)/len(df))*100)\n",
    "\n",
    "    print()\n",
    "    print()"
   ]
  },
  {
   "cell_type": "code",
   "execution_count": 52,
   "id": "3edcc932",
   "metadata": {
    "slideshow": {
     "slide_type": "slide"
    }
   },
   "outputs": [
    {
     "name": "stdout",
     "output_type": "stream",
     "text": [
      "주말 데이터입니다.\n",
      "\n",
      "데이터 중 4보다 큰 COUNT 항의 개수 : 106\n",
      "데이터 중 1보다 큰 COUNT 항의 개수 : 3721 \n",
      "\n",
      "전체 주말데이터의 개수 : 208282\n",
      "데이터 중 5회 이상 사용한 사람의 비율 : 0.05089253992183674\n",
      "데이터 중 2회 이상 사용한 사람의 비율 : 1.7865201985769292\n",
      "\n",
      "\n"
     ]
    }
   ],
   "source": [
    "#주말과 COUNT의 관계\n",
    "day_count(df_day_0)"
   ]
  },
  {
   "cell_type": "code",
   "execution_count": 53,
   "id": "0813a78c",
   "metadata": {
    "slideshow": {
     "slide_type": "slide"
    }
   },
   "outputs": [
    {
     "name": "stdout",
     "output_type": "stream",
     "text": [
      "공휴일 데이터입니다.\n",
      "\n",
      "데이터 중 4보다 큰 COUNT 항의 개수 : 7\n",
      "데이터 중 1보다 큰 COUNT 항의 개수 : 472 \n",
      "\n",
      "전체 주말데이터의 개수 : 25218\n",
      "데이터 중 5회 이상 사용한 사람의 비율 : 0.02775795067015624\n",
      "데이터 중 2회 이상 사용한 사람의 비율 : 1.871678959473392\n",
      "\n",
      "\n"
     ]
    }
   ],
   "source": [
    "#공휴일과 COUNT의 관계\n",
    "day_count(df_day_1)"
   ]
  },
  {
   "cell_type": "code",
   "execution_count": 54,
   "id": "11328f7e",
   "metadata": {
    "slideshow": {
     "slide_type": "slide"
    }
   },
   "outputs": [
    {
     "name": "stdout",
     "output_type": "stream",
     "text": [
      "주중 데이터입니다.\n",
      "\n",
      "데이터 중 4보다 큰 COUNT 항의 개수 : 167\n",
      "데이터 중 1보다 큰 COUNT 항의 개수 : 10937 \n",
      "\n",
      "전체 주말데이터의 개수 : 645405\n",
      "데이터 중 5회 이상 사용한 사람의 비율 : 0.025875225633516942\n",
      "데이터 중 2회 이상 사용한 사람의 비율 : 1.6945948667890702\n",
      "\n",
      "\n"
     ]
    }
   ],
   "source": [
    "#주중과 COUNT의 관계\n",
    "day_count(df_day_2)"
   ]
  },
  {
   "cell_type": "markdown",
   "id": "945913fa",
   "metadata": {
    "slideshow": {
     "slide_type": "slide"
    }
   },
   "source": [
    ">**주중, 주말, 공휴일간 COUNT의 수가 차이 있음<br>\n",
    "DAY_TYPE에 따른 상관관계 존재**"
   ]
  },
  {
   "cell_type": "markdown",
   "id": "ef25fccc",
   "metadata": {
    "slideshow": {
     "slide_type": "slide"
    }
   },
   "source": [
    "#### (7). AD1과 목표변수(COUNT)의 관계"
   ]
  },
  {
   "cell_type": "code",
   "execution_count": 55,
   "id": "3e227cfa",
   "metadata": {
    "slideshow": {
     "slide_type": "skip"
    }
   },
   "outputs": [
    {
     "data": {
      "text/html": [
       "<div>\n",
       "<style scoped>\n",
       "    .dataframe tbody tr th:only-of-type {\n",
       "        vertical-align: middle;\n",
       "    }\n",
       "\n",
       "    .dataframe tbody tr th {\n",
       "        vertical-align: top;\n",
       "    }\n",
       "\n",
       "    .dataframe thead th {\n",
       "        text-align: right;\n",
       "    }\n",
       "</style>\n",
       "<table border=\"1\" class=\"dataframe\">\n",
       "  <thead>\n",
       "    <tr style=\"text-align: right;\">\n",
       "      <th></th>\n",
       "      <th>AD1</th>\n",
       "      <th>COUNT</th>\n",
       "    </tr>\n",
       "  </thead>\n",
       "  <tbody>\n",
       "    <tr>\n",
       "      <th>0</th>\n",
       "      <td>0</td>\n",
       "      <td>3</td>\n",
       "    </tr>\n",
       "    <tr>\n",
       "      <th>1</th>\n",
       "      <td>ABP</td>\n",
       "      <td>2</td>\n",
       "    </tr>\n",
       "    <tr>\n",
       "      <th>2</th>\n",
       "      <td>ADS</td>\n",
       "      <td>1</td>\n",
       "    </tr>\n",
       "    <tr>\n",
       "      <th>3</th>\n",
       "      <td>AOI</td>\n",
       "      <td>1</td>\n",
       "    </tr>\n",
       "    <tr>\n",
       "      <th>4</th>\n",
       "      <td>BF</td>\n",
       "      <td>7</td>\n",
       "    </tr>\n",
       "    <tr>\n",
       "      <th>...</th>\n",
       "      <td>...</td>\n",
       "      <td>...</td>\n",
       "    </tr>\n",
       "    <tr>\n",
       "      <th>79</th>\n",
       "      <td>YC</td>\n",
       "      <td>3</td>\n",
       "    </tr>\n",
       "    <tr>\n",
       "      <th>80</th>\n",
       "      <td>YD</td>\n",
       "      <td>9</td>\n",
       "    </tr>\n",
       "    <tr>\n",
       "      <th>81</th>\n",
       "      <td>YO</td>\n",
       "      <td>8</td>\n",
       "    </tr>\n",
       "    <tr>\n",
       "      <th>82</th>\n",
       "      <td>ZE</td>\n",
       "      <td>4</td>\n",
       "    </tr>\n",
       "    <tr>\n",
       "      <th>83</th>\n",
       "      <td>ZP</td>\n",
       "      <td>1</td>\n",
       "    </tr>\n",
       "  </tbody>\n",
       "</table>\n",
       "<p>84 rows × 2 columns</p>\n",
       "</div>"
      ],
      "text/plain": [
       "    AD1  COUNT\n",
       "0     0      3\n",
       "1   ABP      2\n",
       "2   ADS      1\n",
       "3   AOI      1\n",
       "4    BF      7\n",
       "..  ...    ...\n",
       "79   YC      3\n",
       "80   YD      9\n",
       "81   YO      8\n",
       "82   ZE      4\n",
       "83   ZP      1\n",
       "\n",
       "[84 rows x 2 columns]"
      ]
     },
     "execution_count": 55,
     "metadata": {},
     "output_type": "execute_result"
    }
   ],
   "source": [
    "#AD1별 COUNT의 MAX값\n",
    "df_ac=df[['AD1','COUNT']]\n",
    "df_acmax=df_ac.groupby('AD1').max().reset_index()\n",
    "df_acmax"
   ]
  },
  {
   "cell_type": "code",
   "execution_count": 56,
   "id": "af4c40ec",
   "metadata": {
    "slideshow": {
     "slide_type": "skip"
    }
   },
   "outputs": [
    {
     "data": {
      "text/html": [
       "<div>\n",
       "<style scoped>\n",
       "    .dataframe tbody tr th:only-of-type {\n",
       "        vertical-align: middle;\n",
       "    }\n",
       "\n",
       "    .dataframe tbody tr th {\n",
       "        vertical-align: top;\n",
       "    }\n",
       "\n",
       "    .dataframe thead th {\n",
       "        text-align: right;\n",
       "    }\n",
       "</style>\n",
       "<table border=\"1\" class=\"dataframe\">\n",
       "  <thead>\n",
       "    <tr style=\"text-align: right;\">\n",
       "      <th></th>\n",
       "      <th>AD1</th>\n",
       "      <th>COUNT</th>\n",
       "    </tr>\n",
       "  </thead>\n",
       "  <tbody>\n",
       "    <tr>\n",
       "      <th>0</th>\n",
       "      <td>0</td>\n",
       "      <td>1.01</td>\n",
       "    </tr>\n",
       "    <tr>\n",
       "      <th>1</th>\n",
       "      <td>ABP</td>\n",
       "      <td>1.01</td>\n",
       "    </tr>\n",
       "    <tr>\n",
       "      <th>2</th>\n",
       "      <td>ADS</td>\n",
       "      <td>1.00</td>\n",
       "    </tr>\n",
       "    <tr>\n",
       "      <th>3</th>\n",
       "      <td>AOI</td>\n",
       "      <td>1.00</td>\n",
       "    </tr>\n",
       "    <tr>\n",
       "      <th>4</th>\n",
       "      <td>BF</td>\n",
       "      <td>1.02</td>\n",
       "    </tr>\n",
       "    <tr>\n",
       "      <th>...</th>\n",
       "      <td>...</td>\n",
       "      <td>...</td>\n",
       "    </tr>\n",
       "    <tr>\n",
       "      <th>79</th>\n",
       "      <td>YC</td>\n",
       "      <td>1.01</td>\n",
       "    </tr>\n",
       "    <tr>\n",
       "      <th>80</th>\n",
       "      <td>YD</td>\n",
       "      <td>1.02</td>\n",
       "    </tr>\n",
       "    <tr>\n",
       "      <th>81</th>\n",
       "      <td>YO</td>\n",
       "      <td>1.02</td>\n",
       "    </tr>\n",
       "    <tr>\n",
       "      <th>82</th>\n",
       "      <td>ZE</td>\n",
       "      <td>1.04</td>\n",
       "    </tr>\n",
       "    <tr>\n",
       "      <th>83</th>\n",
       "      <td>ZP</td>\n",
       "      <td>1.00</td>\n",
       "    </tr>\n",
       "  </tbody>\n",
       "</table>\n",
       "<p>84 rows × 2 columns</p>\n",
       "</div>"
      ],
      "text/plain": [
       "    AD1  COUNT\n",
       "0     0   1.01\n",
       "1   ABP   1.01\n",
       "2   ADS   1.00\n",
       "3   AOI   1.00\n",
       "4    BF   1.02\n",
       "..  ...    ...\n",
       "79   YC   1.01\n",
       "80   YD   1.02\n",
       "81   YO   1.02\n",
       "82   ZE   1.04\n",
       "83   ZP   1.00\n",
       "\n",
       "[84 rows x 2 columns]"
      ]
     },
     "execution_count": 56,
     "metadata": {},
     "output_type": "execute_result"
    }
   ],
   "source": [
    "#AD1별 COUNT의 MEAN값\n",
    "df_ac=df[['AD1','COUNT']]\n",
    "df_acmean=df_ac.groupby('AD1').mean().reset_index()\n",
    "df_acmean"
   ]
  },
  {
   "cell_type": "markdown",
   "id": "c7509fc6",
   "metadata": {
    "slideshow": {
     "slide_type": "slide"
    }
   },
   "source": [
    ">**AD1의 이니셜은 지역이니셜이 아닐까?<br>\n",
    "서울지역은 비서울지역보다 평균적으로 COUNT가 높은 경향을 가지지 않을까?**"
   ]
  },
  {
   "cell_type": "code",
   "execution_count": 57,
   "id": "40f96556",
   "metadata": {
    "slideshow": {
     "slide_type": "slide"
    }
   },
   "outputs": [
    {
     "name": "stdout",
     "output_type": "stream",
     "text": [
      "서울 AD1 STORE_ID 평균 개수 : 28.64\n",
      "서울 외 AD1 STORE_ID 평균 개수 : 5.733333333333333\n"
     ]
    }
   ],
   "source": [
    "seoul=['JR', 'J', 'YO', 'SOD', 'GJ', 'DM', 'JRR', 'SB', 'GB', 'DB', 'NW', 'EP', 'SD', 'MP', 'YC', 'GS', 'GR', 'GHN', 'YD', 'DJ', 'GW', 'SC', 'GN', 'SP', 'GD']\n",
    "in_seoul = []\n",
    "out_of_seoul = []\n",
    "for x in df['AD1'].unique() :\n",
    "    new_df = df[df['AD1']==x]\n",
    "    if x in seoul :\n",
    "        in_seoul.append(new_df['STORE_ID'].nunique())\n",
    "    else :\n",
    "        out_of_seoul.append(new_df['STORE_ID'].nunique())\n",
    "\n",
    "print(\"서울 AD1 STORE_ID 평균 개수 :\",sum(in_seoul)/25)\n",
    "print(\"서울 외 AD1 STORE_ID 평균 개수 :\",sum(out_of_seoul)/60)"
   ]
  },
  {
   "cell_type": "markdown",
   "id": "1caf7b3b",
   "metadata": {
    "slideshow": {
     "slide_type": "slide"
    }
   },
   "source": [
    ">**AD1의 이니셜은 서울인것으로 추정됨**"
   ]
  },
  {
   "cell_type": "code",
   "execution_count": 58,
   "id": "b160cb34",
   "metadata": {
    "slideshow": {
     "slide_type": "slide"
    }
   },
   "outputs": [
    {
     "name": "stdout",
     "output_type": "stream",
     "text": [
      "서울 AD1 COUNT 평균 개수 : 1.0203977600789558 서울 AD1 COUNT MAX값 : 23\n",
      "서울 외 AD1 COUNT 평균 개수 : 1.0214825306893296 서울 AD1 COUNT MAX값 : 15\n"
     ]
    }
   ],
   "source": [
    "sc=0\n",
    "ns=0\n",
    "nsc=0\n",
    "nns=0\n",
    "ms=0\n",
    "mns=0\n",
    "for i in df.index:\n",
    "        val = df.loc[i, 'AD1']\n",
    "        if val in seoul :\n",
    "            sc=sc+df.loc[i,'COUNT']\n",
    "            if df.loc[i,'COUNT']>ms :\n",
    "                ms=df.loc[i,'COUNT']\n",
    "            ns=ns+1\n",
    "        else :\n",
    "            nsc=nsc+df.loc[i,'COUNT']\n",
    "            if df.loc[i,'COUNT']>mns :\n",
    "                mns=df.loc[i,'COUNT']\n",
    "            nns=nns+1\n",
    "\n",
    "print(\"서울 AD1 COUNT 평균 개수 :\",sc/ns,\"서울 AD1 COUNT MAX값 :\",ms)\n",
    "print(\"서울 외 AD1 COUNT 평균 개수 :\",nsc/nns,\"서울 AD1 COUNT MAX값 :\",mns)"
   ]
  },
  {
   "cell_type": "markdown",
   "id": "dff45b8b",
   "metadata": {
    "slideshow": {
     "slide_type": "slide"
    }
   },
   "source": [
    ">**GOODS_TYPE, D_TYPE과 마찬가지로 타입별 분포의 특이성을 고려해 컬럼으로 투입**"
   ]
  },
  {
   "cell_type": "markdown",
   "id": "3785753f",
   "metadata": {
    "slideshow": {
     "slide_type": "slide"
    }
   },
   "source": [
    "#### (8). 날씨데이터와 목표변수(COUNT)의 관계"
   ]
  },
  {
   "cell_type": "code",
   "execution_count": 59,
   "id": "b7074082",
   "metadata": {
    "slideshow": {
     "slide_type": "skip"
    }
   },
   "outputs": [],
   "source": [
    "#기상데이터\n",
    "df_w=pd.read_csv('서울시_기상데이터.csv', encoding='cp949')\n",
    "# 기상청 센서 기준 NaN 값은 0으로 판단\n",
    "df_w=df_w.fillna(0)\n",
    "# 일시 컬럼을 일자와 시간으로 분리 \n",
    "df_w['일자']=0\n",
    "for i in range(len(df_w)):\n",
    "    df_w['일자'][i] = df_w['일시'].iloc[i][:10]\n",
    "    df_w['시간'] = 0\n",
    "for i in range(len(df_w)):\n",
    "    df_w['시간'][i] = df_w['일시'].iloc[i][11:]\n",
    "#컬럼정리 \n",
    "df_w = df_w[['일시','일자','시간', '기온','강수량','적설량']]\n",
    "# datetime 형식으로 자료형 바꿔주기\n",
    "df_w['일자'] = pd.to_datetime(df_w['일자'])\n",
    "# 요일 컬럼 넣어주기 (월요일:0 ~ 일요일:6)\n",
    "# 주말(토,일)은 5,6\n",
    "df_w['요일'] = df_w['일자'].dt.weekday\n",
    "# 공휴일은 주말로 바꿔주기\n",
    "holiday_list = ['2020-01-01','2020-01-24','2020-01-25','2020-01-26','2020-01-27', \n",
    "                '2020-03-01','2020-05-05','2020-04-15','2020-04-30','2020-06-06', \n",
    "                '2020-08-15','2020-09-30','2020-10-01','2020-10-02','2020-10-03', \n",
    "                '2020-10-09','2020-12-25']\n",
    "for zz in range(len(df_w)) :\n",
    "    if df_w['일자'].loc[zz].strftime('%Y-%m-%d') in holiday_list :\n",
    "        df_w['요일'].loc[zz] = 6\n",
    "\n",
    "# 평일\n",
    "weekday = df_w[(df_w['요일'] != 5) & (df_w['요일'] != 6)]\n",
    "# 주중에는 오전 7시로 선택 \n",
    "weekday = weekday[(weekday['시간']=='7:00')]\n",
    "# 강수여부 컬럼 생성\n",
    "weekday['강수여부'] = 0\n",
    "for i in range(len(weekday)):\n",
    "    if weekday['강수량'].iloc[i] > 0.0:\n",
    "        weekday['강수여부'].iloc[i] = 1\n",
    "    if weekday['적설량'].iloc[i] > 0.0:\n",
    "        weekday['강수여부'].iloc[i] = 1\n",
    "\n",
    "# 주말\n",
    "weekend = df_w[(df_w['요일'] == 5) | (df_w['요일'] == 6)]\n",
    "# 주말에는 12시 기준으로 선택\n",
    "weekend = weekend[(weekend['시간']=='12:00')]\n",
    "# 강수여부 컬럼 생성\n",
    "weekend['강수여부'] = 0\n",
    "for i in range(len(weekend)):\n",
    "    if weekend['강수량'].iloc[i] != 0.0:\n",
    "        weekend['강수여부'].iloc[i] = 1\n",
    "    if weekend['적설량'].iloc[i] != 0.0:\n",
    "        weekend['강수여부'].iloc[i] = 1\n",
    "\n",
    "# 주중 주말 합쳐서 하나의 데이터프레임 만들기\n",
    "everyday = pd.concat([weekday, weekend], ignore_index=True )\n",
    "everyday.sort_values(by=['일자'], axis=0, inplace=True, ignore_index=True)\n",
    "raining_day = everyday[['일자', '강수여부']]\n",
    "\n",
    "# 폭염과 한파 \n",
    "temperatures = df_w[(df_w['기온'] > 33) | (df_w['기온'] < -12)]\n",
    "day = list(temperatures['일자'].unique())\n",
    "# 이상 기온 여부 구분\n",
    "everyday['이상기온'] =0 \n",
    "for i in range(len(everyday)):\n",
    "    if everyday['일자'].iloc[i] in day:\n",
    "        everyday['이상기온'].iloc[i] = 1   \n",
    "# 최종 강수여부, 이상기온 여부 데이터프레임\n",
    "weather_col=everyday[['일자', '강수여부','이상기온']]\n",
    "# 마지막 누락된 데이터 추가\n",
    "weather_col.loc[365] = ['2020-12-31 00:00:00', 0, 1]\n",
    "weather_col['일자'] = pd.to_datetime(weather_col['일자'])"
   ]
  },
  {
   "cell_type": "code",
   "execution_count": 60,
   "id": "5971c73f",
   "metadata": {
    "slideshow": {
     "slide_type": "skip"
    }
   },
   "outputs": [
    {
     "data": {
      "text/html": [
       "<div>\n",
       "<style scoped>\n",
       "    .dataframe tbody tr th:only-of-type {\n",
       "        vertical-align: middle;\n",
       "    }\n",
       "\n",
       "    .dataframe tbody tr th {\n",
       "        vertical-align: top;\n",
       "    }\n",
       "\n",
       "    .dataframe thead th {\n",
       "        text-align: right;\n",
       "    }\n",
       "</style>\n",
       "<table border=\"1\" class=\"dataframe\">\n",
       "  <thead>\n",
       "    <tr style=\"text-align: right;\">\n",
       "      <th></th>\n",
       "      <th>일자</th>\n",
       "      <th>강수여부</th>\n",
       "      <th>이상기온</th>\n",
       "    </tr>\n",
       "  </thead>\n",
       "  <tbody>\n",
       "    <tr>\n",
       "      <th>0</th>\n",
       "      <td>2020-01-01</td>\n",
       "      <td>1</td>\n",
       "      <td>0</td>\n",
       "    </tr>\n",
       "    <tr>\n",
       "      <th>1</th>\n",
       "      <td>2020-01-02</td>\n",
       "      <td>0</td>\n",
       "      <td>0</td>\n",
       "    </tr>\n",
       "    <tr>\n",
       "      <th>2</th>\n",
       "      <td>2020-01-03</td>\n",
       "      <td>0</td>\n",
       "      <td>0</td>\n",
       "    </tr>\n",
       "    <tr>\n",
       "      <th>3</th>\n",
       "      <td>2020-01-04</td>\n",
       "      <td>0</td>\n",
       "      <td>0</td>\n",
       "    </tr>\n",
       "    <tr>\n",
       "      <th>4</th>\n",
       "      <td>2020-01-05</td>\n",
       "      <td>0</td>\n",
       "      <td>0</td>\n",
       "    </tr>\n",
       "    <tr>\n",
       "      <th>...</th>\n",
       "      <td>...</td>\n",
       "      <td>...</td>\n",
       "      <td>...</td>\n",
       "    </tr>\n",
       "    <tr>\n",
       "      <th>361</th>\n",
       "      <td>2020-12-27</td>\n",
       "      <td>0</td>\n",
       "      <td>0</td>\n",
       "    </tr>\n",
       "    <tr>\n",
       "      <th>362</th>\n",
       "      <td>2020-12-28</td>\n",
       "      <td>0</td>\n",
       "      <td>0</td>\n",
       "    </tr>\n",
       "    <tr>\n",
       "      <th>363</th>\n",
       "      <td>2020-12-29</td>\n",
       "      <td>0</td>\n",
       "      <td>0</td>\n",
       "    </tr>\n",
       "    <tr>\n",
       "      <th>364</th>\n",
       "      <td>2020-12-30</td>\n",
       "      <td>0</td>\n",
       "      <td>1</td>\n",
       "    </tr>\n",
       "    <tr>\n",
       "      <th>365</th>\n",
       "      <td>2020-12-31</td>\n",
       "      <td>0</td>\n",
       "      <td>1</td>\n",
       "    </tr>\n",
       "  </tbody>\n",
       "</table>\n",
       "<p>366 rows × 3 columns</p>\n",
       "</div>"
      ],
      "text/plain": [
       "            일자  강수여부  이상기온\n",
       "0   2020-01-01     1     0\n",
       "1   2020-01-02     0     0\n",
       "2   2020-01-03     0     0\n",
       "3   2020-01-04     0     0\n",
       "4   2020-01-05     0     0\n",
       "..         ...   ...   ...\n",
       "361 2020-12-27     0     0\n",
       "362 2020-12-28     0     0\n",
       "363 2020-12-29     0     0\n",
       "364 2020-12-30     0     1\n",
       "365 2020-12-31     0     1\n",
       "\n",
       "[366 rows x 3 columns]"
      ]
     },
     "execution_count": 60,
     "metadata": {},
     "output_type": "execute_result"
    }
   ],
   "source": [
    "weather_col"
   ]
  },
  {
   "cell_type": "code",
   "execution_count": 61,
   "id": "5f412064",
   "metadata": {
    "slideshow": {
     "slide_type": "skip"
    }
   },
   "outputs": [],
   "source": [
    "#날씨데이터프레임 생성\n",
    "weather_col_eda=pd.merge(df,weather_col,how='outer',left_on='DATE',right_on='일자')\n",
    "weather_col_eda[\"MONTH\"] = weather_col_eda.DATE.dt.strftime('%m')"
   ]
  },
  {
   "cell_type": "code",
   "execution_count": 62,
   "id": "94020f7c",
   "metadata": {
    "slideshow": {
     "slide_type": "skip"
    }
   },
   "outputs": [
    {
     "data": {
      "text/html": [
       "<div>\n",
       "<style scoped>\n",
       "    .dataframe tbody tr th:only-of-type {\n",
       "        vertical-align: middle;\n",
       "    }\n",
       "\n",
       "    .dataframe tbody tr th {\n",
       "        vertical-align: top;\n",
       "    }\n",
       "\n",
       "    .dataframe thead th {\n",
       "        text-align: right;\n",
       "    }\n",
       "</style>\n",
       "<table border=\"1\" class=\"dataframe\">\n",
       "  <thead>\n",
       "    <tr style=\"text-align: right;\">\n",
       "      <th></th>\n",
       "      <th>MONTH</th>\n",
       "      <th>강수여부</th>\n",
       "      <th>COUNT</th>\n",
       "    </tr>\n",
       "  </thead>\n",
       "  <tbody>\n",
       "    <tr>\n",
       "      <th>0</th>\n",
       "      <td>01</td>\n",
       "      <td>0</td>\n",
       "      <td>1.02</td>\n",
       "    </tr>\n",
       "    <tr>\n",
       "      <th>1</th>\n",
       "      <td>01</td>\n",
       "      <td>1</td>\n",
       "      <td>1.01</td>\n",
       "    </tr>\n",
       "    <tr>\n",
       "      <th>2</th>\n",
       "      <td>02</td>\n",
       "      <td>0</td>\n",
       "      <td>1.02</td>\n",
       "    </tr>\n",
       "    <tr>\n",
       "      <th>3</th>\n",
       "      <td>02</td>\n",
       "      <td>1</td>\n",
       "      <td>1.02</td>\n",
       "    </tr>\n",
       "    <tr>\n",
       "      <th>4</th>\n",
       "      <td>03</td>\n",
       "      <td>0</td>\n",
       "      <td>1.02</td>\n",
       "    </tr>\n",
       "    <tr>\n",
       "      <th>5</th>\n",
       "      <td>04</td>\n",
       "      <td>0</td>\n",
       "      <td>1.02</td>\n",
       "    </tr>\n",
       "    <tr>\n",
       "      <th>6</th>\n",
       "      <td>04</td>\n",
       "      <td>1</td>\n",
       "      <td>1.01</td>\n",
       "    </tr>\n",
       "    <tr>\n",
       "      <th>7</th>\n",
       "      <td>05</td>\n",
       "      <td>0</td>\n",
       "      <td>1.02</td>\n",
       "    </tr>\n",
       "    <tr>\n",
       "      <th>8</th>\n",
       "      <td>05</td>\n",
       "      <td>1</td>\n",
       "      <td>1.02</td>\n",
       "    </tr>\n",
       "    <tr>\n",
       "      <th>9</th>\n",
       "      <td>06</td>\n",
       "      <td>0</td>\n",
       "      <td>1.02</td>\n",
       "    </tr>\n",
       "    <tr>\n",
       "      <th>10</th>\n",
       "      <td>06</td>\n",
       "      <td>1</td>\n",
       "      <td>1.02</td>\n",
       "    </tr>\n",
       "    <tr>\n",
       "      <th>11</th>\n",
       "      <td>07</td>\n",
       "      <td>0</td>\n",
       "      <td>1.02</td>\n",
       "    </tr>\n",
       "    <tr>\n",
       "      <th>12</th>\n",
       "      <td>07</td>\n",
       "      <td>1</td>\n",
       "      <td>1.02</td>\n",
       "    </tr>\n",
       "    <tr>\n",
       "      <th>13</th>\n",
       "      <td>08</td>\n",
       "      <td>0</td>\n",
       "      <td>1.02</td>\n",
       "    </tr>\n",
       "    <tr>\n",
       "      <th>14</th>\n",
       "      <td>08</td>\n",
       "      <td>1</td>\n",
       "      <td>1.02</td>\n",
       "    </tr>\n",
       "    <tr>\n",
       "      <th>15</th>\n",
       "      <td>09</td>\n",
       "      <td>0</td>\n",
       "      <td>1.02</td>\n",
       "    </tr>\n",
       "    <tr>\n",
       "      <th>16</th>\n",
       "      <td>09</td>\n",
       "      <td>1</td>\n",
       "      <td>1.02</td>\n",
       "    </tr>\n",
       "    <tr>\n",
       "      <th>17</th>\n",
       "      <td>10</td>\n",
       "      <td>0</td>\n",
       "      <td>1.02</td>\n",
       "    </tr>\n",
       "    <tr>\n",
       "      <th>18</th>\n",
       "      <td>11</td>\n",
       "      <td>0</td>\n",
       "      <td>1.02</td>\n",
       "    </tr>\n",
       "    <tr>\n",
       "      <th>19</th>\n",
       "      <td>11</td>\n",
       "      <td>1</td>\n",
       "      <td>1.03</td>\n",
       "    </tr>\n",
       "    <tr>\n",
       "      <th>20</th>\n",
       "      <td>12</td>\n",
       "      <td>0</td>\n",
       "      <td>1.02</td>\n",
       "    </tr>\n",
       "    <tr>\n",
       "      <th>21</th>\n",
       "      <td>12</td>\n",
       "      <td>1</td>\n",
       "      <td>1.02</td>\n",
       "    </tr>\n",
       "  </tbody>\n",
       "</table>\n",
       "</div>"
      ],
      "text/plain": [
       "   MONTH  강수여부  COUNT\n",
       "0     01     0   1.02\n",
       "1     01     1   1.01\n",
       "2     02     0   1.02\n",
       "3     02     1   1.02\n",
       "4     03     0   1.02\n",
       "5     04     0   1.02\n",
       "6     04     1   1.01\n",
       "7     05     0   1.02\n",
       "8     05     1   1.02\n",
       "9     06     0   1.02\n",
       "10    06     1   1.02\n",
       "11    07     0   1.02\n",
       "12    07     1   1.02\n",
       "13    08     0   1.02\n",
       "14    08     1   1.02\n",
       "15    09     0   1.02\n",
       "16    09     1   1.02\n",
       "17    10     0   1.02\n",
       "18    11     0   1.02\n",
       "19    11     1   1.03\n",
       "20    12     0   1.02\n",
       "21    12     1   1.02"
      ]
     },
     "execution_count": 62,
     "metadata": {},
     "output_type": "execute_result"
    }
   ],
   "source": [
    "#강수여부와 목표변수와의 관계\n",
    "df_rc=weather_col_eda[['강수여부','MONTH','COUNT']]\n",
    "df_rcm=df_rc.groupby(['MONTH','강수여부']).mean().reset_index()\n",
    "df_rc1=df_rc[df_rc['강수여부']==1]\n",
    "df_rc0=df_rc[df_rc['강수여부']==0]\n",
    "df_rcm"
   ]
  },
  {
   "cell_type": "code",
   "execution_count": 63,
   "id": "49e23c0e",
   "metadata": {
    "slideshow": {
     "slide_type": "slide"
    }
   },
   "outputs": [
    {
     "data": {
      "text/plain": [
       "1     778210\n",
       "2      12284\n",
       "3        973\n",
       "4        237\n",
       "5        113\n",
       "6         58\n",
       "7         30\n",
       "9         12\n",
       "8         11\n",
       "10         6\n",
       "15         4\n",
       "11         3\n",
       "12         3\n",
       "13         3\n",
       "23         2\n",
       "22         1\n",
       "17         1\n",
       "19         1\n",
       "20         1\n",
       "Name: COUNT, dtype: int64"
      ]
     },
     "execution_count": 63,
     "metadata": {},
     "output_type": "execute_result"
    }
   ],
   "source": [
    "#강수여부와 목표변수와의 관계\n",
    "df_rc0['COUNT'].value_counts()"
   ]
  },
  {
   "cell_type": "code",
   "execution_count": 64,
   "id": "fc4450d8",
   "metadata": {
    "slideshow": {
     "slide_type": "slide"
    }
   },
   "outputs": [
    {
     "data": {
      "text/plain": [
       "1    85565\n",
       "2     1235\n",
       "3       87\n",
       "4       34\n",
       "5       20\n",
       "7        6\n",
       "6        5\n",
       "Name: COUNT, dtype: int64"
      ]
     },
     "execution_count": 64,
     "metadata": {},
     "output_type": "execute_result"
    }
   ],
   "source": [
    "#강수여부와 목표변수와의 관계\n",
    "df_rc1['COUNT'].value_counts()"
   ]
  },
  {
   "cell_type": "code",
   "execution_count": 65,
   "id": "29e5f744",
   "metadata": {
    "slideshow": {
     "slide_type": "skip"
    }
   },
   "outputs": [
    {
     "data": {
      "text/html": [
       "<div>\n",
       "<style scoped>\n",
       "    .dataframe tbody tr th:only-of-type {\n",
       "        vertical-align: middle;\n",
       "    }\n",
       "\n",
       "    .dataframe tbody tr th {\n",
       "        vertical-align: top;\n",
       "    }\n",
       "\n",
       "    .dataframe thead th {\n",
       "        text-align: right;\n",
       "    }\n",
       "</style>\n",
       "<table border=\"1\" class=\"dataframe\">\n",
       "  <thead>\n",
       "    <tr style=\"text-align: right;\">\n",
       "      <th></th>\n",
       "      <th>MONTH</th>\n",
       "      <th>이상기온</th>\n",
       "      <th>COUNT</th>\n",
       "    </tr>\n",
       "  </thead>\n",
       "  <tbody>\n",
       "    <tr>\n",
       "      <th>0</th>\n",
       "      <td>01</td>\n",
       "      <td>0</td>\n",
       "      <td>1.02</td>\n",
       "    </tr>\n",
       "    <tr>\n",
       "      <th>1</th>\n",
       "      <td>02</td>\n",
       "      <td>0</td>\n",
       "      <td>1.02</td>\n",
       "    </tr>\n",
       "    <tr>\n",
       "      <th>2</th>\n",
       "      <td>03</td>\n",
       "      <td>0</td>\n",
       "      <td>1.02</td>\n",
       "    </tr>\n",
       "    <tr>\n",
       "      <th>3</th>\n",
       "      <td>04</td>\n",
       "      <td>0</td>\n",
       "      <td>1.02</td>\n",
       "    </tr>\n",
       "    <tr>\n",
       "      <th>4</th>\n",
       "      <td>05</td>\n",
       "      <td>0</td>\n",
       "      <td>1.02</td>\n",
       "    </tr>\n",
       "    <tr>\n",
       "      <th>5</th>\n",
       "      <td>06</td>\n",
       "      <td>0</td>\n",
       "      <td>1.02</td>\n",
       "    </tr>\n",
       "    <tr>\n",
       "      <th>6</th>\n",
       "      <td>06</td>\n",
       "      <td>1</td>\n",
       "      <td>1.02</td>\n",
       "    </tr>\n",
       "    <tr>\n",
       "      <th>7</th>\n",
       "      <td>07</td>\n",
       "      <td>0</td>\n",
       "      <td>1.02</td>\n",
       "    </tr>\n",
       "    <tr>\n",
       "      <th>8</th>\n",
       "      <td>08</td>\n",
       "      <td>0</td>\n",
       "      <td>1.02</td>\n",
       "    </tr>\n",
       "    <tr>\n",
       "      <th>9</th>\n",
       "      <td>08</td>\n",
       "      <td>1</td>\n",
       "      <td>1.02</td>\n",
       "    </tr>\n",
       "    <tr>\n",
       "      <th>10</th>\n",
       "      <td>09</td>\n",
       "      <td>0</td>\n",
       "      <td>1.02</td>\n",
       "    </tr>\n",
       "    <tr>\n",
       "      <th>11</th>\n",
       "      <td>10</td>\n",
       "      <td>0</td>\n",
       "      <td>1.02</td>\n",
       "    </tr>\n",
       "    <tr>\n",
       "      <th>12</th>\n",
       "      <td>11</td>\n",
       "      <td>0</td>\n",
       "      <td>1.02</td>\n",
       "    </tr>\n",
       "    <tr>\n",
       "      <th>13</th>\n",
       "      <td>12</td>\n",
       "      <td>0</td>\n",
       "      <td>1.02</td>\n",
       "    </tr>\n",
       "    <tr>\n",
       "      <th>14</th>\n",
       "      <td>12</td>\n",
       "      <td>1</td>\n",
       "      <td>1.02</td>\n",
       "    </tr>\n",
       "  </tbody>\n",
       "</table>\n",
       "</div>"
      ],
      "text/plain": [
       "   MONTH  이상기온  COUNT\n",
       "0     01     0   1.02\n",
       "1     02     0   1.02\n",
       "2     03     0   1.02\n",
       "3     04     0   1.02\n",
       "4     05     0   1.02\n",
       "5     06     0   1.02\n",
       "6     06     1   1.02\n",
       "7     07     0   1.02\n",
       "8     08     0   1.02\n",
       "9     08     1   1.02\n",
       "10    09     0   1.02\n",
       "11    10     0   1.02\n",
       "12    11     0   1.02\n",
       "13    12     0   1.02\n",
       "14    12     1   1.02"
      ]
     },
     "execution_count": 65,
     "metadata": {},
     "output_type": "execute_result"
    }
   ],
   "source": [
    "#이상기온와 목표변수와의 관계\n",
    "df_stc=weather_col_eda[['이상기온','MONTH','COUNT']]\n",
    "df_stcm=df_stc.groupby(['MONTH','이상기온']).mean().reset_index()\n",
    "df_stc1=df_stc[df_stc['이상기온']==1]\n",
    "df_stc0=df_stc[df_stc['이상기온']==0]\n",
    "df_stcm"
   ]
  },
  {
   "cell_type": "code",
   "execution_count": 66,
   "id": "930785b1",
   "metadata": {
    "slideshow": {
     "slide_type": "slide"
    }
   },
   "outputs": [
    {
     "data": {
      "text/plain": [
       "1     847567\n",
       "2      13251\n",
       "3       1045\n",
       "4        268\n",
       "5        128\n",
       "6         61\n",
       "7         36\n",
       "9         12\n",
       "8         11\n",
       "10         6\n",
       "15         4\n",
       "11         3\n",
       "12         3\n",
       "13         3\n",
       "23         2\n",
       "22         1\n",
       "17         1\n",
       "19         1\n",
       "20         1\n",
       "Name: COUNT, dtype: int64"
      ]
     },
     "execution_count": 66,
     "metadata": {},
     "output_type": "execute_result"
    }
   ],
   "source": [
    "#이상기온여부와 목표변수와의 관계\n",
    "df_stc0['COUNT'].value_counts()"
   ]
  },
  {
   "cell_type": "code",
   "execution_count": 67,
   "id": "b6e1e729",
   "metadata": {
    "slideshow": {
     "slide_type": "slide"
    }
   },
   "outputs": [
    {
     "data": {
      "text/plain": [
       "1    16208\n",
       "2      268\n",
       "3       15\n",
       "5        5\n",
       "4        3\n",
       "6        2\n",
       "Name: COUNT, dtype: int64"
      ]
     },
     "execution_count": 67,
     "metadata": {},
     "output_type": "execute_result"
    }
   ],
   "source": [
    "#이상기온여부와 목표변수와의 관계\n",
    "df_stc1['COUNT'].value_counts()"
   ]
  },
  {
   "cell_type": "markdown",
   "id": "0d831b6c",
   "metadata": {
    "slideshow": {
     "slide_type": "slide"
    }
   },
   "source": [
    ">**날씨데이터의 두 컬럼은(강수여부, 이상기온) 모두 월별 카운트 평균을 구하자 비슷하게 나옴<br>\n",
    "다만 강수여부, 이상기온여부 별 분포의 특이성을 고려해 컬럼으로 투입**"
   ]
  },
  {
   "cell_type": "markdown",
   "id": "6d6f27e1",
   "metadata": {
    "slideshow": {
     "slide_type": "slide"
    }
   },
   "source": [
    "#### (9). 교통량데이터와 목표변수(COUNT)의 관계\n",
    "**교통량데이터는 서울유입과 비서울로 유출되는 교통량데이터로 나뉘는데 비서울로 유출되는 교통량데이터의 활용에 대한 근거를 확보하기 어려움**"
   ]
  },
  {
   "cell_type": "markdown",
   "id": "88c08532",
   "metadata": {
    "slideshow": {
     "slide_type": "slide"
    }
   },
   "source": [
    "## 3.3. EDA결론\n",
    "### 3.3.1. EDA정리\n",
    "**(1). 평균적을 높은 COUNT 횟수를 기록하는 USER_ID 그룹이 존재 <br>\n",
    "(2). 대체적으로 최근에 가입할수록 높은 COUNT 횟수를 기록 <br>\n",
    "(3). D_TYPE은 타입별 분포의 특이성을 가짐(상관관계가 있다고 생각됨) <br>\n",
    "(4). STORE_ID는 AD1에 종속된 컬럼으로 AD1이 STORE_ID의 의미를 설명가능하다고 판단<br>**"
   ]
  },
  {
   "cell_type": "markdown",
   "id": "51230a3d",
   "metadata": {
    "slideshow": {
     "slide_type": "slide"
    }
   },
   "source": [
    "**(5). GOODS_TYPE은 타입별 분포의 특이성을 가짐(상관관계가 있다고 생각됨)<br>\n",
    "(6). DATE는 시계열 순으로 train과 test데이터를 나누었고 계절이나 연 순환 주기에 대한 판단이 어려움<br>\n",
    "(7). DATE를 주중,주말,공휴일로 나누자 주중보다는 휴일에 COUNT가 높은 횟수를 기록하는 상관관계를 보임<br>\n",
    "(8). AD1 지역이니셜로 추정, 지역을 서울과 비서울로 나누자 비서울그룹보다는 서울그룹에서 COUNT가 높은 횟수를 기록하는 상관관계를 보임**"
   ]
  },
  {
   "cell_type": "markdown",
   "id": "94bb8747",
   "metadata": {
    "slideshow": {
     "slide_type": "slide"
    }
   },
   "source": [
    "**(9). 날씨데이터는 기상청의 정의에 따른 이상기후와 강수에 대해서만 일별로 유무를 체크해 컬럼으로 구성<br>\n",
    "(10). 전체 데이터가 평균적으로 서울 데이터의 날씨와 비슷한 날씨를 보일 것이라는 가설을 수립(데이터가 수도권에 많을 것이라고 가정)<br>\n",
    "(11). 날씨데이터는 타입별 분포의 특이성을 가짐(상관관계가 있다고 생각됨) <br>\n",
    "(12). 교통량데이터는 서울유입과 비서울로유출되는 교통량데이터로 나뉘는데 비서울로 유출되는 교통량데이터를 이용하기 힘들다.<br>\n",
    "(13). 일일단위 예측에서 분포의 특이성은 큰 영향이 없을 것으로 생각됨**"
   ]
  },
  {
   "cell_type": "markdown",
   "id": "83a66e8a",
   "metadata": {
    "slideshow": {
     "slide_type": "skip"
    }
   },
   "source": [
    "### 3.3.2. 가설 수립"
   ]
  },
  {
   "cell_type": "markdown",
   "id": "fd261814",
   "metadata": {
    "slideshow": {
     "slide_type": "skip"
    }
   },
   "source": [
    "**(1).USER_ID를 COUNT횟수 평균에 따라 3그룹으로 나눈 feature는 목표변수를 예측하는데 영향을 미칠 것이다.<br>\n",
    "(2).JOIN_DATE를 연도별로 나눈 feature는 목표변수를 예측하는데 영향을 미칠것이다.<br>\n",
    "(3). D_TYPE은 목표변수를 예측하는데 영향을 미칠것이다. <br>\n",
    "(4). STORE_ID는 AD1과 다중공산성을 보일것이며 AD1이 STORE_ID의 설명력을 포함할 것이다.<br>\n",
    "(5). GOODS_TYPE은 목표변수를 예측하는데 영향을 미칠것이다. <br>\n",
    "(6). DATE을 주중,주말,공휴일로 나눈 feature는 목표변수를 예측하는데 영향을 미칠것이다.<br>\n",
    "(7). AD1을 서울과 비서울 지역으로 나눈 feature는 목표변수를 예측하는데 영향을 미칠것이다.<br>\n",
    "(8). 이상기후와 강수 여부를 기록한 feature들은 목표변수를 예측하는데 영향을 미칠것이다.**"
   ]
  },
  {
   "cell_type": "markdown",
   "id": "78419962",
   "metadata": {
    "slideshow": {
     "slide_type": "slide"
    }
   },
   "source": [
    "# 4. 모델링 및 검증"
   ]
  },
  {
   "cell_type": "code",
   "execution_count": 68,
   "id": "8dbdc08a",
   "metadata": {
    "slideshow": {
     "slide_type": "skip"
    }
   },
   "outputs": [],
   "source": [
    "#EDA관련 패키지 구성 및 디스플레이 설정\n",
    "import pandas as pd\n",
    "import numpy as np\n",
    "import datetime as dt\n",
    "import matplotlib.pyplot as plt\n",
    "import seaborn as sns\n",
    "import re\n",
    "import math\n",
    "from IPython.display import set_matplotlib_formats\n",
    "import warnings\n",
    "warnings.filterwarnings('ignore')\n",
    "plt.rc('font', family='Malgun Gothic')\n",
    "plt.rc('axes', unicode_minus=False)\n",
    "set_matplotlib_formats('retina')\n",
    "pd.set_option('display.max_rows', 30)\n",
    "pd.set_option('display.max_columns', 30)\n",
    "pd.set_option('display.float_format', '{:.2f}'.format)\n",
    "\n",
    "#R예측모델 관련 패키지 구성\n",
    "from sklearn.tree import export_graphviz\n",
    "import graphviz\n",
    "from sklearn.model_selection import train_test_split\n",
    "from sklearn.ensemble import GradientBoostingRegressor, RandomForestRegressor\n",
    "from sklearn.model_selection import GridSearchCV\n",
    "from sklearn.metrics import mean_absolute_error,mean_squared_error\n",
    "from lightgbm import LGBMRegressor\n",
    "from sklearn.model_selection import KFold, cross_val_score\n",
    "from xgboost import XGBRegressor\n",
    "from lightgbm import LGBMRegressor\n",
    "from sklearn.model_selection import GridSearchCV"
   ]
  },
  {
   "cell_type": "markdown",
   "id": "e8e6d55e",
   "metadata": {
    "slideshow": {
     "slide_type": "slide"
    }
   },
   "source": [
    "## 4.1 이용자 일일(행별 카운트)단위 예측 모델링"
   ]
  },
  {
   "cell_type": "code",
   "execution_count": 69,
   "id": "9ce9322b",
   "metadata": {
    "slideshow": {
     "slide_type": "skip"
    }
   },
   "outputs": [],
   "source": [
    "# AD1 중 서울 내 지점 추정\n",
    "seoul = \"\"\"\n",
    "1.종로구, JR\n",
    "\n",
    "2. 중구, J\n",
    "\n",
    "3.용산구, YO\n",
    "\n",
    "4 성동구,SOD\n",
    "\n",
    " 5광진구,GJ\n",
    "\n",
    " 6동대문구, DM\n",
    "\n",
    "7.중랑구, JRR\n",
    "\n",
    "8.성북구, SB\n",
    "\n",
    "9.강북구, GB\n",
    "\n",
    "10.도봉구, DB\n",
    "\n",
    "11. 노원구, NW\n",
    "\n",
    "12.은평구, EP\n",
    "\n",
    "13.서대문구, SD\n",
    "\n",
    "14.마포구, MP\n",
    "\n",
    "15.양천구, YC\n",
    "\n",
    "16.강서구, GS\n",
    "\n",
    "17.구로구, GR\n",
    "\n",
    "18. 금천구, GHN\n",
    "\n",
    " 19.영등포구,YD\n",
    "\n",
    " 20.동작구, DJ\n",
    "\n",
    "21. 관악구, GW\n",
    "\n",
    " 22.서초구, SC\n",
    "\n",
    " 23.강남구,GN\n",
    "\n",
    "24. 송파구, SP\n",
    "\n",
    "25.강동구 GD\"\"\"\n",
    "\n",
    "# AD1 코드 추출\n",
    "seoul = re.sub(\"[0-9.,가-힣 ]\", \"\", seoul).split()"
   ]
  },
  {
   "cell_type": "code",
   "execution_count": 70,
   "id": "19686eac",
   "metadata": {
    "slideshow": {
     "slide_type": "skip"
    }
   },
   "outputs": [],
   "source": [
    "# 서울 내외 구분\n",
    "\n",
    "# 컬럼 생성용 리스트 선언\n",
    "ad1_type_list = []\n",
    "\n",
    "# 빠른 계산을 위한 list\n",
    "for k in range(len(df_day)) :\n",
    "    # AD1_TYPE 파악\n",
    "    if df_day[\"AD1\"].loc[k] in seoul :\n",
    "        ad1_type_list.append(\"SEOUL\")\n",
    "    else :\n",
    "        ad1_type_list.append(\"NOT_SEOUL\")\n",
    "        \n",
    "# 서울 구분 컬럼 생성\n",
    "df_day['AD1_TYPE'] = ad1_type_list"
   ]
  },
  {
   "cell_type": "code",
   "execution_count": 71,
   "id": "9b6f68b4",
   "metadata": {
    "slideshow": {
     "slide_type": "skip"
    }
   },
   "outputs": [],
   "source": [
    "# STORE_ID 제거하기\n",
    "df_day = df_day.drop(\"STORE_ID\", axis=1)"
   ]
  },
  {
   "cell_type": "code",
   "execution_count": 72,
   "id": "ac60985e",
   "metadata": {
    "slideshow": {
     "slide_type": "skip"
    }
   },
   "outputs": [],
   "source": [
    "# JOIN_DATE와 DATE는 datetime 형태로 바꾼다\n",
    "df_day.JOIN_DATE = pd.to_datetime(df_day.JOIN_DATE) \n",
    "df_day.DATE = pd.to_datetime(df_day.DATE)\n",
    "# JOIN_DATE는 년도로 바꾼다.\n",
    "df_day.JOIN_DATE = df_day.JOIN_DATE.dt.to_period(freq=\"A\") # 나중에 원핫인코딩으로 바꾸자.\n",
    "df_day.JOIN_DATE = df_day.JOIN_DATE.astype(str)\n",
    "# DATE는 월별로 묶어서 새로운 컬럼을 생성\n",
    "df_day[\"MONTH\"] = df_day.DATE.dt.strftime('%m')"
   ]
  },
  {
   "cell_type": "code",
   "execution_count": 73,
   "id": "5bf63861",
   "metadata": {
    "slideshow": {
     "slide_type": "skip"
    }
   },
   "outputs": [],
   "source": [
    "# 카테고리값을 One_hot_encoding\n",
    "df_day = pd.get_dummies(df_day, columns=[\"JOIN_DATE\", \"DAY_TYPE\", \"AD1_TYPE\"])"
   ]
  },
  {
   "cell_type": "code",
   "execution_count": 74,
   "id": "505adb7b",
   "metadata": {
    "slideshow": {
     "slide_type": "skip"
    }
   },
   "outputs": [],
   "source": [
    "# 필요없는 컬럼 drop\n",
    "df_day = df_day.drop([\"AD1\",\"AD1_TYPE_NOT_SEOUL\"], axis=1)"
   ]
  },
  {
   "cell_type": "code",
   "execution_count": 75,
   "id": "434c5d18",
   "metadata": {
    "slideshow": {
     "slide_type": "skip"
    }
   },
   "outputs": [],
   "source": [
    "# 데이터 선언\n",
    "weather_df1 = pd.read_csv('서울시_기상데이터.csv', encoding='cp949')\n",
    "\n",
    "# 기상청 센서 기준 NaN 값은 0으로 판단\n",
    "weather_df1 = weather_df1.fillna(0)\n",
    "\n",
    "# 일시 컬럼을 일자와 시간으로 분리 \n",
    "weather_df1['일자'] = 0\n",
    "for i in range(len(weather_df1)):\n",
    "    weather_df1['일자'][i] = weather_df1['일시'].iloc[i][:10]\n",
    "    \n",
    "weather_df1['시간'] = 0\n",
    "for i in range(len(weather_df1)):\n",
    "    weather_df1['시간'][i] = weather_df1['일시'].iloc[i][11:]\n",
    "    \n",
    "# 필요한 컬럼만 남기고 정린\n",
    "weather_df1 = weather_df1[['일시','일자','시간', '기온','강수량','적설량']]\n",
    "\n",
    "# datetime 형식으로 자료형 바꿔주기\n",
    "weather_df1['일자'] = pd.to_datetime(weather_df1['일자'])\n",
    "\n",
    "# 요일 컬럼 넣어주기 (월요일:0 ~ 일요일:6)\n",
    "# 주말(토,일)은 5,6\n",
    "weather_df1['요일'] = weather_df1['일자'].dt.weekday\n",
    "weather_df1\n",
    "\n",
    "# 공휴일은 주말로 바꿔주기\n",
    "holiday_list = ['2020-01-01', '2020-01-24', '2020-01-25', '2020-01-26', '2020-01-27', '2020-03-01', '2020-05-05', '2020-04-15', '2020-04-30', '2020-06-06', '2020-08-15', '2020-09-30', '2020-10-01', '2020-10-02', '2020-10-03', '2020-10-09', '2020-12-25']\n",
    "\n",
    "for zz in range(len(weather_df1)) :\n",
    "    if weather_df1['일자'].loc[zz].strftime('%Y-%m-%d') in holiday_list :\n",
    "        weather_df1['요일'].loc[zz] = 6"
   ]
  },
  {
   "cell_type": "code",
   "execution_count": 76,
   "id": "5be5e7c2",
   "metadata": {
    "slideshow": {
     "slide_type": "skip"
    }
   },
   "outputs": [],
   "source": [
    "# 평일\n",
    "weekday1 = weather_df1[(weather_df1['요일'] != 5) & (weather_df1['요일'] != 6)]\n",
    "\n",
    "# 주중에는 오전 7시로 선택 \n",
    "weekday1 = weekday1[(weekday1['시간']=='7:00')]\n",
    "\n",
    "# 강수여부 컬럼 생성\n",
    "weekday1['강수여부'] = 0\n",
    "\n",
    "for i in range(len(weekday1)):\n",
    "    if weekday1['강수량'].iloc[i] > 0.0:\n",
    "        weekday1['강수여부'].iloc[i] = 1\n",
    "    if weekday1['적설량'].iloc[i] > 0.0:\n",
    "        weekday1['강수여부'].iloc[i] = 1"
   ]
  },
  {
   "cell_type": "code",
   "execution_count": 77,
   "id": "451895ff",
   "metadata": {
    "slideshow": {
     "slide_type": "skip"
    }
   },
   "outputs": [],
   "source": [
    "# 주말\n",
    "weekend1 = weather_df1[(weather_df1['요일'] == 5) | (weather_df1['요일'] == 6)]\n",
    "\n",
    "# 주말에는 12시 기준으로 선택\n",
    "weekend1 = weekend1[(weekend1['시간']=='12:00')]\n",
    "\n",
    "# 강수여부 컬럼 생성\n",
    "weekend1['강수여부'] = 0\n",
    "\n",
    "for i in range(len(weekend1)):\n",
    "    if weekend1['강수량'].iloc[i] != 0.0:\n",
    "        weekend1['강수여부'].iloc[i] = 1\n",
    "    if weekend1['적설량'].iloc[i] != 0.0:\n",
    "        weekend1['강수여부'].iloc[i] = 1"
   ]
  },
  {
   "cell_type": "code",
   "execution_count": 78,
   "id": "9ff3290e",
   "metadata": {
    "slideshow": {
     "slide_type": "skip"
    }
   },
   "outputs": [],
   "source": [
    "# 주중 주말 합쳐서 하나의 데이터프레임 만들기\n",
    "everyday1 = pd.concat([weekday1, weekend1], ignore_index=True )\n",
    "everyday1.sort_values(by=['일자'], axis=0, inplace=True, ignore_index=True)\n",
    "\n",
    "raining_day1 = everyday1[['일자', '강수여부']]"
   ]
  },
  {
   "cell_type": "code",
   "execution_count": 79,
   "id": "3f6569d6",
   "metadata": {
    "slideshow": {
     "slide_type": "skip"
    }
   },
   "outputs": [],
   "source": [
    "# 폭염과 한파 \n",
    "temperatures1 = weather_df1[(weather_df1['기온'] > 33) | (weather_df1['기온'] < -12)]\n",
    "day1 = list(temperatures1['일자'].unique())\n",
    "\n",
    "# 이상 기온 여부 구분\n",
    "everyday1['이상기온'] =0 \n",
    "for i in range(len(everyday1)):\n",
    "    if everyday1['일자'].iloc[i] in day1:\n",
    "        everyday1['이상기온'].iloc[i] = 1\n",
    "        \n",
    "# 최종 강수여부, 이상기온 여부 데이터프레임\n",
    "weather_var1 = everyday1[['일자', '강수여부','이상기온']]\n",
    "\n",
    "# 마지막 누락된 데이터 추가\n",
    "weather_var1.loc[365] = ['2020-12-31 00:00:00', 0, 1]\n",
    "\n",
    "weather_var1['일자'] = pd.to_datetime(weather_var1['일자'])"
   ]
  },
  {
   "cell_type": "code",
   "execution_count": 80,
   "id": "a59d7d7b",
   "metadata": {
    "slideshow": {
     "slide_type": "skip"
    }
   },
   "outputs": [],
   "source": [
    "df_day1=pd.merge(df_day, weather_var1, how=\"outer\", left_on=\"DATE\", right_on=\"일자\")"
   ]
  },
  {
   "cell_type": "code",
   "execution_count": 81,
   "id": "19b75c83",
   "metadata": {
    "slideshow": {
     "slide_type": "skip"
    }
   },
   "outputs": [],
   "source": [
    "df_day1=df_day1.drop(\"일자\", axis=1)"
   ]
  },
  {
   "cell_type": "code",
   "execution_count": 82,
   "id": "d4574dcd",
   "metadata": {
    "slideshow": {
     "slide_type": "skip"
    }
   },
   "outputs": [],
   "source": [
    "#USER_ID별 COUNT의 COUNT값\n",
    "df_uc=df[['USER_ID','COUNT']]\n",
    "df_ucc=df_uc.groupby('USER_ID').count().reset_index()\n",
    "df_ucc.rename(columns={'COUNT':'COUNTS'},inplace=True)\n",
    "\n",
    "#USER_ID별 COUNT의 MAX값\n",
    "df_uc=df[['USER_ID','COUNT']]\n",
    "df_ucmax=df_uc.groupby('USER_ID').max().reset_index()\n",
    "df_ucmax.rename(columns={'COUNT':'MAX_COUNT'},inplace=True)\n",
    "\n",
    "#USER_ID별 COUNT의 MEAN값\n",
    "df_uc=df[['USER_ID','COUNT']]\n",
    "df_ucmean=df_uc.groupby('USER_ID').mean().reset_index()\n",
    "df_ucmean.rename(columns={'COUNT':'MEAN_COUNT'},inplace=True)"
   ]
  },
  {
   "cell_type": "code",
   "execution_count": 83,
   "id": "6e2409cb",
   "metadata": {
    "slideshow": {
     "slide_type": "skip"
    }
   },
   "outputs": [],
   "source": [
    "df_ucm=pd.merge(df_ucmean,df_ucmax)\n",
    "df_ucm=pd.merge(df_ucm,df_ucc)\n",
    "df_ucm_not1=df_ucm[df_ucm.MAX_COUNT!=1]\n",
    "df_ucm_1=df_ucm[df_ucm.MAX_COUNT==1]"
   ]
  },
  {
   "cell_type": "code",
   "execution_count": 84,
   "id": "4ac99b5c",
   "metadata": {
    "slideshow": {
     "slide_type": "skip"
    }
   },
   "outputs": [],
   "source": [
    "df_ucm_1=df_ucm[df_ucm['MEAN_COUNT']==1]\n",
    "df_ucm_1['USER_ID_TYPE']='A'\n",
    "df_ucm_1=df_ucm_1[['USER_ID','USER_ID_TYPE']]\n",
    "df_ucm_2=df_ucm[(df_ucm['MEAN_COUNT']>=3) & (df_ucm['COUNTS']>=2)]\n",
    "df_ucm_2['USER_ID_TYPE']='B'\n",
    "df_ucm_2=df_ucm_2[['USER_ID','USER_ID_TYPE']]\n",
    "df_ucm_3=df_ucm[df_ucm['MEAN_COUNT']!=1]\n",
    "df_ucm_3=df_ucm_3[(df_ucm_3['MEAN_COUNT']<3) | (df_ucm_3['COUNTS']==1)]\n",
    "df_ucm_3['USER_ID_TYPE']='C'\n",
    "df_ucm_3=df_ucm_3[['USER_ID','USER_ID_TYPE']]\n",
    "df_ucm_3\n",
    "df_ut=pd.concat([df_ucm_1,df_ucm_2,df_ucm_3])"
   ]
  },
  {
   "cell_type": "code",
   "execution_count": 85,
   "id": "6b4f1f09",
   "metadata": {
    "slideshow": {
     "slide_type": "skip"
    }
   },
   "outputs": [
    {
     "data": {
      "text/html": [
       "<div>\n",
       "<style scoped>\n",
       "    .dataframe tbody tr th:only-of-type {\n",
       "        vertical-align: middle;\n",
       "    }\n",
       "\n",
       "    .dataframe tbody tr th {\n",
       "        vertical-align: top;\n",
       "    }\n",
       "\n",
       "    .dataframe thead th {\n",
       "        text-align: right;\n",
       "    }\n",
       "</style>\n",
       "<table border=\"1\" class=\"dataframe\">\n",
       "  <thead>\n",
       "    <tr style=\"text-align: right;\">\n",
       "      <th></th>\n",
       "      <th>USER_ID</th>\n",
       "      <th>D_TYPE</th>\n",
       "      <th>GOODS_TYPE</th>\n",
       "      <th>DATE</th>\n",
       "      <th>COUNT</th>\n",
       "      <th>MONTH</th>\n",
       "      <th>JOIN_DATE_1970</th>\n",
       "      <th>JOIN_DATE_2013</th>\n",
       "      <th>JOIN_DATE_2014</th>\n",
       "      <th>JOIN_DATE_2015</th>\n",
       "      <th>JOIN_DATE_2016</th>\n",
       "      <th>JOIN_DATE_2017</th>\n",
       "      <th>JOIN_DATE_2018</th>\n",
       "      <th>JOIN_DATE_2019</th>\n",
       "      <th>JOIN_DATE_2020</th>\n",
       "      <th>DAY_TYPE_공휴일</th>\n",
       "      <th>DAY_TYPE_주말</th>\n",
       "      <th>DAY_TYPE_주중</th>\n",
       "      <th>AD1_TYPE_SEOUL</th>\n",
       "      <th>강수여부</th>\n",
       "      <th>이상기온</th>\n",
       "      <th>USER_ID_TYPE_A</th>\n",
       "      <th>USER_ID_TYPE_B</th>\n",
       "      <th>USER_ID_TYPE_C</th>\n",
       "    </tr>\n",
       "  </thead>\n",
       "  <tbody>\n",
       "    <tr>\n",
       "      <th>0</th>\n",
       "      <td>2858</td>\n",
       "      <td>AA</td>\n",
       "      <td>A</td>\n",
       "      <td>2020-01-01</td>\n",
       "      <td>1</td>\n",
       "      <td>01</td>\n",
       "      <td>0</td>\n",
       "      <td>0</td>\n",
       "      <td>1</td>\n",
       "      <td>0</td>\n",
       "      <td>0</td>\n",
       "      <td>0</td>\n",
       "      <td>0</td>\n",
       "      <td>0</td>\n",
       "      <td>0</td>\n",
       "      <td>1</td>\n",
       "      <td>0</td>\n",
       "      <td>0</td>\n",
       "      <td>1</td>\n",
       "      <td>1</td>\n",
       "      <td>0</td>\n",
       "      <td>1</td>\n",
       "      <td>0</td>\n",
       "      <td>0</td>\n",
       "    </tr>\n",
       "    <tr>\n",
       "      <th>1</th>\n",
       "      <td>5647</td>\n",
       "      <td>BB</td>\n",
       "      <td>A</td>\n",
       "      <td>2020-01-01</td>\n",
       "      <td>1</td>\n",
       "      <td>01</td>\n",
       "      <td>0</td>\n",
       "      <td>0</td>\n",
       "      <td>1</td>\n",
       "      <td>0</td>\n",
       "      <td>0</td>\n",
       "      <td>0</td>\n",
       "      <td>0</td>\n",
       "      <td>0</td>\n",
       "      <td>0</td>\n",
       "      <td>1</td>\n",
       "      <td>0</td>\n",
       "      <td>0</td>\n",
       "      <td>1</td>\n",
       "      <td>1</td>\n",
       "      <td>0</td>\n",
       "      <td>1</td>\n",
       "      <td>0</td>\n",
       "      <td>0</td>\n",
       "    </tr>\n",
       "    <tr>\n",
       "      <th>2</th>\n",
       "      <td>5647</td>\n",
       "      <td>BB</td>\n",
       "      <td>B</td>\n",
       "      <td>2020-02-10</td>\n",
       "      <td>1</td>\n",
       "      <td>02</td>\n",
       "      <td>0</td>\n",
       "      <td>0</td>\n",
       "      <td>1</td>\n",
       "      <td>0</td>\n",
       "      <td>0</td>\n",
       "      <td>0</td>\n",
       "      <td>0</td>\n",
       "      <td>0</td>\n",
       "      <td>0</td>\n",
       "      <td>0</td>\n",
       "      <td>0</td>\n",
       "      <td>1</td>\n",
       "      <td>1</td>\n",
       "      <td>0</td>\n",
       "      <td>0</td>\n",
       "      <td>1</td>\n",
       "      <td>0</td>\n",
       "      <td>0</td>\n",
       "    </tr>\n",
       "    <tr>\n",
       "      <th>3</th>\n",
       "      <td>33314</td>\n",
       "      <td>BB</td>\n",
       "      <td>A</td>\n",
       "      <td>2020-01-01</td>\n",
       "      <td>1</td>\n",
       "      <td>01</td>\n",
       "      <td>0</td>\n",
       "      <td>0</td>\n",
       "      <td>1</td>\n",
       "      <td>0</td>\n",
       "      <td>0</td>\n",
       "      <td>0</td>\n",
       "      <td>0</td>\n",
       "      <td>0</td>\n",
       "      <td>0</td>\n",
       "      <td>1</td>\n",
       "      <td>0</td>\n",
       "      <td>0</td>\n",
       "      <td>1</td>\n",
       "      <td>1</td>\n",
       "      <td>0</td>\n",
       "      <td>1</td>\n",
       "      <td>0</td>\n",
       "      <td>0</td>\n",
       "    </tr>\n",
       "    <tr>\n",
       "      <th>4</th>\n",
       "      <td>33314</td>\n",
       "      <td>BB</td>\n",
       "      <td>C</td>\n",
       "      <td>2020-05-01</td>\n",
       "      <td>1</td>\n",
       "      <td>05</td>\n",
       "      <td>0</td>\n",
       "      <td>0</td>\n",
       "      <td>1</td>\n",
       "      <td>0</td>\n",
       "      <td>0</td>\n",
       "      <td>0</td>\n",
       "      <td>0</td>\n",
       "      <td>0</td>\n",
       "      <td>0</td>\n",
       "      <td>0</td>\n",
       "      <td>0</td>\n",
       "      <td>1</td>\n",
       "      <td>1</td>\n",
       "      <td>0</td>\n",
       "      <td>0</td>\n",
       "      <td>1</td>\n",
       "      <td>0</td>\n",
       "      <td>0</td>\n",
       "    </tr>\n",
       "    <tr>\n",
       "      <th>...</th>\n",
       "      <td>...</td>\n",
       "      <td>...</td>\n",
       "      <td>...</td>\n",
       "      <td>...</td>\n",
       "      <td>...</td>\n",
       "      <td>...</td>\n",
       "      <td>...</td>\n",
       "      <td>...</td>\n",
       "      <td>...</td>\n",
       "      <td>...</td>\n",
       "      <td>...</td>\n",
       "      <td>...</td>\n",
       "      <td>...</td>\n",
       "      <td>...</td>\n",
       "      <td>...</td>\n",
       "      <td>...</td>\n",
       "      <td>...</td>\n",
       "      <td>...</td>\n",
       "      <td>...</td>\n",
       "      <td>...</td>\n",
       "      <td>...</td>\n",
       "      <td>...</td>\n",
       "      <td>...</td>\n",
       "      <td>...</td>\n",
       "    </tr>\n",
       "    <tr>\n",
       "      <th>878900</th>\n",
       "      <td>1830551</td>\n",
       "      <td>BB</td>\n",
       "      <td>B</td>\n",
       "      <td>2020-12-31</td>\n",
       "      <td>1</td>\n",
       "      <td>12</td>\n",
       "      <td>0</td>\n",
       "      <td>0</td>\n",
       "      <td>0</td>\n",
       "      <td>0</td>\n",
       "      <td>0</td>\n",
       "      <td>0</td>\n",
       "      <td>0</td>\n",
       "      <td>0</td>\n",
       "      <td>1</td>\n",
       "      <td>0</td>\n",
       "      <td>0</td>\n",
       "      <td>1</td>\n",
       "      <td>1</td>\n",
       "      <td>0</td>\n",
       "      <td>1</td>\n",
       "      <td>1</td>\n",
       "      <td>0</td>\n",
       "      <td>0</td>\n",
       "    </tr>\n",
       "    <tr>\n",
       "      <th>878901</th>\n",
       "      <td>1830570</td>\n",
       "      <td>BB</td>\n",
       "      <td>B</td>\n",
       "      <td>2020-12-31</td>\n",
       "      <td>1</td>\n",
       "      <td>12</td>\n",
       "      <td>0</td>\n",
       "      <td>0</td>\n",
       "      <td>0</td>\n",
       "      <td>0</td>\n",
       "      <td>0</td>\n",
       "      <td>0</td>\n",
       "      <td>0</td>\n",
       "      <td>0</td>\n",
       "      <td>1</td>\n",
       "      <td>0</td>\n",
       "      <td>0</td>\n",
       "      <td>1</td>\n",
       "      <td>0</td>\n",
       "      <td>0</td>\n",
       "      <td>1</td>\n",
       "      <td>1</td>\n",
       "      <td>0</td>\n",
       "      <td>0</td>\n",
       "    </tr>\n",
       "    <tr>\n",
       "      <th>878902</th>\n",
       "      <td>1830580</td>\n",
       "      <td>AA</td>\n",
       "      <td>B</td>\n",
       "      <td>2020-12-31</td>\n",
       "      <td>1</td>\n",
       "      <td>12</td>\n",
       "      <td>0</td>\n",
       "      <td>0</td>\n",
       "      <td>0</td>\n",
       "      <td>0</td>\n",
       "      <td>0</td>\n",
       "      <td>0</td>\n",
       "      <td>0</td>\n",
       "      <td>0</td>\n",
       "      <td>1</td>\n",
       "      <td>0</td>\n",
       "      <td>0</td>\n",
       "      <td>1</td>\n",
       "      <td>1</td>\n",
       "      <td>0</td>\n",
       "      <td>1</td>\n",
       "      <td>1</td>\n",
       "      <td>0</td>\n",
       "      <td>0</td>\n",
       "    </tr>\n",
       "    <tr>\n",
       "      <th>878903</th>\n",
       "      <td>1830589</td>\n",
       "      <td>BB</td>\n",
       "      <td>B</td>\n",
       "      <td>2020-12-31</td>\n",
       "      <td>1</td>\n",
       "      <td>12</td>\n",
       "      <td>0</td>\n",
       "      <td>0</td>\n",
       "      <td>0</td>\n",
       "      <td>0</td>\n",
       "      <td>0</td>\n",
       "      <td>0</td>\n",
       "      <td>0</td>\n",
       "      <td>0</td>\n",
       "      <td>1</td>\n",
       "      <td>0</td>\n",
       "      <td>0</td>\n",
       "      <td>1</td>\n",
       "      <td>1</td>\n",
       "      <td>0</td>\n",
       "      <td>1</td>\n",
       "      <td>1</td>\n",
       "      <td>0</td>\n",
       "      <td>0</td>\n",
       "    </tr>\n",
       "    <tr>\n",
       "      <th>878904</th>\n",
       "      <td>1830598</td>\n",
       "      <td>AA</td>\n",
       "      <td>B</td>\n",
       "      <td>2020-12-31</td>\n",
       "      <td>1</td>\n",
       "      <td>12</td>\n",
       "      <td>0</td>\n",
       "      <td>0</td>\n",
       "      <td>0</td>\n",
       "      <td>0</td>\n",
       "      <td>0</td>\n",
       "      <td>0</td>\n",
       "      <td>0</td>\n",
       "      <td>0</td>\n",
       "      <td>1</td>\n",
       "      <td>0</td>\n",
       "      <td>0</td>\n",
       "      <td>1</td>\n",
       "      <td>1</td>\n",
       "      <td>0</td>\n",
       "      <td>1</td>\n",
       "      <td>1</td>\n",
       "      <td>0</td>\n",
       "      <td>0</td>\n",
       "    </tr>\n",
       "  </tbody>\n",
       "</table>\n",
       "<p>878905 rows × 24 columns</p>\n",
       "</div>"
      ],
      "text/plain": [
       "        USER_ID D_TYPE GOODS_TYPE       DATE  COUNT MONTH  JOIN_DATE_1970  \\\n",
       "0          2858     AA          A 2020-01-01      1    01               0   \n",
       "1          5647     BB          A 2020-01-01      1    01               0   \n",
       "2          5647     BB          B 2020-02-10      1    02               0   \n",
       "3         33314     BB          A 2020-01-01      1    01               0   \n",
       "4         33314     BB          C 2020-05-01      1    05               0   \n",
       "...         ...    ...        ...        ...    ...   ...             ...   \n",
       "878900  1830551     BB          B 2020-12-31      1    12               0   \n",
       "878901  1830570     BB          B 2020-12-31      1    12               0   \n",
       "878902  1830580     AA          B 2020-12-31      1    12               0   \n",
       "878903  1830589     BB          B 2020-12-31      1    12               0   \n",
       "878904  1830598     AA          B 2020-12-31      1    12               0   \n",
       "\n",
       "        JOIN_DATE_2013  JOIN_DATE_2014  JOIN_DATE_2015  JOIN_DATE_2016  \\\n",
       "0                    0               1               0               0   \n",
       "1                    0               1               0               0   \n",
       "2                    0               1               0               0   \n",
       "3                    0               1               0               0   \n",
       "4                    0               1               0               0   \n",
       "...                ...             ...             ...             ...   \n",
       "878900               0               0               0               0   \n",
       "878901               0               0               0               0   \n",
       "878902               0               0               0               0   \n",
       "878903               0               0               0               0   \n",
       "878904               0               0               0               0   \n",
       "\n",
       "        JOIN_DATE_2017  JOIN_DATE_2018  JOIN_DATE_2019  JOIN_DATE_2020  \\\n",
       "0                    0               0               0               0   \n",
       "1                    0               0               0               0   \n",
       "2                    0               0               0               0   \n",
       "3                    0               0               0               0   \n",
       "4                    0               0               0               0   \n",
       "...                ...             ...             ...             ...   \n",
       "878900               0               0               0               1   \n",
       "878901               0               0               0               1   \n",
       "878902               0               0               0               1   \n",
       "878903               0               0               0               1   \n",
       "878904               0               0               0               1   \n",
       "\n",
       "        DAY_TYPE_공휴일  DAY_TYPE_주말  DAY_TYPE_주중  AD1_TYPE_SEOUL  강수여부  이상기온  \\\n",
       "0                  1            0            0               1     1     0   \n",
       "1                  1            0            0               1     1     0   \n",
       "2                  0            0            1               1     0     0   \n",
       "3                  1            0            0               1     1     0   \n",
       "4                  0            0            1               1     0     0   \n",
       "...              ...          ...          ...             ...   ...   ...   \n",
       "878900             0            0            1               1     0     1   \n",
       "878901             0            0            1               0     0     1   \n",
       "878902             0            0            1               1     0     1   \n",
       "878903             0            0            1               1     0     1   \n",
       "878904             0            0            1               1     0     1   \n",
       "\n",
       "        USER_ID_TYPE_A  USER_ID_TYPE_B  USER_ID_TYPE_C  \n",
       "0                    1               0               0  \n",
       "1                    1               0               0  \n",
       "2                    1               0               0  \n",
       "3                    1               0               0  \n",
       "4                    1               0               0  \n",
       "...                ...             ...             ...  \n",
       "878900               1               0               0  \n",
       "878901               1               0               0  \n",
       "878902               1               0               0  \n",
       "878903               1               0               0  \n",
       "878904               1               0               0  \n",
       "\n",
       "[878905 rows x 24 columns]"
      ]
     },
     "execution_count": 85,
     "metadata": {},
     "output_type": "execute_result"
    }
   ],
   "source": [
    "df_day1=pd.merge(df_day1,df_ut,on='USER_ID')\n",
    "df_day1=pd.get_dummies(df_day1,columns={'USER_ID_TYPE'})\n",
    "df_day1"
   ]
  },
  {
   "cell_type": "code",
   "execution_count": 86,
   "id": "e0574c60",
   "metadata": {
    "slideshow": {
     "slide_type": "skip"
    }
   },
   "outputs": [],
   "source": [
    "#min-max 정규화 함수\n",
    "def mmnorm(s):\n",
    "    return (s - s.min()) / ( s.max() - s.min())"
   ]
  },
  {
   "cell_type": "code",
   "execution_count": 87,
   "id": "54d1729e",
   "metadata": {
    "slideshow": {
     "slide_type": "skip"
    }
   },
   "outputs": [],
   "source": [
    "df_day1['DAY_TYPE_공휴일']=mmnorm(df_day1[['DAY_TYPE_공휴일']])\n",
    "df_day1['DAY_TYPE_주말']=mmnorm(df_day1[['DAY_TYPE_주말']])\n",
    "df_day1['DAY_TYPE_주중']=mmnorm(df_day1[['DAY_TYPE_주중']])\n",
    "df_day1['강수여부']=mmnorm(df_day1[['강수여부']])\n",
    "df_day1['이상기온']=mmnorm(df_day1[['이상기온']])"
   ]
  },
  {
   "cell_type": "code",
   "execution_count": 88,
   "id": "f6ceeded",
   "metadata": {
    "slideshow": {
     "slide_type": "skip"
    }
   },
   "outputs": [
    {
     "data": {
      "text/html": [
       "<div>\n",
       "<style scoped>\n",
       "    .dataframe tbody tr th:only-of-type {\n",
       "        vertical-align: middle;\n",
       "    }\n",
       "\n",
       "    .dataframe tbody tr th {\n",
       "        vertical-align: top;\n",
       "    }\n",
       "\n",
       "    .dataframe thead th {\n",
       "        text-align: right;\n",
       "    }\n",
       "</style>\n",
       "<table border=\"1\" class=\"dataframe\">\n",
       "  <thead>\n",
       "    <tr style=\"text-align: right;\">\n",
       "      <th></th>\n",
       "      <th>USER_ID</th>\n",
       "      <th>D_TYPE</th>\n",
       "      <th>GOODS_TYPE</th>\n",
       "      <th>DATE</th>\n",
       "      <th>COUNT</th>\n",
       "      <th>MONTH</th>\n",
       "      <th>JOIN_DATE_1970</th>\n",
       "      <th>JOIN_DATE_2013</th>\n",
       "      <th>JOIN_DATE_2014</th>\n",
       "      <th>JOIN_DATE_2015</th>\n",
       "      <th>JOIN_DATE_2016</th>\n",
       "      <th>JOIN_DATE_2017</th>\n",
       "      <th>JOIN_DATE_2018</th>\n",
       "      <th>JOIN_DATE_2019</th>\n",
       "      <th>JOIN_DATE_2020</th>\n",
       "      <th>DAY_TYPE_공휴일</th>\n",
       "      <th>DAY_TYPE_주말</th>\n",
       "      <th>DAY_TYPE_주중</th>\n",
       "      <th>AD1_TYPE_SEOUL</th>\n",
       "      <th>강수여부</th>\n",
       "      <th>이상기온</th>\n",
       "      <th>USER_ID_TYPE_A</th>\n",
       "      <th>USER_ID_TYPE_B</th>\n",
       "      <th>USER_ID_TYPE_C</th>\n",
       "    </tr>\n",
       "  </thead>\n",
       "  <tbody>\n",
       "    <tr>\n",
       "      <th>0</th>\n",
       "      <td>2858</td>\n",
       "      <td>AA</td>\n",
       "      <td>A</td>\n",
       "      <td>2020-01-01</td>\n",
       "      <td>1</td>\n",
       "      <td>01</td>\n",
       "      <td>0</td>\n",
       "      <td>0</td>\n",
       "      <td>1</td>\n",
       "      <td>0</td>\n",
       "      <td>0</td>\n",
       "      <td>0</td>\n",
       "      <td>0</td>\n",
       "      <td>0</td>\n",
       "      <td>0</td>\n",
       "      <td>1.00</td>\n",
       "      <td>0.00</td>\n",
       "      <td>0.00</td>\n",
       "      <td>1</td>\n",
       "      <td>1.00</td>\n",
       "      <td>0.00</td>\n",
       "      <td>1</td>\n",
       "      <td>0</td>\n",
       "      <td>0</td>\n",
       "    </tr>\n",
       "    <tr>\n",
       "      <th>1</th>\n",
       "      <td>5647</td>\n",
       "      <td>BB</td>\n",
       "      <td>A</td>\n",
       "      <td>2020-01-01</td>\n",
       "      <td>1</td>\n",
       "      <td>01</td>\n",
       "      <td>0</td>\n",
       "      <td>0</td>\n",
       "      <td>1</td>\n",
       "      <td>0</td>\n",
       "      <td>0</td>\n",
       "      <td>0</td>\n",
       "      <td>0</td>\n",
       "      <td>0</td>\n",
       "      <td>0</td>\n",
       "      <td>1.00</td>\n",
       "      <td>0.00</td>\n",
       "      <td>0.00</td>\n",
       "      <td>1</td>\n",
       "      <td>1.00</td>\n",
       "      <td>0.00</td>\n",
       "      <td>1</td>\n",
       "      <td>0</td>\n",
       "      <td>0</td>\n",
       "    </tr>\n",
       "    <tr>\n",
       "      <th>2</th>\n",
       "      <td>5647</td>\n",
       "      <td>BB</td>\n",
       "      <td>B</td>\n",
       "      <td>2020-02-10</td>\n",
       "      <td>1</td>\n",
       "      <td>02</td>\n",
       "      <td>0</td>\n",
       "      <td>0</td>\n",
       "      <td>1</td>\n",
       "      <td>0</td>\n",
       "      <td>0</td>\n",
       "      <td>0</td>\n",
       "      <td>0</td>\n",
       "      <td>0</td>\n",
       "      <td>0</td>\n",
       "      <td>0.00</td>\n",
       "      <td>0.00</td>\n",
       "      <td>1.00</td>\n",
       "      <td>1</td>\n",
       "      <td>0.00</td>\n",
       "      <td>0.00</td>\n",
       "      <td>1</td>\n",
       "      <td>0</td>\n",
       "      <td>0</td>\n",
       "    </tr>\n",
       "    <tr>\n",
       "      <th>3</th>\n",
       "      <td>33314</td>\n",
       "      <td>BB</td>\n",
       "      <td>A</td>\n",
       "      <td>2020-01-01</td>\n",
       "      <td>1</td>\n",
       "      <td>01</td>\n",
       "      <td>0</td>\n",
       "      <td>0</td>\n",
       "      <td>1</td>\n",
       "      <td>0</td>\n",
       "      <td>0</td>\n",
       "      <td>0</td>\n",
       "      <td>0</td>\n",
       "      <td>0</td>\n",
       "      <td>0</td>\n",
       "      <td>1.00</td>\n",
       "      <td>0.00</td>\n",
       "      <td>0.00</td>\n",
       "      <td>1</td>\n",
       "      <td>1.00</td>\n",
       "      <td>0.00</td>\n",
       "      <td>1</td>\n",
       "      <td>0</td>\n",
       "      <td>0</td>\n",
       "    </tr>\n",
       "    <tr>\n",
       "      <th>4</th>\n",
       "      <td>33314</td>\n",
       "      <td>BB</td>\n",
       "      <td>C</td>\n",
       "      <td>2020-05-01</td>\n",
       "      <td>1</td>\n",
       "      <td>05</td>\n",
       "      <td>0</td>\n",
       "      <td>0</td>\n",
       "      <td>1</td>\n",
       "      <td>0</td>\n",
       "      <td>0</td>\n",
       "      <td>0</td>\n",
       "      <td>0</td>\n",
       "      <td>0</td>\n",
       "      <td>0</td>\n",
       "      <td>0.00</td>\n",
       "      <td>0.00</td>\n",
       "      <td>1.00</td>\n",
       "      <td>1</td>\n",
       "      <td>0.00</td>\n",
       "      <td>0.00</td>\n",
       "      <td>1</td>\n",
       "      <td>0</td>\n",
       "      <td>0</td>\n",
       "    </tr>\n",
       "    <tr>\n",
       "      <th>...</th>\n",
       "      <td>...</td>\n",
       "      <td>...</td>\n",
       "      <td>...</td>\n",
       "      <td>...</td>\n",
       "      <td>...</td>\n",
       "      <td>...</td>\n",
       "      <td>...</td>\n",
       "      <td>...</td>\n",
       "      <td>...</td>\n",
       "      <td>...</td>\n",
       "      <td>...</td>\n",
       "      <td>...</td>\n",
       "      <td>...</td>\n",
       "      <td>...</td>\n",
       "      <td>...</td>\n",
       "      <td>...</td>\n",
       "      <td>...</td>\n",
       "      <td>...</td>\n",
       "      <td>...</td>\n",
       "      <td>...</td>\n",
       "      <td>...</td>\n",
       "      <td>...</td>\n",
       "      <td>...</td>\n",
       "      <td>...</td>\n",
       "    </tr>\n",
       "    <tr>\n",
       "      <th>878900</th>\n",
       "      <td>1830551</td>\n",
       "      <td>BB</td>\n",
       "      <td>B</td>\n",
       "      <td>2020-12-31</td>\n",
       "      <td>1</td>\n",
       "      <td>12</td>\n",
       "      <td>0</td>\n",
       "      <td>0</td>\n",
       "      <td>0</td>\n",
       "      <td>0</td>\n",
       "      <td>0</td>\n",
       "      <td>0</td>\n",
       "      <td>0</td>\n",
       "      <td>0</td>\n",
       "      <td>1</td>\n",
       "      <td>0.00</td>\n",
       "      <td>0.00</td>\n",
       "      <td>1.00</td>\n",
       "      <td>1</td>\n",
       "      <td>0.00</td>\n",
       "      <td>1.00</td>\n",
       "      <td>1</td>\n",
       "      <td>0</td>\n",
       "      <td>0</td>\n",
       "    </tr>\n",
       "    <tr>\n",
       "      <th>878901</th>\n",
       "      <td>1830570</td>\n",
       "      <td>BB</td>\n",
       "      <td>B</td>\n",
       "      <td>2020-12-31</td>\n",
       "      <td>1</td>\n",
       "      <td>12</td>\n",
       "      <td>0</td>\n",
       "      <td>0</td>\n",
       "      <td>0</td>\n",
       "      <td>0</td>\n",
       "      <td>0</td>\n",
       "      <td>0</td>\n",
       "      <td>0</td>\n",
       "      <td>0</td>\n",
       "      <td>1</td>\n",
       "      <td>0.00</td>\n",
       "      <td>0.00</td>\n",
       "      <td>1.00</td>\n",
       "      <td>0</td>\n",
       "      <td>0.00</td>\n",
       "      <td>1.00</td>\n",
       "      <td>1</td>\n",
       "      <td>0</td>\n",
       "      <td>0</td>\n",
       "    </tr>\n",
       "    <tr>\n",
       "      <th>878902</th>\n",
       "      <td>1830580</td>\n",
       "      <td>AA</td>\n",
       "      <td>B</td>\n",
       "      <td>2020-12-31</td>\n",
       "      <td>1</td>\n",
       "      <td>12</td>\n",
       "      <td>0</td>\n",
       "      <td>0</td>\n",
       "      <td>0</td>\n",
       "      <td>0</td>\n",
       "      <td>0</td>\n",
       "      <td>0</td>\n",
       "      <td>0</td>\n",
       "      <td>0</td>\n",
       "      <td>1</td>\n",
       "      <td>0.00</td>\n",
       "      <td>0.00</td>\n",
       "      <td>1.00</td>\n",
       "      <td>1</td>\n",
       "      <td>0.00</td>\n",
       "      <td>1.00</td>\n",
       "      <td>1</td>\n",
       "      <td>0</td>\n",
       "      <td>0</td>\n",
       "    </tr>\n",
       "    <tr>\n",
       "      <th>878903</th>\n",
       "      <td>1830589</td>\n",
       "      <td>BB</td>\n",
       "      <td>B</td>\n",
       "      <td>2020-12-31</td>\n",
       "      <td>1</td>\n",
       "      <td>12</td>\n",
       "      <td>0</td>\n",
       "      <td>0</td>\n",
       "      <td>0</td>\n",
       "      <td>0</td>\n",
       "      <td>0</td>\n",
       "      <td>0</td>\n",
       "      <td>0</td>\n",
       "      <td>0</td>\n",
       "      <td>1</td>\n",
       "      <td>0.00</td>\n",
       "      <td>0.00</td>\n",
       "      <td>1.00</td>\n",
       "      <td>1</td>\n",
       "      <td>0.00</td>\n",
       "      <td>1.00</td>\n",
       "      <td>1</td>\n",
       "      <td>0</td>\n",
       "      <td>0</td>\n",
       "    </tr>\n",
       "    <tr>\n",
       "      <th>878904</th>\n",
       "      <td>1830598</td>\n",
       "      <td>AA</td>\n",
       "      <td>B</td>\n",
       "      <td>2020-12-31</td>\n",
       "      <td>1</td>\n",
       "      <td>12</td>\n",
       "      <td>0</td>\n",
       "      <td>0</td>\n",
       "      <td>0</td>\n",
       "      <td>0</td>\n",
       "      <td>0</td>\n",
       "      <td>0</td>\n",
       "      <td>0</td>\n",
       "      <td>0</td>\n",
       "      <td>1</td>\n",
       "      <td>0.00</td>\n",
       "      <td>0.00</td>\n",
       "      <td>1.00</td>\n",
       "      <td>1</td>\n",
       "      <td>0.00</td>\n",
       "      <td>1.00</td>\n",
       "      <td>1</td>\n",
       "      <td>0</td>\n",
       "      <td>0</td>\n",
       "    </tr>\n",
       "  </tbody>\n",
       "</table>\n",
       "<p>878905 rows × 24 columns</p>\n",
       "</div>"
      ],
      "text/plain": [
       "        USER_ID D_TYPE GOODS_TYPE       DATE  COUNT MONTH  JOIN_DATE_1970  \\\n",
       "0          2858     AA          A 2020-01-01      1    01               0   \n",
       "1          5647     BB          A 2020-01-01      1    01               0   \n",
       "2          5647     BB          B 2020-02-10      1    02               0   \n",
       "3         33314     BB          A 2020-01-01      1    01               0   \n",
       "4         33314     BB          C 2020-05-01      1    05               0   \n",
       "...         ...    ...        ...        ...    ...   ...             ...   \n",
       "878900  1830551     BB          B 2020-12-31      1    12               0   \n",
       "878901  1830570     BB          B 2020-12-31      1    12               0   \n",
       "878902  1830580     AA          B 2020-12-31      1    12               0   \n",
       "878903  1830589     BB          B 2020-12-31      1    12               0   \n",
       "878904  1830598     AA          B 2020-12-31      1    12               0   \n",
       "\n",
       "        JOIN_DATE_2013  JOIN_DATE_2014  JOIN_DATE_2015  JOIN_DATE_2016  \\\n",
       "0                    0               1               0               0   \n",
       "1                    0               1               0               0   \n",
       "2                    0               1               0               0   \n",
       "3                    0               1               0               0   \n",
       "4                    0               1               0               0   \n",
       "...                ...             ...             ...             ...   \n",
       "878900               0               0               0               0   \n",
       "878901               0               0               0               0   \n",
       "878902               0               0               0               0   \n",
       "878903               0               0               0               0   \n",
       "878904               0               0               0               0   \n",
       "\n",
       "        JOIN_DATE_2017  JOIN_DATE_2018  JOIN_DATE_2019  JOIN_DATE_2020  \\\n",
       "0                    0               0               0               0   \n",
       "1                    0               0               0               0   \n",
       "2                    0               0               0               0   \n",
       "3                    0               0               0               0   \n",
       "4                    0               0               0               0   \n",
       "...                ...             ...             ...             ...   \n",
       "878900               0               0               0               1   \n",
       "878901               0               0               0               1   \n",
       "878902               0               0               0               1   \n",
       "878903               0               0               0               1   \n",
       "878904               0               0               0               1   \n",
       "\n",
       "        DAY_TYPE_공휴일  DAY_TYPE_주말  DAY_TYPE_주중  AD1_TYPE_SEOUL  강수여부  이상기온  \\\n",
       "0               1.00         0.00         0.00               1  1.00  0.00   \n",
       "1               1.00         0.00         0.00               1  1.00  0.00   \n",
       "2               0.00         0.00         1.00               1  0.00  0.00   \n",
       "3               1.00         0.00         0.00               1  1.00  0.00   \n",
       "4               0.00         0.00         1.00               1  0.00  0.00   \n",
       "...              ...          ...          ...             ...   ...   ...   \n",
       "878900          0.00         0.00         1.00               1  0.00  1.00   \n",
       "878901          0.00         0.00         1.00               0  0.00  1.00   \n",
       "878902          0.00         0.00         1.00               1  0.00  1.00   \n",
       "878903          0.00         0.00         1.00               1  0.00  1.00   \n",
       "878904          0.00         0.00         1.00               1  0.00  1.00   \n",
       "\n",
       "        USER_ID_TYPE_A  USER_ID_TYPE_B  USER_ID_TYPE_C  \n",
       "0                    1               0               0  \n",
       "1                    1               0               0  \n",
       "2                    1               0               0  \n",
       "3                    1               0               0  \n",
       "4                    1               0               0  \n",
       "...                ...             ...             ...  \n",
       "878900               1               0               0  \n",
       "878901               1               0               0  \n",
       "878902               1               0               0  \n",
       "878903               1               0               0  \n",
       "878904               1               0               0  \n",
       "\n",
       "[878905 rows x 24 columns]"
      ]
     },
     "execution_count": 88,
     "metadata": {},
     "output_type": "execute_result"
    }
   ],
   "source": [
    "df_day1"
   ]
  },
  {
   "cell_type": "code",
   "execution_count": 89,
   "id": "09edc369",
   "metadata": {
    "slideshow": {
     "slide_type": "slide"
    }
   },
   "outputs": [
    {
     "data": {
      "text/html": [
       "<div>\n",
       "<style scoped>\n",
       "    .dataframe tbody tr th:only-of-type {\n",
       "        vertical-align: middle;\n",
       "    }\n",
       "\n",
       "    .dataframe tbody tr th {\n",
       "        vertical-align: top;\n",
       "    }\n",
       "\n",
       "    .dataframe thead th {\n",
       "        text-align: right;\n",
       "    }\n",
       "</style>\n",
       "<table border=\"1\" class=\"dataframe\">\n",
       "  <thead>\n",
       "    <tr style=\"text-align: right;\">\n",
       "      <th></th>\n",
       "      <th>DATE</th>\n",
       "      <th>USER_ID</th>\n",
       "      <th>AD1_TYPE_SEOUL</th>\n",
       "      <th>DAY_TYPE_주중</th>\n",
       "      <th>DAY_TYPE_주말</th>\n",
       "      <th>DAY_TYPE_공휴일</th>\n",
       "      <th>강수여부</th>\n",
       "      <th>이상기온</th>\n",
       "      <th>USER_ID_TYPE_A</th>\n",
       "      <th>USER_ID_TYPE_B</th>\n",
       "      <th>USER_ID_TYPE_C</th>\n",
       "      <th>COUNT</th>\n",
       "    </tr>\n",
       "  </thead>\n",
       "  <tbody>\n",
       "    <tr>\n",
       "      <th>0</th>\n",
       "      <td>2020-01-01</td>\n",
       "      <td>2858</td>\n",
       "      <td>1</td>\n",
       "      <td>0.00</td>\n",
       "      <td>0.00</td>\n",
       "      <td>1.00</td>\n",
       "      <td>1.00</td>\n",
       "      <td>0.00</td>\n",
       "      <td>1</td>\n",
       "      <td>0</td>\n",
       "      <td>0</td>\n",
       "      <td>1</td>\n",
       "    </tr>\n",
       "    <tr>\n",
       "      <th>1</th>\n",
       "      <td>2020-01-01</td>\n",
       "      <td>5647</td>\n",
       "      <td>1</td>\n",
       "      <td>0.00</td>\n",
       "      <td>0.00</td>\n",
       "      <td>1.00</td>\n",
       "      <td>1.00</td>\n",
       "      <td>0.00</td>\n",
       "      <td>1</td>\n",
       "      <td>0</td>\n",
       "      <td>0</td>\n",
       "      <td>1</td>\n",
       "    </tr>\n",
       "    <tr>\n",
       "      <th>2</th>\n",
       "      <td>2020-02-10</td>\n",
       "      <td>5647</td>\n",
       "      <td>1</td>\n",
       "      <td>1.00</td>\n",
       "      <td>0.00</td>\n",
       "      <td>0.00</td>\n",
       "      <td>0.00</td>\n",
       "      <td>0.00</td>\n",
       "      <td>1</td>\n",
       "      <td>0</td>\n",
       "      <td>0</td>\n",
       "      <td>1</td>\n",
       "    </tr>\n",
       "    <tr>\n",
       "      <th>3</th>\n",
       "      <td>2020-01-01</td>\n",
       "      <td>33314</td>\n",
       "      <td>1</td>\n",
       "      <td>0.00</td>\n",
       "      <td>0.00</td>\n",
       "      <td>1.00</td>\n",
       "      <td>1.00</td>\n",
       "      <td>0.00</td>\n",
       "      <td>1</td>\n",
       "      <td>0</td>\n",
       "      <td>0</td>\n",
       "      <td>1</td>\n",
       "    </tr>\n",
       "    <tr>\n",
       "      <th>4</th>\n",
       "      <td>2020-05-01</td>\n",
       "      <td>33314</td>\n",
       "      <td>1</td>\n",
       "      <td>1.00</td>\n",
       "      <td>0.00</td>\n",
       "      <td>0.00</td>\n",
       "      <td>0.00</td>\n",
       "      <td>0.00</td>\n",
       "      <td>1</td>\n",
       "      <td>0</td>\n",
       "      <td>0</td>\n",
       "      <td>1</td>\n",
       "    </tr>\n",
       "    <tr>\n",
       "      <th>...</th>\n",
       "      <td>...</td>\n",
       "      <td>...</td>\n",
       "      <td>...</td>\n",
       "      <td>...</td>\n",
       "      <td>...</td>\n",
       "      <td>...</td>\n",
       "      <td>...</td>\n",
       "      <td>...</td>\n",
       "      <td>...</td>\n",
       "      <td>...</td>\n",
       "      <td>...</td>\n",
       "      <td>...</td>\n",
       "    </tr>\n",
       "    <tr>\n",
       "      <th>878900</th>\n",
       "      <td>2020-12-31</td>\n",
       "      <td>1830551</td>\n",
       "      <td>1</td>\n",
       "      <td>1.00</td>\n",
       "      <td>0.00</td>\n",
       "      <td>0.00</td>\n",
       "      <td>0.00</td>\n",
       "      <td>1.00</td>\n",
       "      <td>1</td>\n",
       "      <td>0</td>\n",
       "      <td>0</td>\n",
       "      <td>1</td>\n",
       "    </tr>\n",
       "    <tr>\n",
       "      <th>878901</th>\n",
       "      <td>2020-12-31</td>\n",
       "      <td>1830570</td>\n",
       "      <td>0</td>\n",
       "      <td>1.00</td>\n",
       "      <td>0.00</td>\n",
       "      <td>0.00</td>\n",
       "      <td>0.00</td>\n",
       "      <td>1.00</td>\n",
       "      <td>1</td>\n",
       "      <td>0</td>\n",
       "      <td>0</td>\n",
       "      <td>1</td>\n",
       "    </tr>\n",
       "    <tr>\n",
       "      <th>878902</th>\n",
       "      <td>2020-12-31</td>\n",
       "      <td>1830580</td>\n",
       "      <td>1</td>\n",
       "      <td>1.00</td>\n",
       "      <td>0.00</td>\n",
       "      <td>0.00</td>\n",
       "      <td>0.00</td>\n",
       "      <td>1.00</td>\n",
       "      <td>1</td>\n",
       "      <td>0</td>\n",
       "      <td>0</td>\n",
       "      <td>1</td>\n",
       "    </tr>\n",
       "    <tr>\n",
       "      <th>878903</th>\n",
       "      <td>2020-12-31</td>\n",
       "      <td>1830589</td>\n",
       "      <td>1</td>\n",
       "      <td>1.00</td>\n",
       "      <td>0.00</td>\n",
       "      <td>0.00</td>\n",
       "      <td>0.00</td>\n",
       "      <td>1.00</td>\n",
       "      <td>1</td>\n",
       "      <td>0</td>\n",
       "      <td>0</td>\n",
       "      <td>1</td>\n",
       "    </tr>\n",
       "    <tr>\n",
       "      <th>878904</th>\n",
       "      <td>2020-12-31</td>\n",
       "      <td>1830598</td>\n",
       "      <td>1</td>\n",
       "      <td>1.00</td>\n",
       "      <td>0.00</td>\n",
       "      <td>0.00</td>\n",
       "      <td>0.00</td>\n",
       "      <td>1.00</td>\n",
       "      <td>1</td>\n",
       "      <td>0</td>\n",
       "      <td>0</td>\n",
       "      <td>1</td>\n",
       "    </tr>\n",
       "  </tbody>\n",
       "</table>\n",
       "<p>878905 rows × 12 columns</p>\n",
       "</div>"
      ],
      "text/plain": [
       "             DATE  USER_ID  AD1_TYPE_SEOUL  DAY_TYPE_주중  DAY_TYPE_주말  \\\n",
       "0      2020-01-01     2858               1         0.00         0.00   \n",
       "1      2020-01-01     5647               1         0.00         0.00   \n",
       "2      2020-02-10     5647               1         1.00         0.00   \n",
       "3      2020-01-01    33314               1         0.00         0.00   \n",
       "4      2020-05-01    33314               1         1.00         0.00   \n",
       "...           ...      ...             ...          ...          ...   \n",
       "878900 2020-12-31  1830551               1         1.00         0.00   \n",
       "878901 2020-12-31  1830570               0         1.00         0.00   \n",
       "878902 2020-12-31  1830580               1         1.00         0.00   \n",
       "878903 2020-12-31  1830589               1         1.00         0.00   \n",
       "878904 2020-12-31  1830598               1         1.00         0.00   \n",
       "\n",
       "        DAY_TYPE_공휴일  강수여부  이상기온  USER_ID_TYPE_A  USER_ID_TYPE_B  \\\n",
       "0               1.00  1.00  0.00               1               0   \n",
       "1               1.00  1.00  0.00               1               0   \n",
       "2               0.00  0.00  0.00               1               0   \n",
       "3               1.00  1.00  0.00               1               0   \n",
       "4               0.00  0.00  0.00               1               0   \n",
       "...              ...   ...   ...             ...             ...   \n",
       "878900          0.00  0.00  1.00               1               0   \n",
       "878901          0.00  0.00  1.00               1               0   \n",
       "878902          0.00  0.00  1.00               1               0   \n",
       "878903          0.00  0.00  1.00               1               0   \n",
       "878904          0.00  0.00  1.00               1               0   \n",
       "\n",
       "        USER_ID_TYPE_C  COUNT  \n",
       "0                    0      1  \n",
       "1                    0      1  \n",
       "2                    0      1  \n",
       "3                    0      1  \n",
       "4                    0      1  \n",
       "...                ...    ...  \n",
       "878900               0      1  \n",
       "878901               0      1  \n",
       "878902               0      1  \n",
       "878903               0      1  \n",
       "878904               0      1  \n",
       "\n",
       "[878905 rows x 12 columns]"
      ]
     },
     "execution_count": 89,
     "metadata": {},
     "output_type": "execute_result"
    }
   ],
   "source": [
    "df_day1=df_day1[[\"DATE\",'USER_ID','AD1_TYPE_SEOUL','DAY_TYPE_주중','DAY_TYPE_주말','DAY_TYPE_공휴일','강수여부','이상기온','USER_ID_TYPE_A','USER_ID_TYPE_B','USER_ID_TYPE_C','COUNT']]\n",
    "df_day1"
   ]
  },
  {
   "cell_type": "code",
   "execution_count": 90,
   "id": "170e181f",
   "metadata": {
    "slideshow": {
     "slide_type": "skip"
    }
   },
   "outputs": [],
   "source": [
    "# 시간순서로 나열\n",
    "df_day1= df_day1.sort_values(by=\"DATE\")"
   ]
  },
  {
   "cell_type": "code",
   "execution_count": 91,
   "id": "9790ffb3",
   "metadata": {
    "slideshow": {
     "slide_type": "skip"
    }
   },
   "outputs": [],
   "source": [
    "# 데이터 나누기\n",
    "X_train1 = df_day1[:623305]\n",
    "X_test1 = df_day1[623305:]"
   ]
  },
  {
   "cell_type": "code",
   "execution_count": 92,
   "id": "d1c89927",
   "metadata": {
    "slideshow": {
     "slide_type": "skip"
    }
   },
   "outputs": [],
   "source": [
    "# 필요없는 컬럼 제거\n",
    "train_x1 = X_train1.drop([\"DATE\", \"COUNT\"], axis=1)\n",
    "train_y1 = X_train1['COUNT']\n",
    "\n",
    "test_x1 = X_test1.drop([\"DATE\", \"COUNT\"], axis=1)\n",
    "real_count1 = X_test1['COUNT']"
   ]
  },
  {
   "cell_type": "code",
   "execution_count": 93,
   "id": "3712af23",
   "metadata": {
    "slideshow": {
     "slide_type": "slide"
    }
   },
   "outputs": [],
   "source": [
    "# 각 모델별 MSE 값 확인 (디폴트 설정)\n",
    "np.random.seed(42)\n",
    "\n",
    "gboost = GradientBoostingRegressor()\n",
    "xgboost = XGBRegressor()\n",
    "lightgbm = LGBMRegressor()\n",
    "rdforest = RandomForestRegressor()\n",
    "\n",
    "models1 = [gboost, xgboost, lightgbm, rdforest]"
   ]
  },
  {
   "cell_type": "code",
   "execution_count": 94,
   "id": "3d18c7e5",
   "metadata": {
    "slideshow": {
     "slide_type": "skip"
    }
   },
   "outputs": [],
   "source": [
    "def get_scores(models1, train_x1, train_y1, test_x1):\n",
    "    df2 = {}\n",
    "\n",
    "    for model in models1:      \n",
    "        model.fit(train_x1, train_y1)\n",
    "        y_pred1 = model.predict(test_x1)\n",
    "        print(\"사용한 모델 :\",model)\n",
    "        print(\"MSE :\",mean_squared_error(real_count1, y_pred1))\n",
    "        print()\n",
    "        print()"
   ]
  },
  {
   "cell_type": "code",
   "execution_count": 102,
   "id": "1f7614ff",
   "metadata": {
    "slideshow": {
     "slide_type": "slide"
    }
   },
   "outputs": [
    {
     "name": "stdout",
     "output_type": "stream",
     "text": [
      "사용한 모델 : GradientBoostingRegressor()\n",
      "MSE : 0.03745320059513653\n",
      "\n",
      "\n",
      "사용한 모델 : XGBRegressor(base_score=0.5, booster='gbtree', colsample_bylevel=1,\n",
      "             colsample_bynode=1, colsample_bytree=1, gamma=0, gpu_id=-1,\n",
      "             importance_type='gain', interaction_constraints='',\n",
      "             learning_rate=0.300000012, max_delta_step=0, max_depth=6,\n",
      "             min_child_weight=1, missing=nan, monotone_constraints='()',\n",
      "             n_estimators=100, n_jobs=4, num_parallel_tree=1, random_state=0,\n",
      "             reg_alpha=0, reg_lambda=1, scale_pos_weight=1, subsample=1,\n",
      "             tree_method='exact', validate_parameters=1, verbosity=None)\n",
      "MSE : 0.038953190867117314\n",
      "\n",
      "\n",
      "사용한 모델 : LGBMRegressor()\n",
      "MSE : 0.036218743189760254\n",
      "\n",
      "\n",
      "사용한 모델 : RandomForestRegressor()\n",
      "MSE : 0.04461078021225606\n",
      "\n",
      "\n"
     ]
    }
   ],
   "source": [
    "get_scores(models1, train_x1, train_y1, test_x1)"
   ]
  },
  {
   "cell_type": "code",
   "execution_count": 103,
   "id": "b5a77be9",
   "metadata": {
    "slideshow": {
     "slide_type": "skip"
    }
   },
   "outputs": [],
   "source": [
    "# lightgbm이 가장 낮음\n",
    "# 해당 모델의 가장 좋은 파라미터를 찾기\n",
    "\n",
    "# 파라미터 범위\n",
    "param_grid = {\n",
    "    'n_estimators': [10, 30, 50],\n",
    "    'max_depth': [10, 20],\n",
    "    'learning_rate' : [0.05],\n",
    "    'num_iterations' : [100,200],\n",
    "}\n",
    "\n",
    "# 모델 준비 (LGBMRegressor)\n",
    "model1 = LGBMRegressor()"
   ]
  },
  {
   "cell_type": "code",
   "execution_count": 104,
   "id": "5372834d",
   "metadata": {
    "slideshow": {
     "slide_type": "slide"
    }
   },
   "outputs": [
    {
     "name": "stdout",
     "output_type": "stream",
     "text": [
      "Fitting 5 folds for each of 12 candidates, totalling 60 fits\n"
     ]
    },
    {
     "name": "stderr",
     "output_type": "stream",
     "text": [
      "[Parallel(n_jobs=5)]: Using backend LokyBackend with 5 concurrent workers.\n",
      "[Parallel(n_jobs=5)]: Done  40 tasks      | elapsed:  2.2min\n",
      "[Parallel(n_jobs=5)]: Done  60 out of  60 | elapsed:  3.2min finished\n"
     ]
    },
    {
     "name": "stdout",
     "output_type": "stream",
     "text": [
      "Best Param : {'learning_rate': 0.05, 'max_depth': 10, 'n_estimators': 10, 'num_iterations': 100}\n"
     ]
    }
   ],
   "source": [
    "# GridSearch로 가장 좋은 파라미터 찾기\n",
    "GCV = GridSearchCV(model1, param_grid=param_grid, scoring='neg_mean_squared_error', cv=5, verbose=1, n_jobs=5)\n",
    "\n",
    "# 모델 fitting\n",
    "GCV.fit(train_x1, train_y1)\n",
    "\n",
    "# 가장 좋은 파라미터 찾기\n",
    "print(\"Best Param :\", GCV.best_params_)"
   ]
  },
  {
   "cell_type": "code",
   "execution_count": 105,
   "id": "25f0f50f",
   "metadata": {
    "slideshow": {
     "slide_type": "skip"
    }
   },
   "outputs": [],
   "source": [
    "# 가장 좋은 파라미터로 모델 설정\n",
    "model1=GCV.best_estimator_ \n",
    "\n",
    "# 예측\n",
    "y_pred1 = model1.predict(test_x1)"
   ]
  },
  {
   "cell_type": "code",
   "execution_count": 150,
   "id": "bfa5e901",
   "metadata": {
    "slideshow": {
     "slide_type": "slide"
    }
   },
   "outputs": [
    {
     "name": "stdout",
     "output_type": "stream",
     "text": [
      "MAE : 0.04060358622564676\n",
      "MSE : 0.03560501243087223\n"
     ]
    }
   ],
   "source": [
    "print(\"MAE :\",mean_absolute_error(real_count1, y_pred1))\n",
    "print(\"MSE :\",mean_squared_error(real_count1, y_pred1))"
   ]
  },
  {
   "cell_type": "markdown",
   "id": "175537aa",
   "metadata": {},
   "source": [
    "## 4.2. 이용자 별 한달단위 이용 횟수 예측 모델링"
   ]
  },
  {
   "cell_type": "markdown",
   "id": "7cf211ad",
   "metadata": {
    "slideshow": {
     "slide_type": "skip"
    }
   },
   "source": [
    "### 4.2.1. 피쳐 엔지니어링"
   ]
  },
  {
   "cell_type": "code",
   "execution_count": 107,
   "id": "751855a2",
   "metadata": {
    "slideshow": {
     "slide_type": "skip"
    }
   },
   "outputs": [],
   "source": [
    "#실전db데이터\n",
    "df_db=pd.read_csv('실전db.csv', encoding='cp949')\n",
    "#기상데이터\n",
    "df_w=pd.read_csv('서울시_기상데이터.csv', encoding='cp949')"
   ]
  },
  {
   "cell_type": "code",
   "execution_count": 108,
   "id": "637f8791",
   "metadata": {
    "slideshow": {
     "slide_type": "skip"
    }
   },
   "outputs": [],
   "source": [
    "# 이상치(일반적인 이용자라고 추정할 수 없는 USER_ID) 제거\n",
    "df_db=df_db[df_db[\"USER_ID\"] != 999665]\n",
    "df_db=df_db.reset_index()\n",
    "df_db.drop(['index'], axis=1, inplace=True)"
   ]
  },
  {
   "cell_type": "code",
   "execution_count": 109,
   "id": "f6b981ba",
   "metadata": {
    "slideshow": {
     "slide_type": "skip"
    }
   },
   "outputs": [],
   "source": [
    "# JOIN_DATE와 DATE는 datetime 형태로 바꾼다\n",
    "df_db.JOIN_DATE = pd.to_datetime(df_db.JOIN_DATE) \n",
    "df_db.DATE = pd.to_datetime(df_db.DATE)"
   ]
  },
  {
   "cell_type": "code",
   "execution_count": 110,
   "id": "dd21e488",
   "metadata": {
    "slideshow": {
     "slide_type": "skip"
    }
   },
   "outputs": [],
   "source": [
    "# JOIN_DATE는 년도로 바꾼다.\n",
    "df_db.JOIN_DATE = df_db.JOIN_DATE.dt.to_period(freq=\"A\") # 나중에 원핫인코딩으로 바꾸자.\n",
    "df_db.JOIN_DATE = df_db.JOIN_DATE.astype(str)"
   ]
  },
  {
   "cell_type": "code",
   "execution_count": 111,
   "id": "382bdcb2",
   "metadata": {
    "slideshow": {
     "slide_type": "skip"
    }
   },
   "outputs": [],
   "source": [
    "# DATE는 월별로 묶어서 새로운 컬럼을 생성\n",
    "df_db[\"MONTH\"] = df_db.DATE.dt.strftime('%m')"
   ]
  },
  {
   "cell_type": "code",
   "execution_count": 112,
   "id": "975a9a1d",
   "metadata": {
    "slideshow": {
     "slide_type": "skip"
    }
   },
   "outputs": [],
   "source": [
    "# DAY_TYPE별 컬럼 만들기\n",
    "holiday_list = ['2020-01-01','2020-01-24','2020-01-25','2020-01-26','2020-01-27','2020-03-01',\n",
    "                '2020-05-05','2020-04-15','2020-04-30','2020-06-06','2020-08-15','2020-09-30','2020-10-01',\n",
    "                '2020-10-02','2020-10-03','2020-10-09','2020-12-25']\n",
    "# 보다 빠른 계산을 위해 값 변환보다 list를 column으로 선언하는 방법 사용\n",
    "day_type_list = []\n",
    "for z in range(len(df_db)) :\n",
    "    if df_db['DATE'].loc[z].strftime('%Y-%m-%d') in holiday_list :\n",
    "        day_type_list.append('공휴일') \n",
    "    elif df_db['DATE'].loc[z].weekday() > 4 :\n",
    "        day_type_list.append('주말')\n",
    "    else :\n",
    "        day_type_list.append('주중')  \n",
    "df_db['DAY_TYPE'] = day_type_list\n",
    "# DAY TYPE별 분류\n",
    "df_day_0= df_db[df_db['DAY_TYPE']=='주말']\n",
    "df_day_1= df_db[df_db['DAY_TYPE']=='공휴일']\n",
    "df_day_2= df_db[df_db['DAY_TYPE']=='주중']"
   ]
  },
  {
   "cell_type": "code",
   "execution_count": 113,
   "id": "dcbf97b0",
   "metadata": {
    "slideshow": {
     "slide_type": "skip"
    }
   },
   "outputs": [],
   "source": [
    "# Feature에 제외되는 컬럼 제거\n",
    "df_db=df_db.drop(['STORE_ID'], axis=1)"
   ]
  },
  {
   "cell_type": "code",
   "execution_count": 114,
   "id": "18378c96",
   "metadata": {
    "slideshow": {
     "slide_type": "skip"
    }
   },
   "outputs": [],
   "source": [
    "# AD1 중 서울 내 지점 추정\n",
    "# AD1 중 서울 내 지점 추정\n",
    "seoul = \"\"\"\n",
    "1.종로구, JR\n",
    "2. 중구, J\n",
    "3.용산구, YO\n",
    "4 성동구,SOD\n",
    "5광진구,GJ\n",
    "6동대문구, DM\n",
    "7.중랑구, JRR\n",
    "8.성북구, SB\n",
    "9.강북구, GB\n",
    "10.도봉구, DB\n",
    "11. 노원구, NW\n",
    "12.은평구, EP\n",
    "13.서대문구, SD\n",
    "14.마포구, MP\n",
    "15.양천구, YC\n",
    "16.강서구, GS\n",
    "17.구로구, GR\n",
    "18. 금천구, GHN\n",
    "19.영등포구,YD\n",
    "20.동작구, DJ\n",
    "21. 관악구, GW\n",
    "22.서초구, SC\n",
    "23.강남구,GN\n",
    "24. 송파구, SP\n",
    "25.강동구 GD\"\"\"\n",
    "# AD1 코드 추출\n",
    "seoul = re.sub(\"[0-9.,가-힣 ]\", \"\", seoul).split()\n",
    "ad1_type_list = []\n",
    "for k in range(len(df_db)) :\n",
    "    if df_db['AD1'].loc[k] in seoul :\n",
    "         ad1_type_list.append('SEOUL')\n",
    "    else :\n",
    "         ad1_type_list.append('NOT_SEOUL')\n",
    "df_db['AD1_TYPE'] = ad1_type_list"
   ]
  },
  {
   "cell_type": "code",
   "execution_count": 115,
   "id": "7b97cb9d",
   "metadata": {
    "slideshow": {
     "slide_type": "skip"
    }
   },
   "outputs": [],
   "source": [
    "#USER_ID별 COUNT의 COUNT값\n",
    "df_uc=df_db[['USER_ID','COUNT']]\n",
    "df_ucc=df_uc.groupby('USER_ID').count().reset_index()\n",
    "df_ucc.rename(columns={'COUNT':'COUNTS'},inplace=True)\n",
    "#USER_ID별 COUNT의 MAX값\n",
    "df_uc=df_db[['USER_ID','COUNT']]\n",
    "df_ucmax=df_uc.groupby('USER_ID').max().reset_index()\n",
    "df_ucmax.rename(columns={'COUNT':'MAX_COUNT'},inplace=True)\n",
    "#USER_ID별 COUNT의 MEAN값\n",
    "df_uc=df_db[['USER_ID','COUNT']]\n",
    "df_ucmean=df_uc.groupby('USER_ID').mean().reset_index()\n",
    "df_ucmean.rename(columns={'COUNT':'MEAN_COUNT'},inplace=True)\n",
    "#USER_ID별 COUNT으 COUNT,MAX,MEAN값 \n",
    "df_ucm=pd.merge(df_ucmean,df_ucmax)\n",
    "df_ucm=pd.merge(df_ucm,df_ucc)\n",
    "#USER_TYPE 컬럼 기준에 따라 생성\n",
    "df_ucm_not1=df_ucm[df_ucm.MAX_COUNT!=1]\n",
    "df_ucm_1=df_ucm[df_ucm.MAX_COUNT==1]\n",
    "df_ucm_1=df_ucm[df_ucm['MEAN_COUNT']==1]\n",
    "df_ucm_1['USER_ID_TYPE']='A'\n",
    "df_ucm_1=df_ucm_1[['USER_ID','USER_ID_TYPE']]\n",
    "df_ucm_2=df_ucm[(df_ucm['MEAN_COUNT']>=3) & (df_ucm['COUNTS']>=2)]\n",
    "df_ucm_2['USER_ID_TYPE']='B'\n",
    "df_ucm_2=df_ucm_2[['USER_ID','USER_ID_TYPE']]\n",
    "df_ucm_3=df_ucm[df_ucm['MEAN_COUNT']!=1]\n",
    "df_ucm_3=df_ucm_3[(df_ucm_3['MEAN_COUNT']<3) | (df_ucm_3['COUNTS']==1)]\n",
    "df_ucm_3['USER_ID_TYPE']='C'\n",
    "df_ucm_3=df_ucm_3[['USER_ID','USER_ID_TYPE']]\n",
    "df_ucm_3\n",
    "df_ut=pd.concat([df_ucm_1,df_ucm_2,df_ucm_3])"
   ]
  },
  {
   "cell_type": "code",
   "execution_count": 116,
   "id": "2c09d798",
   "metadata": {
    "slideshow": {
     "slide_type": "skip"
    }
   },
   "outputs": [],
   "source": [
    "df_db=pd.merge(df_db,df_ut,on='USER_ID')\n",
    "df_db=pd.get_dummies(df_db,columns={'USER_ID_TYPE'})"
   ]
  },
  {
   "cell_type": "code",
   "execution_count": 117,
   "id": "017a20eb",
   "metadata": {
    "slideshow": {
     "slide_type": "skip"
    }
   },
   "outputs": [],
   "source": [
    "# 카테고리값을 One_hot_encoding\n",
    "df_db=pd.get_dummies(df_db,columns=['JOIN_DATE','DAY_TYPE','AD1_TYPE','D_TYPE','GOODS_TYPE'])"
   ]
  },
  {
   "cell_type": "code",
   "execution_count": 118,
   "id": "92362cf2",
   "metadata": {
    "slideshow": {
     "slide_type": "skip"
    }
   },
   "outputs": [],
   "source": [
    "# Feature에 제외되는 컬럼 제거\n",
    "df_db=df_db.drop(['AD1','AD1_TYPE_NOT_SEOUL'],axis=1)"
   ]
  },
  {
   "cell_type": "code",
   "execution_count": 119,
   "id": "8a24f33f",
   "metadata": {
    "slideshow": {
     "slide_type": "skip"
    }
   },
   "outputs": [
    {
     "data": {
      "text/html": [
       "<div>\n",
       "<style scoped>\n",
       "    .dataframe tbody tr th:only-of-type {\n",
       "        vertical-align: middle;\n",
       "    }\n",
       "\n",
       "    .dataframe tbody tr th {\n",
       "        vertical-align: top;\n",
       "    }\n",
       "\n",
       "    .dataframe thead th {\n",
       "        text-align: right;\n",
       "    }\n",
       "</style>\n",
       "<table border=\"1\" class=\"dataframe\">\n",
       "  <thead>\n",
       "    <tr style=\"text-align: right;\">\n",
       "      <th></th>\n",
       "      <th>USER_ID</th>\n",
       "      <th>DATE</th>\n",
       "      <th>COUNT</th>\n",
       "      <th>MONTH</th>\n",
       "      <th>USER_ID_TYPE_A</th>\n",
       "      <th>USER_ID_TYPE_B</th>\n",
       "      <th>USER_ID_TYPE_C</th>\n",
       "      <th>JOIN_DATE_1970</th>\n",
       "      <th>JOIN_DATE_2013</th>\n",
       "      <th>JOIN_DATE_2014</th>\n",
       "      <th>JOIN_DATE_2015</th>\n",
       "      <th>JOIN_DATE_2016</th>\n",
       "      <th>JOIN_DATE_2017</th>\n",
       "      <th>JOIN_DATE_2018</th>\n",
       "      <th>JOIN_DATE_2019</th>\n",
       "      <th>JOIN_DATE_2020</th>\n",
       "      <th>DAY_TYPE_공휴일</th>\n",
       "      <th>DAY_TYPE_주말</th>\n",
       "      <th>DAY_TYPE_주중</th>\n",
       "      <th>AD1_TYPE_SEOUL</th>\n",
       "      <th>D_TYPE_AA</th>\n",
       "      <th>D_TYPE_BB</th>\n",
       "      <th>D_TYPE_CC</th>\n",
       "      <th>GOODS_TYPE_A</th>\n",
       "      <th>GOODS_TYPE_B</th>\n",
       "      <th>GOODS_TYPE_C</th>\n",
       "      <th>GOODS_TYPE_D</th>\n",
       "    </tr>\n",
       "  </thead>\n",
       "  <tbody>\n",
       "    <tr>\n",
       "      <th>0</th>\n",
       "      <td>2858</td>\n",
       "      <td>2020-01-01</td>\n",
       "      <td>1</td>\n",
       "      <td>01</td>\n",
       "      <td>1</td>\n",
       "      <td>0</td>\n",
       "      <td>0</td>\n",
       "      <td>0</td>\n",
       "      <td>0</td>\n",
       "      <td>1</td>\n",
       "      <td>0</td>\n",
       "      <td>0</td>\n",
       "      <td>0</td>\n",
       "      <td>0</td>\n",
       "      <td>0</td>\n",
       "      <td>0</td>\n",
       "      <td>1</td>\n",
       "      <td>0</td>\n",
       "      <td>0</td>\n",
       "      <td>1</td>\n",
       "      <td>1</td>\n",
       "      <td>0</td>\n",
       "      <td>0</td>\n",
       "      <td>1</td>\n",
       "      <td>0</td>\n",
       "      <td>0</td>\n",
       "      <td>0</td>\n",
       "    </tr>\n",
       "    <tr>\n",
       "      <th>1</th>\n",
       "      <td>5647</td>\n",
       "      <td>2020-01-01</td>\n",
       "      <td>1</td>\n",
       "      <td>01</td>\n",
       "      <td>1</td>\n",
       "      <td>0</td>\n",
       "      <td>0</td>\n",
       "      <td>0</td>\n",
       "      <td>0</td>\n",
       "      <td>1</td>\n",
       "      <td>0</td>\n",
       "      <td>0</td>\n",
       "      <td>0</td>\n",
       "      <td>0</td>\n",
       "      <td>0</td>\n",
       "      <td>0</td>\n",
       "      <td>1</td>\n",
       "      <td>0</td>\n",
       "      <td>0</td>\n",
       "      <td>1</td>\n",
       "      <td>0</td>\n",
       "      <td>1</td>\n",
       "      <td>0</td>\n",
       "      <td>1</td>\n",
       "      <td>0</td>\n",
       "      <td>0</td>\n",
       "      <td>0</td>\n",
       "    </tr>\n",
       "    <tr>\n",
       "      <th>2</th>\n",
       "      <td>5647</td>\n",
       "      <td>2020-02-10</td>\n",
       "      <td>1</td>\n",
       "      <td>02</td>\n",
       "      <td>1</td>\n",
       "      <td>0</td>\n",
       "      <td>0</td>\n",
       "      <td>0</td>\n",
       "      <td>0</td>\n",
       "      <td>1</td>\n",
       "      <td>0</td>\n",
       "      <td>0</td>\n",
       "      <td>0</td>\n",
       "      <td>0</td>\n",
       "      <td>0</td>\n",
       "      <td>0</td>\n",
       "      <td>0</td>\n",
       "      <td>0</td>\n",
       "      <td>1</td>\n",
       "      <td>1</td>\n",
       "      <td>0</td>\n",
       "      <td>1</td>\n",
       "      <td>0</td>\n",
       "      <td>0</td>\n",
       "      <td>1</td>\n",
       "      <td>0</td>\n",
       "      <td>0</td>\n",
       "    </tr>\n",
       "    <tr>\n",
       "      <th>3</th>\n",
       "      <td>33314</td>\n",
       "      <td>2020-01-01</td>\n",
       "      <td>1</td>\n",
       "      <td>01</td>\n",
       "      <td>1</td>\n",
       "      <td>0</td>\n",
       "      <td>0</td>\n",
       "      <td>0</td>\n",
       "      <td>0</td>\n",
       "      <td>1</td>\n",
       "      <td>0</td>\n",
       "      <td>0</td>\n",
       "      <td>0</td>\n",
       "      <td>0</td>\n",
       "      <td>0</td>\n",
       "      <td>0</td>\n",
       "      <td>1</td>\n",
       "      <td>0</td>\n",
       "      <td>0</td>\n",
       "      <td>1</td>\n",
       "      <td>0</td>\n",
       "      <td>1</td>\n",
       "      <td>0</td>\n",
       "      <td>1</td>\n",
       "      <td>0</td>\n",
       "      <td>0</td>\n",
       "      <td>0</td>\n",
       "    </tr>\n",
       "    <tr>\n",
       "      <th>4</th>\n",
       "      <td>33314</td>\n",
       "      <td>2020-05-01</td>\n",
       "      <td>1</td>\n",
       "      <td>05</td>\n",
       "      <td>1</td>\n",
       "      <td>0</td>\n",
       "      <td>0</td>\n",
       "      <td>0</td>\n",
       "      <td>0</td>\n",
       "      <td>1</td>\n",
       "      <td>0</td>\n",
       "      <td>0</td>\n",
       "      <td>0</td>\n",
       "      <td>0</td>\n",
       "      <td>0</td>\n",
       "      <td>0</td>\n",
       "      <td>0</td>\n",
       "      <td>0</td>\n",
       "      <td>1</td>\n",
       "      <td>1</td>\n",
       "      <td>0</td>\n",
       "      <td>1</td>\n",
       "      <td>0</td>\n",
       "      <td>0</td>\n",
       "      <td>0</td>\n",
       "      <td>1</td>\n",
       "      <td>0</td>\n",
       "    </tr>\n",
       "    <tr>\n",
       "      <th>...</th>\n",
       "      <td>...</td>\n",
       "      <td>...</td>\n",
       "      <td>...</td>\n",
       "      <td>...</td>\n",
       "      <td>...</td>\n",
       "      <td>...</td>\n",
       "      <td>...</td>\n",
       "      <td>...</td>\n",
       "      <td>...</td>\n",
       "      <td>...</td>\n",
       "      <td>...</td>\n",
       "      <td>...</td>\n",
       "      <td>...</td>\n",
       "      <td>...</td>\n",
       "      <td>...</td>\n",
       "      <td>...</td>\n",
       "      <td>...</td>\n",
       "      <td>...</td>\n",
       "      <td>...</td>\n",
       "      <td>...</td>\n",
       "      <td>...</td>\n",
       "      <td>...</td>\n",
       "      <td>...</td>\n",
       "      <td>...</td>\n",
       "      <td>...</td>\n",
       "      <td>...</td>\n",
       "      <td>...</td>\n",
       "    </tr>\n",
       "    <tr>\n",
       "      <th>878900</th>\n",
       "      <td>1830551</td>\n",
       "      <td>2020-12-31</td>\n",
       "      <td>1</td>\n",
       "      <td>12</td>\n",
       "      <td>1</td>\n",
       "      <td>0</td>\n",
       "      <td>0</td>\n",
       "      <td>0</td>\n",
       "      <td>0</td>\n",
       "      <td>0</td>\n",
       "      <td>0</td>\n",
       "      <td>0</td>\n",
       "      <td>0</td>\n",
       "      <td>0</td>\n",
       "      <td>0</td>\n",
       "      <td>1</td>\n",
       "      <td>0</td>\n",
       "      <td>0</td>\n",
       "      <td>1</td>\n",
       "      <td>1</td>\n",
       "      <td>0</td>\n",
       "      <td>1</td>\n",
       "      <td>0</td>\n",
       "      <td>0</td>\n",
       "      <td>1</td>\n",
       "      <td>0</td>\n",
       "      <td>0</td>\n",
       "    </tr>\n",
       "    <tr>\n",
       "      <th>878901</th>\n",
       "      <td>1830570</td>\n",
       "      <td>2020-12-31</td>\n",
       "      <td>1</td>\n",
       "      <td>12</td>\n",
       "      <td>1</td>\n",
       "      <td>0</td>\n",
       "      <td>0</td>\n",
       "      <td>0</td>\n",
       "      <td>0</td>\n",
       "      <td>0</td>\n",
       "      <td>0</td>\n",
       "      <td>0</td>\n",
       "      <td>0</td>\n",
       "      <td>0</td>\n",
       "      <td>0</td>\n",
       "      <td>1</td>\n",
       "      <td>0</td>\n",
       "      <td>0</td>\n",
       "      <td>1</td>\n",
       "      <td>0</td>\n",
       "      <td>0</td>\n",
       "      <td>1</td>\n",
       "      <td>0</td>\n",
       "      <td>0</td>\n",
       "      <td>1</td>\n",
       "      <td>0</td>\n",
       "      <td>0</td>\n",
       "    </tr>\n",
       "    <tr>\n",
       "      <th>878902</th>\n",
       "      <td>1830580</td>\n",
       "      <td>2020-12-31</td>\n",
       "      <td>1</td>\n",
       "      <td>12</td>\n",
       "      <td>1</td>\n",
       "      <td>0</td>\n",
       "      <td>0</td>\n",
       "      <td>0</td>\n",
       "      <td>0</td>\n",
       "      <td>0</td>\n",
       "      <td>0</td>\n",
       "      <td>0</td>\n",
       "      <td>0</td>\n",
       "      <td>0</td>\n",
       "      <td>0</td>\n",
       "      <td>1</td>\n",
       "      <td>0</td>\n",
       "      <td>0</td>\n",
       "      <td>1</td>\n",
       "      <td>1</td>\n",
       "      <td>1</td>\n",
       "      <td>0</td>\n",
       "      <td>0</td>\n",
       "      <td>0</td>\n",
       "      <td>1</td>\n",
       "      <td>0</td>\n",
       "      <td>0</td>\n",
       "    </tr>\n",
       "    <tr>\n",
       "      <th>878903</th>\n",
       "      <td>1830589</td>\n",
       "      <td>2020-12-31</td>\n",
       "      <td>1</td>\n",
       "      <td>12</td>\n",
       "      <td>1</td>\n",
       "      <td>0</td>\n",
       "      <td>0</td>\n",
       "      <td>0</td>\n",
       "      <td>0</td>\n",
       "      <td>0</td>\n",
       "      <td>0</td>\n",
       "      <td>0</td>\n",
       "      <td>0</td>\n",
       "      <td>0</td>\n",
       "      <td>0</td>\n",
       "      <td>1</td>\n",
       "      <td>0</td>\n",
       "      <td>0</td>\n",
       "      <td>1</td>\n",
       "      <td>1</td>\n",
       "      <td>0</td>\n",
       "      <td>1</td>\n",
       "      <td>0</td>\n",
       "      <td>0</td>\n",
       "      <td>1</td>\n",
       "      <td>0</td>\n",
       "      <td>0</td>\n",
       "    </tr>\n",
       "    <tr>\n",
       "      <th>878904</th>\n",
       "      <td>1830598</td>\n",
       "      <td>2020-12-31</td>\n",
       "      <td>1</td>\n",
       "      <td>12</td>\n",
       "      <td>1</td>\n",
       "      <td>0</td>\n",
       "      <td>0</td>\n",
       "      <td>0</td>\n",
       "      <td>0</td>\n",
       "      <td>0</td>\n",
       "      <td>0</td>\n",
       "      <td>0</td>\n",
       "      <td>0</td>\n",
       "      <td>0</td>\n",
       "      <td>0</td>\n",
       "      <td>1</td>\n",
       "      <td>0</td>\n",
       "      <td>0</td>\n",
       "      <td>1</td>\n",
       "      <td>1</td>\n",
       "      <td>1</td>\n",
       "      <td>0</td>\n",
       "      <td>0</td>\n",
       "      <td>0</td>\n",
       "      <td>1</td>\n",
       "      <td>0</td>\n",
       "      <td>0</td>\n",
       "    </tr>\n",
       "  </tbody>\n",
       "</table>\n",
       "<p>878905 rows × 27 columns</p>\n",
       "</div>"
      ],
      "text/plain": [
       "        USER_ID       DATE  COUNT MONTH  USER_ID_TYPE_A  USER_ID_TYPE_B  \\\n",
       "0          2858 2020-01-01      1    01               1               0   \n",
       "1          5647 2020-01-01      1    01               1               0   \n",
       "2          5647 2020-02-10      1    02               1               0   \n",
       "3         33314 2020-01-01      1    01               1               0   \n",
       "4         33314 2020-05-01      1    05               1               0   \n",
       "...         ...        ...    ...   ...             ...             ...   \n",
       "878900  1830551 2020-12-31      1    12               1               0   \n",
       "878901  1830570 2020-12-31      1    12               1               0   \n",
       "878902  1830580 2020-12-31      1    12               1               0   \n",
       "878903  1830589 2020-12-31      1    12               1               0   \n",
       "878904  1830598 2020-12-31      1    12               1               0   \n",
       "\n",
       "        USER_ID_TYPE_C  JOIN_DATE_1970  JOIN_DATE_2013  JOIN_DATE_2014  \\\n",
       "0                    0               0               0               1   \n",
       "1                    0               0               0               1   \n",
       "2                    0               0               0               1   \n",
       "3                    0               0               0               1   \n",
       "4                    0               0               0               1   \n",
       "...                ...             ...             ...             ...   \n",
       "878900               0               0               0               0   \n",
       "878901               0               0               0               0   \n",
       "878902               0               0               0               0   \n",
       "878903               0               0               0               0   \n",
       "878904               0               0               0               0   \n",
       "\n",
       "        JOIN_DATE_2015  JOIN_DATE_2016  JOIN_DATE_2017  JOIN_DATE_2018  \\\n",
       "0                    0               0               0               0   \n",
       "1                    0               0               0               0   \n",
       "2                    0               0               0               0   \n",
       "3                    0               0               0               0   \n",
       "4                    0               0               0               0   \n",
       "...                ...             ...             ...             ...   \n",
       "878900               0               0               0               0   \n",
       "878901               0               0               0               0   \n",
       "878902               0               0               0               0   \n",
       "878903               0               0               0               0   \n",
       "878904               0               0               0               0   \n",
       "\n",
       "        JOIN_DATE_2019  JOIN_DATE_2020  DAY_TYPE_공휴일  DAY_TYPE_주말  \\\n",
       "0                    0               0             1            0   \n",
       "1                    0               0             1            0   \n",
       "2                    0               0             0            0   \n",
       "3                    0               0             1            0   \n",
       "4                    0               0             0            0   \n",
       "...                ...             ...           ...          ...   \n",
       "878900               0               1             0            0   \n",
       "878901               0               1             0            0   \n",
       "878902               0               1             0            0   \n",
       "878903               0               1             0            0   \n",
       "878904               0               1             0            0   \n",
       "\n",
       "        DAY_TYPE_주중  AD1_TYPE_SEOUL  D_TYPE_AA  D_TYPE_BB  D_TYPE_CC  \\\n",
       "0                 0               1          1          0          0   \n",
       "1                 0               1          0          1          0   \n",
       "2                 1               1          0          1          0   \n",
       "3                 0               1          0          1          0   \n",
       "4                 1               1          0          1          0   \n",
       "...             ...             ...        ...        ...        ...   \n",
       "878900            1               1          0          1          0   \n",
       "878901            1               0          0          1          0   \n",
       "878902            1               1          1          0          0   \n",
       "878903            1               1          0          1          0   \n",
       "878904            1               1          1          0          0   \n",
       "\n",
       "        GOODS_TYPE_A  GOODS_TYPE_B  GOODS_TYPE_C  GOODS_TYPE_D  \n",
       "0                  1             0             0             0  \n",
       "1                  1             0             0             0  \n",
       "2                  0             1             0             0  \n",
       "3                  1             0             0             0  \n",
       "4                  0             0             1             0  \n",
       "...              ...           ...           ...           ...  \n",
       "878900             0             1             0             0  \n",
       "878901             0             1             0             0  \n",
       "878902             0             1             0             0  \n",
       "878903             0             1             0             0  \n",
       "878904             0             1             0             0  \n",
       "\n",
       "[878905 rows x 27 columns]"
      ]
     },
     "execution_count": 119,
     "metadata": {},
     "output_type": "execute_result"
    }
   ],
   "source": [
    "df_db"
   ]
  },
  {
   "cell_type": "code",
   "execution_count": 120,
   "id": "9c9f8b94",
   "metadata": {
    "slideshow": {
     "slide_type": "skip"
    }
   },
   "outputs": [],
   "source": [
    "# 기상청 센서 기준 NaN 값은 0으로 판단\n",
    "df_w=df_w.fillna(0)\n",
    "# 일시 컬럼을 일자와 시간으로 분리 \n",
    "df_w['일자']=0\n",
    "for i in range(len(df_w)):\n",
    "    df_w['일자'][i] = df_w['일시'].iloc[i][:10]\n",
    "    df_w['시간'] = 0\n",
    "for i in range(len(df_w)):\n",
    "    df_w['시간'][i] = df_w['일시'].iloc[i][11:]\n",
    "#컬럼정리 \n",
    "df_w = df_w[['일시','일자','시간', '기온','강수량','적설량']]\n",
    "# datetime 형식으로 자료형 바꿔주기\n",
    "df_w['일자'] = pd.to_datetime(df_w['일자'])\n",
    "# 요일 컬럼 넣어주기 (월요일:0 ~ 일요일:6)\n",
    "# 주말(토,일)은 5,6\n",
    "df_w['요일'] = df_w['일자'].dt.weekday\n",
    "# 공휴일은 주말로 바꿔주기\n",
    "holiday_list = ['2020-01-01','2020-01-24','2020-01-25','2020-01-26','2020-01-27', \n",
    "                '2020-03-01','2020-05-05','2020-04-15','2020-04-30','2020-06-06', \n",
    "                '2020-08-15','2020-09-30','2020-10-01','2020-10-02','2020-10-03', \n",
    "                '2020-10-09','2020-12-25']\n",
    "for zz in range(len(df_w)) :\n",
    "    if df_w['일자'].loc[zz].strftime('%Y-%m-%d') in holiday_list :\n",
    "        df_w['요일'].loc[zz] = 6"
   ]
  },
  {
   "cell_type": "code",
   "execution_count": 121,
   "id": "cb88b5f6",
   "metadata": {
    "slideshow": {
     "slide_type": "skip"
    }
   },
   "outputs": [],
   "source": [
    "# 평일\n",
    "weekday = df_w[(df_w['요일'] != 5) & (df_w['요일'] != 6)]\n",
    "# 주중에는 오전 7시로 선택 \n",
    "weekday = weekday[(weekday['시간']=='7:00')]\n",
    "# 강수여부 컬럼 생성\n",
    "weekday['강수여부'] = 0\n",
    "for i in range(len(weekday)):\n",
    "    if weekday['강수량'].iloc[i] > 0.0:\n",
    "        weekday['강수여부'].iloc[i] = 1\n",
    "    if weekday['적설량'].iloc[i] > 0.0:\n",
    "        weekday['강수여부'].iloc[i] = 1"
   ]
  },
  {
   "cell_type": "code",
   "execution_count": 122,
   "id": "a9f372b9",
   "metadata": {
    "slideshow": {
     "slide_type": "skip"
    }
   },
   "outputs": [],
   "source": [
    "# 주말\n",
    "weekend = df_w[(df_w['요일'] == 5) | (df_w['요일'] == 6)]\n",
    "# 주말에는 12시 기준으로 선택\n",
    "weekend = weekend[(weekend['시간']=='12:00')]\n",
    "# 강수여부 컬럼 생성\n",
    "weekend['강수여부'] = 0\n",
    "for i in range(len(weekend)):\n",
    "    if weekend['강수량'].iloc[i] != 0.0:\n",
    "        weekend['강수여부'].iloc[i] = 1\n",
    "    if weekend['적설량'].iloc[i] != 0.0:\n",
    "        weekend['강수여부'].iloc[i] = 1"
   ]
  },
  {
   "cell_type": "code",
   "execution_count": 123,
   "id": "b782a50c",
   "metadata": {
    "slideshow": {
     "slide_type": "skip"
    }
   },
   "outputs": [],
   "source": [
    "# 주중 주말 합쳐서 하나의 데이터프레임 만들기\n",
    "everyday = pd.concat([weekday, weekend], ignore_index=True )\n",
    "everyday.sort_values(by=['일자'], axis=0, inplace=True, ignore_index=True)\n",
    "raining_day = everyday[['일자', '강수여부']]"
   ]
  },
  {
   "cell_type": "code",
   "execution_count": 124,
   "id": "adfa012c",
   "metadata": {
    "slideshow": {
     "slide_type": "skip"
    }
   },
   "outputs": [],
   "source": [
    "# 폭염과 한파 \n",
    "temperatures = df_w[(df_w['기온'] > 33) | (df_w['기온'] < -12)]\n",
    "day = list(temperatures['일자'].unique())\n",
    "# 이상 기온 여부 구분\n",
    "everyday['이상기온'] =0 \n",
    "for i in range(len(everyday)):\n",
    "    if everyday['일자'].iloc[i] in day:\n",
    "        everyday['이상기온'].iloc[i] = 1   \n",
    "# 최종 강수여부, 이상기온 여부 데이터프레임\n",
    "weather_col=everyday[['일자', '강수여부','이상기온']]\n",
    "# 마지막 누락된 데이터 추가\n",
    "weather_col.loc[365] = ['2020-12-31 00:00:00', 0, 1]\n",
    "weather_col['일자'] = pd.to_datetime(weather_col['일자'])"
   ]
  },
  {
   "cell_type": "code",
   "execution_count": 125,
   "id": "42344ed5",
   "metadata": {
    "slideshow": {
     "slide_type": "skip"
    }
   },
   "outputs": [],
   "source": [
    "#최종 데이터셋(Features)확보\n",
    "df_final=pd.merge(df_db,weather_col,how='outer',left_on='DATE',right_on='일자')"
   ]
  },
  {
   "cell_type": "code",
   "execution_count": 126,
   "id": "0bf81abd",
   "metadata": {
    "slideshow": {
     "slide_type": "skip"
    }
   },
   "outputs": [],
   "source": [
    "#컬럼명 수정\n",
    "df_final.rename(columns={'USER_ID_TYPE_A':'USER_A'},inplace=True)\n",
    "df_final.rename(columns={'USER_ID_TYPE_B':'USER_B'},inplace=True)\n",
    "df_final.rename(columns={'USER_ID_TYPE_C':'USER_C'},inplace=True)\n",
    "df_final.rename(columns={'JOIN_DATE_1970':'1970'},inplace=True)\n",
    "df_final.rename(columns={'JOIN_DATE_2013':'2013'},inplace=True)\n",
    "df_final.rename(columns={'JOIN_DATE_2014':'2014'},inplace=True)\n",
    "df_final.rename(columns={'JOIN_DATE_2015':'2015'},inplace=True)\n",
    "df_final.rename(columns={'JOIN_DATE_2016':'2016'},inplace=True)\n",
    "df_final.rename(columns={'JOIN_DATE_2017':'2017'},inplace=True)\n",
    "df_final.rename(columns={'JOIN_DATE_2018':'2018'},inplace=True)\n",
    "df_final.rename(columns={'JOIN_DATE_2019':'2019'},inplace=True)\n",
    "df_final.rename(columns={'JOIN_DATE_2020':'2020'},inplace=True)\n",
    "df_final.rename(columns={'DAY_TYPE_공휴일':'공휴일'},inplace=True)\n",
    "df_final.rename(columns={'DAY_TYPE_주말':'주말'},inplace=True)\n",
    "df_final.rename(columns={'DAY_TYPE_주중':'주중'},inplace=True)\n",
    "df_final.rename(columns={'AD1_TYPE_SEOUL':'SEOUL'},inplace=True)\n",
    "df_final.rename(columns={'D_TYPE_AA':'D_AA'},inplace=True)\n",
    "df_final.rename(columns={'D_TYPE_BB':'D_BB'},inplace=True)\n",
    "df_final.rename(columns={'D_TYPE_CC':'D_CC'},inplace=True)\n",
    "df_final.rename(columns={'GOODS_TYPE_A':'GOODS_A'},inplace=True)\n",
    "df_final.rename(columns={'GOODS_TYPE_B':'GOODS_B'},inplace=True)\n",
    "df_final.rename(columns={'GOODS_TYPE_C':'GOODS_C'},inplace=True)\n",
    "df_final.rename(columns={'GOODS_TYPE_D':'GOODS_D'},inplace=True)"
   ]
  },
  {
   "cell_type": "code",
   "execution_count": 127,
   "id": "f675e473",
   "metadata": {
    "slideshow": {
     "slide_type": "slide"
    }
   },
   "outputs": [
    {
     "data": {
      "text/html": [
       "<div>\n",
       "<style scoped>\n",
       "    .dataframe tbody tr th:only-of-type {\n",
       "        vertical-align: middle;\n",
       "    }\n",
       "\n",
       "    .dataframe tbody tr th {\n",
       "        vertical-align: top;\n",
       "    }\n",
       "\n",
       "    .dataframe thead th {\n",
       "        text-align: right;\n",
       "    }\n",
       "</style>\n",
       "<table border=\"1\" class=\"dataframe\">\n",
       "  <thead>\n",
       "    <tr style=\"text-align: right;\">\n",
       "      <th></th>\n",
       "      <th>USER_ID</th>\n",
       "      <th>DATE</th>\n",
       "      <th>COUNT</th>\n",
       "      <th>MONTH</th>\n",
       "      <th>USER_A</th>\n",
       "      <th>USER_B</th>\n",
       "      <th>USER_C</th>\n",
       "      <th>1970</th>\n",
       "      <th>2013</th>\n",
       "      <th>2014</th>\n",
       "      <th>2015</th>\n",
       "      <th>2016</th>\n",
       "      <th>2017</th>\n",
       "      <th>2018</th>\n",
       "      <th>2019</th>\n",
       "      <th>2020</th>\n",
       "      <th>공휴일</th>\n",
       "      <th>주말</th>\n",
       "      <th>주중</th>\n",
       "      <th>SEOUL</th>\n",
       "      <th>D_AA</th>\n",
       "      <th>D_BB</th>\n",
       "      <th>D_CC</th>\n",
       "      <th>GOODS_A</th>\n",
       "      <th>GOODS_B</th>\n",
       "      <th>GOODS_C</th>\n",
       "      <th>GOODS_D</th>\n",
       "      <th>일자</th>\n",
       "      <th>강수여부</th>\n",
       "      <th>이상기온</th>\n",
       "    </tr>\n",
       "  </thead>\n",
       "  <tbody>\n",
       "    <tr>\n",
       "      <th>0</th>\n",
       "      <td>2858</td>\n",
       "      <td>2020-01-01</td>\n",
       "      <td>1</td>\n",
       "      <td>01</td>\n",
       "      <td>1</td>\n",
       "      <td>0</td>\n",
       "      <td>0</td>\n",
       "      <td>0</td>\n",
       "      <td>0</td>\n",
       "      <td>1</td>\n",
       "      <td>0</td>\n",
       "      <td>0</td>\n",
       "      <td>0</td>\n",
       "      <td>0</td>\n",
       "      <td>0</td>\n",
       "      <td>0</td>\n",
       "      <td>1</td>\n",
       "      <td>0</td>\n",
       "      <td>0</td>\n",
       "      <td>1</td>\n",
       "      <td>1</td>\n",
       "      <td>0</td>\n",
       "      <td>0</td>\n",
       "      <td>1</td>\n",
       "      <td>0</td>\n",
       "      <td>0</td>\n",
       "      <td>0</td>\n",
       "      <td>2020-01-01</td>\n",
       "      <td>1</td>\n",
       "      <td>0</td>\n",
       "    </tr>\n",
       "    <tr>\n",
       "      <th>1</th>\n",
       "      <td>5647</td>\n",
       "      <td>2020-01-01</td>\n",
       "      <td>1</td>\n",
       "      <td>01</td>\n",
       "      <td>1</td>\n",
       "      <td>0</td>\n",
       "      <td>0</td>\n",
       "      <td>0</td>\n",
       "      <td>0</td>\n",
       "      <td>1</td>\n",
       "      <td>0</td>\n",
       "      <td>0</td>\n",
       "      <td>0</td>\n",
       "      <td>0</td>\n",
       "      <td>0</td>\n",
       "      <td>0</td>\n",
       "      <td>1</td>\n",
       "      <td>0</td>\n",
       "      <td>0</td>\n",
       "      <td>1</td>\n",
       "      <td>0</td>\n",
       "      <td>1</td>\n",
       "      <td>0</td>\n",
       "      <td>1</td>\n",
       "      <td>0</td>\n",
       "      <td>0</td>\n",
       "      <td>0</td>\n",
       "      <td>2020-01-01</td>\n",
       "      <td>1</td>\n",
       "      <td>0</td>\n",
       "    </tr>\n",
       "    <tr>\n",
       "      <th>2</th>\n",
       "      <td>33314</td>\n",
       "      <td>2020-01-01</td>\n",
       "      <td>1</td>\n",
       "      <td>01</td>\n",
       "      <td>1</td>\n",
       "      <td>0</td>\n",
       "      <td>0</td>\n",
       "      <td>0</td>\n",
       "      <td>0</td>\n",
       "      <td>1</td>\n",
       "      <td>0</td>\n",
       "      <td>0</td>\n",
       "      <td>0</td>\n",
       "      <td>0</td>\n",
       "      <td>0</td>\n",
       "      <td>0</td>\n",
       "      <td>1</td>\n",
       "      <td>0</td>\n",
       "      <td>0</td>\n",
       "      <td>1</td>\n",
       "      <td>0</td>\n",
       "      <td>1</td>\n",
       "      <td>0</td>\n",
       "      <td>1</td>\n",
       "      <td>0</td>\n",
       "      <td>0</td>\n",
       "      <td>0</td>\n",
       "      <td>2020-01-01</td>\n",
       "      <td>1</td>\n",
       "      <td>0</td>\n",
       "    </tr>\n",
       "    <tr>\n",
       "      <th>3</th>\n",
       "      <td>37001</td>\n",
       "      <td>2020-01-01</td>\n",
       "      <td>1</td>\n",
       "      <td>01</td>\n",
       "      <td>0</td>\n",
       "      <td>0</td>\n",
       "      <td>1</td>\n",
       "      <td>0</td>\n",
       "      <td>0</td>\n",
       "      <td>1</td>\n",
       "      <td>0</td>\n",
       "      <td>0</td>\n",
       "      <td>0</td>\n",
       "      <td>0</td>\n",
       "      <td>0</td>\n",
       "      <td>0</td>\n",
       "      <td>1</td>\n",
       "      <td>0</td>\n",
       "      <td>0</td>\n",
       "      <td>1</td>\n",
       "      <td>0</td>\n",
       "      <td>1</td>\n",
       "      <td>0</td>\n",
       "      <td>0</td>\n",
       "      <td>0</td>\n",
       "      <td>1</td>\n",
       "      <td>0</td>\n",
       "      <td>2020-01-01</td>\n",
       "      <td>1</td>\n",
       "      <td>0</td>\n",
       "    </tr>\n",
       "    <tr>\n",
       "      <th>4</th>\n",
       "      <td>37819</td>\n",
       "      <td>2020-01-01</td>\n",
       "      <td>1</td>\n",
       "      <td>01</td>\n",
       "      <td>1</td>\n",
       "      <td>0</td>\n",
       "      <td>0</td>\n",
       "      <td>0</td>\n",
       "      <td>0</td>\n",
       "      <td>1</td>\n",
       "      <td>0</td>\n",
       "      <td>0</td>\n",
       "      <td>0</td>\n",
       "      <td>0</td>\n",
       "      <td>0</td>\n",
       "      <td>0</td>\n",
       "      <td>1</td>\n",
       "      <td>0</td>\n",
       "      <td>0</td>\n",
       "      <td>1</td>\n",
       "      <td>1</td>\n",
       "      <td>0</td>\n",
       "      <td>0</td>\n",
       "      <td>0</td>\n",
       "      <td>0</td>\n",
       "      <td>1</td>\n",
       "      <td>0</td>\n",
       "      <td>2020-01-01</td>\n",
       "      <td>1</td>\n",
       "      <td>0</td>\n",
       "    </tr>\n",
       "    <tr>\n",
       "      <th>...</th>\n",
       "      <td>...</td>\n",
       "      <td>...</td>\n",
       "      <td>...</td>\n",
       "      <td>...</td>\n",
       "      <td>...</td>\n",
       "      <td>...</td>\n",
       "      <td>...</td>\n",
       "      <td>...</td>\n",
       "      <td>...</td>\n",
       "      <td>...</td>\n",
       "      <td>...</td>\n",
       "      <td>...</td>\n",
       "      <td>...</td>\n",
       "      <td>...</td>\n",
       "      <td>...</td>\n",
       "      <td>...</td>\n",
       "      <td>...</td>\n",
       "      <td>...</td>\n",
       "      <td>...</td>\n",
       "      <td>...</td>\n",
       "      <td>...</td>\n",
       "      <td>...</td>\n",
       "      <td>...</td>\n",
       "      <td>...</td>\n",
       "      <td>...</td>\n",
       "      <td>...</td>\n",
       "      <td>...</td>\n",
       "      <td>...</td>\n",
       "      <td>...</td>\n",
       "      <td>...</td>\n",
       "    </tr>\n",
       "    <tr>\n",
       "      <th>878900</th>\n",
       "      <td>1817598</td>\n",
       "      <td>2020-12-18</td>\n",
       "      <td>1</td>\n",
       "      <td>12</td>\n",
       "      <td>1</td>\n",
       "      <td>0</td>\n",
       "      <td>0</td>\n",
       "      <td>0</td>\n",
       "      <td>0</td>\n",
       "      <td>0</td>\n",
       "      <td>0</td>\n",
       "      <td>0</td>\n",
       "      <td>0</td>\n",
       "      <td>0</td>\n",
       "      <td>0</td>\n",
       "      <td>1</td>\n",
       "      <td>0</td>\n",
       "      <td>0</td>\n",
       "      <td>1</td>\n",
       "      <td>0</td>\n",
       "      <td>0</td>\n",
       "      <td>1</td>\n",
       "      <td>0</td>\n",
       "      <td>0</td>\n",
       "      <td>1</td>\n",
       "      <td>0</td>\n",
       "      <td>0</td>\n",
       "      <td>2020-12-18</td>\n",
       "      <td>1</td>\n",
       "      <td>0</td>\n",
       "    </tr>\n",
       "    <tr>\n",
       "      <th>878901</th>\n",
       "      <td>1817640</td>\n",
       "      <td>2020-12-18</td>\n",
       "      <td>1</td>\n",
       "      <td>12</td>\n",
       "      <td>1</td>\n",
       "      <td>0</td>\n",
       "      <td>0</td>\n",
       "      <td>0</td>\n",
       "      <td>0</td>\n",
       "      <td>0</td>\n",
       "      <td>0</td>\n",
       "      <td>0</td>\n",
       "      <td>0</td>\n",
       "      <td>0</td>\n",
       "      <td>0</td>\n",
       "      <td>1</td>\n",
       "      <td>0</td>\n",
       "      <td>0</td>\n",
       "      <td>1</td>\n",
       "      <td>1</td>\n",
       "      <td>1</td>\n",
       "      <td>0</td>\n",
       "      <td>0</td>\n",
       "      <td>0</td>\n",
       "      <td>1</td>\n",
       "      <td>0</td>\n",
       "      <td>0</td>\n",
       "      <td>2020-12-18</td>\n",
       "      <td>1</td>\n",
       "      <td>0</td>\n",
       "    </tr>\n",
       "    <tr>\n",
       "      <th>878902</th>\n",
       "      <td>1817751</td>\n",
       "      <td>2020-12-18</td>\n",
       "      <td>1</td>\n",
       "      <td>12</td>\n",
       "      <td>1</td>\n",
       "      <td>0</td>\n",
       "      <td>0</td>\n",
       "      <td>0</td>\n",
       "      <td>0</td>\n",
       "      <td>0</td>\n",
       "      <td>0</td>\n",
       "      <td>0</td>\n",
       "      <td>0</td>\n",
       "      <td>0</td>\n",
       "      <td>0</td>\n",
       "      <td>1</td>\n",
       "      <td>0</td>\n",
       "      <td>0</td>\n",
       "      <td>1</td>\n",
       "      <td>1</td>\n",
       "      <td>0</td>\n",
       "      <td>1</td>\n",
       "      <td>0</td>\n",
       "      <td>0</td>\n",
       "      <td>0</td>\n",
       "      <td>0</td>\n",
       "      <td>1</td>\n",
       "      <td>2020-12-18</td>\n",
       "      <td>1</td>\n",
       "      <td>0</td>\n",
       "    </tr>\n",
       "    <tr>\n",
       "      <th>878903</th>\n",
       "      <td>1817805</td>\n",
       "      <td>2020-12-18</td>\n",
       "      <td>1</td>\n",
       "      <td>12</td>\n",
       "      <td>1</td>\n",
       "      <td>0</td>\n",
       "      <td>0</td>\n",
       "      <td>0</td>\n",
       "      <td>0</td>\n",
       "      <td>0</td>\n",
       "      <td>0</td>\n",
       "      <td>0</td>\n",
       "      <td>0</td>\n",
       "      <td>0</td>\n",
       "      <td>0</td>\n",
       "      <td>1</td>\n",
       "      <td>0</td>\n",
       "      <td>0</td>\n",
       "      <td>1</td>\n",
       "      <td>1</td>\n",
       "      <td>1</td>\n",
       "      <td>0</td>\n",
       "      <td>0</td>\n",
       "      <td>0</td>\n",
       "      <td>0</td>\n",
       "      <td>1</td>\n",
       "      <td>0</td>\n",
       "      <td>2020-12-18</td>\n",
       "      <td>1</td>\n",
       "      <td>0</td>\n",
       "    </tr>\n",
       "    <tr>\n",
       "      <th>878904</th>\n",
       "      <td>1817825</td>\n",
       "      <td>2020-12-18</td>\n",
       "      <td>1</td>\n",
       "      <td>12</td>\n",
       "      <td>1</td>\n",
       "      <td>0</td>\n",
       "      <td>0</td>\n",
       "      <td>0</td>\n",
       "      <td>0</td>\n",
       "      <td>0</td>\n",
       "      <td>0</td>\n",
       "      <td>0</td>\n",
       "      <td>0</td>\n",
       "      <td>0</td>\n",
       "      <td>0</td>\n",
       "      <td>1</td>\n",
       "      <td>0</td>\n",
       "      <td>0</td>\n",
       "      <td>1</td>\n",
       "      <td>1</td>\n",
       "      <td>0</td>\n",
       "      <td>1</td>\n",
       "      <td>0</td>\n",
       "      <td>0</td>\n",
       "      <td>1</td>\n",
       "      <td>0</td>\n",
       "      <td>0</td>\n",
       "      <td>2020-12-18</td>\n",
       "      <td>1</td>\n",
       "      <td>0</td>\n",
       "    </tr>\n",
       "  </tbody>\n",
       "</table>\n",
       "<p>878905 rows × 30 columns</p>\n",
       "</div>"
      ],
      "text/plain": [
       "        USER_ID       DATE  COUNT MONTH  USER_A  USER_B  USER_C  1970  2013  \\\n",
       "0          2858 2020-01-01      1    01       1       0       0     0     0   \n",
       "1          5647 2020-01-01      1    01       1       0       0     0     0   \n",
       "2         33314 2020-01-01      1    01       1       0       0     0     0   \n",
       "3         37001 2020-01-01      1    01       0       0       1     0     0   \n",
       "4         37819 2020-01-01      1    01       1       0       0     0     0   \n",
       "...         ...        ...    ...   ...     ...     ...     ...   ...   ...   \n",
       "878900  1817598 2020-12-18      1    12       1       0       0     0     0   \n",
       "878901  1817640 2020-12-18      1    12       1       0       0     0     0   \n",
       "878902  1817751 2020-12-18      1    12       1       0       0     0     0   \n",
       "878903  1817805 2020-12-18      1    12       1       0       0     0     0   \n",
       "878904  1817825 2020-12-18      1    12       1       0       0     0     0   \n",
       "\n",
       "        2014  2015  2016  2017  2018  2019  2020  공휴일  주말  주중  SEOUL  D_AA  \\\n",
       "0          1     0     0     0     0     0     0    1   0   0      1     1   \n",
       "1          1     0     0     0     0     0     0    1   0   0      1     0   \n",
       "2          1     0     0     0     0     0     0    1   0   0      1     0   \n",
       "3          1     0     0     0     0     0     0    1   0   0      1     0   \n",
       "4          1     0     0     0     0     0     0    1   0   0      1     1   \n",
       "...      ...   ...   ...   ...   ...   ...   ...  ...  ..  ..    ...   ...   \n",
       "878900     0     0     0     0     0     0     1    0   0   1      0     0   \n",
       "878901     0     0     0     0     0     0     1    0   0   1      1     1   \n",
       "878902     0     0     0     0     0     0     1    0   0   1      1     0   \n",
       "878903     0     0     0     0     0     0     1    0   0   1      1     1   \n",
       "878904     0     0     0     0     0     0     1    0   0   1      1     0   \n",
       "\n",
       "        D_BB  D_CC  GOODS_A  GOODS_B  GOODS_C  GOODS_D         일자  강수여부  이상기온  \n",
       "0          0     0        1        0        0        0 2020-01-01     1     0  \n",
       "1          1     0        1        0        0        0 2020-01-01     1     0  \n",
       "2          1     0        1        0        0        0 2020-01-01     1     0  \n",
       "3          1     0        0        0        1        0 2020-01-01     1     0  \n",
       "4          0     0        0        0        1        0 2020-01-01     1     0  \n",
       "...      ...   ...      ...      ...      ...      ...        ...   ...   ...  \n",
       "878900     1     0        0        1        0        0 2020-12-18     1     0  \n",
       "878901     0     0        0        1        0        0 2020-12-18     1     0  \n",
       "878902     1     0        0        0        0        1 2020-12-18     1     0  \n",
       "878903     0     0        0        0        1        0 2020-12-18     1     0  \n",
       "878904     1     0        0        1        0        0 2020-12-18     1     0  \n",
       "\n",
       "[878905 rows x 30 columns]"
      ]
     },
     "execution_count": 127,
     "metadata": {},
     "output_type": "execute_result"
    }
   ],
   "source": [
    "df_final"
   ]
  },
  {
   "cell_type": "code",
   "execution_count": 128,
   "id": "771b7474",
   "metadata": {
    "slideshow": {
     "slide_type": "skip"
    }
   },
   "outputs": [],
   "source": [
    "#날짜기준 train data set, test data set 분리\n",
    "df_final.sort_values(by='DATE',ascending=True,inplace=True)\n",
    "df_final.reset_index(inplace=True)\n",
    "df_final.drop(['index'],axis=1,inplace=True)\n",
    "df_train_tem=df_final.loc[:623304]\n",
    "df_test_tem=df_final.loc[623305:]"
   ]
  },
  {
   "cell_type": "code",
   "execution_count": 129,
   "id": "2416f000",
   "metadata": {
    "slideshow": {
     "slide_type": "skip"
    }
   },
   "outputs": [
    {
     "data": {
      "text/html": [
       "<div>\n",
       "<style scoped>\n",
       "    .dataframe tbody tr th:only-of-type {\n",
       "        vertical-align: middle;\n",
       "    }\n",
       "\n",
       "    .dataframe tbody tr th {\n",
       "        vertical-align: top;\n",
       "    }\n",
       "\n",
       "    .dataframe thead th {\n",
       "        text-align: right;\n",
       "    }\n",
       "</style>\n",
       "<table border=\"1\" class=\"dataframe\">\n",
       "  <thead>\n",
       "    <tr style=\"text-align: right;\">\n",
       "      <th></th>\n",
       "      <th>USER_ID</th>\n",
       "      <th>USER_A</th>\n",
       "      <th>USER_B</th>\n",
       "      <th>USER_C</th>\n",
       "      <th>1970</th>\n",
       "      <th>2013</th>\n",
       "      <th>2014</th>\n",
       "      <th>2015</th>\n",
       "      <th>2016</th>\n",
       "      <th>2017</th>\n",
       "      <th>2018</th>\n",
       "      <th>2019</th>\n",
       "      <th>2020</th>\n",
       "      <th>SEOUL</th>\n",
       "    </tr>\n",
       "  </thead>\n",
       "  <tbody>\n",
       "    <tr>\n",
       "      <th>0</th>\n",
       "      <td>2858</td>\n",
       "      <td>1</td>\n",
       "      <td>0</td>\n",
       "      <td>0</td>\n",
       "      <td>0</td>\n",
       "      <td>0</td>\n",
       "      <td>1</td>\n",
       "      <td>0</td>\n",
       "      <td>0</td>\n",
       "      <td>0</td>\n",
       "      <td>0</td>\n",
       "      <td>0</td>\n",
       "      <td>0</td>\n",
       "      <td>1</td>\n",
       "    </tr>\n",
       "    <tr>\n",
       "      <th>1</th>\n",
       "      <td>1281265</td>\n",
       "      <td>0</td>\n",
       "      <td>0</td>\n",
       "      <td>1</td>\n",
       "      <td>0</td>\n",
       "      <td>0</td>\n",
       "      <td>0</td>\n",
       "      <td>0</td>\n",
       "      <td>0</td>\n",
       "      <td>0</td>\n",
       "      <td>0</td>\n",
       "      <td>1</td>\n",
       "      <td>0</td>\n",
       "      <td>1</td>\n",
       "    </tr>\n",
       "    <tr>\n",
       "      <th>2</th>\n",
       "      <td>1282132</td>\n",
       "      <td>1</td>\n",
       "      <td>0</td>\n",
       "      <td>0</td>\n",
       "      <td>0</td>\n",
       "      <td>0</td>\n",
       "      <td>0</td>\n",
       "      <td>0</td>\n",
       "      <td>0</td>\n",
       "      <td>0</td>\n",
       "      <td>0</td>\n",
       "      <td>1</td>\n",
       "      <td>0</td>\n",
       "      <td>1</td>\n",
       "    </tr>\n",
       "    <tr>\n",
       "      <th>3</th>\n",
       "      <td>1282708</td>\n",
       "      <td>1</td>\n",
       "      <td>0</td>\n",
       "      <td>0</td>\n",
       "      <td>0</td>\n",
       "      <td>0</td>\n",
       "      <td>0</td>\n",
       "      <td>0</td>\n",
       "      <td>0</td>\n",
       "      <td>0</td>\n",
       "      <td>0</td>\n",
       "      <td>1</td>\n",
       "      <td>0</td>\n",
       "      <td>1</td>\n",
       "    </tr>\n",
       "    <tr>\n",
       "      <th>4</th>\n",
       "      <td>1284035</td>\n",
       "      <td>1</td>\n",
       "      <td>0</td>\n",
       "      <td>0</td>\n",
       "      <td>0</td>\n",
       "      <td>0</td>\n",
       "      <td>0</td>\n",
       "      <td>0</td>\n",
       "      <td>0</td>\n",
       "      <td>0</td>\n",
       "      <td>0</td>\n",
       "      <td>1</td>\n",
       "      <td>0</td>\n",
       "      <td>1</td>\n",
       "    </tr>\n",
       "    <tr>\n",
       "      <th>...</th>\n",
       "      <td>...</td>\n",
       "      <td>...</td>\n",
       "      <td>...</td>\n",
       "      <td>...</td>\n",
       "      <td>...</td>\n",
       "      <td>...</td>\n",
       "      <td>...</td>\n",
       "      <td>...</td>\n",
       "      <td>...</td>\n",
       "      <td>...</td>\n",
       "      <td>...</td>\n",
       "      <td>...</td>\n",
       "      <td>...</td>\n",
       "      <td>...</td>\n",
       "    </tr>\n",
       "    <tr>\n",
       "      <th>622663</th>\n",
       "      <td>1449495</td>\n",
       "      <td>1</td>\n",
       "      <td>0</td>\n",
       "      <td>0</td>\n",
       "      <td>0</td>\n",
       "      <td>0</td>\n",
       "      <td>0</td>\n",
       "      <td>0</td>\n",
       "      <td>0</td>\n",
       "      <td>0</td>\n",
       "      <td>0</td>\n",
       "      <td>1</td>\n",
       "      <td>0</td>\n",
       "      <td>1</td>\n",
       "    </tr>\n",
       "    <tr>\n",
       "      <th>622664</th>\n",
       "      <td>1480621</td>\n",
       "      <td>1</td>\n",
       "      <td>0</td>\n",
       "      <td>0</td>\n",
       "      <td>0</td>\n",
       "      <td>0</td>\n",
       "      <td>0</td>\n",
       "      <td>0</td>\n",
       "      <td>0</td>\n",
       "      <td>0</td>\n",
       "      <td>0</td>\n",
       "      <td>0</td>\n",
       "      <td>1</td>\n",
       "      <td>1</td>\n",
       "    </tr>\n",
       "    <tr>\n",
       "      <th>622881</th>\n",
       "      <td>1709950</td>\n",
       "      <td>0</td>\n",
       "      <td>0</td>\n",
       "      <td>1</td>\n",
       "      <td>0</td>\n",
       "      <td>0</td>\n",
       "      <td>0</td>\n",
       "      <td>0</td>\n",
       "      <td>0</td>\n",
       "      <td>0</td>\n",
       "      <td>0</td>\n",
       "      <td>0</td>\n",
       "      <td>1</td>\n",
       "      <td>1</td>\n",
       "    </tr>\n",
       "    <tr>\n",
       "      <th>623303</th>\n",
       "      <td>1709952</td>\n",
       "      <td>1</td>\n",
       "      <td>0</td>\n",
       "      <td>0</td>\n",
       "      <td>0</td>\n",
       "      <td>0</td>\n",
       "      <td>0</td>\n",
       "      <td>0</td>\n",
       "      <td>0</td>\n",
       "      <td>0</td>\n",
       "      <td>0</td>\n",
       "      <td>0</td>\n",
       "      <td>1</td>\n",
       "      <td>1</td>\n",
       "    </tr>\n",
       "    <tr>\n",
       "      <th>623304</th>\n",
       "      <td>1709628</td>\n",
       "      <td>1</td>\n",
       "      <td>0</td>\n",
       "      <td>0</td>\n",
       "      <td>0</td>\n",
       "      <td>0</td>\n",
       "      <td>0</td>\n",
       "      <td>0</td>\n",
       "      <td>0</td>\n",
       "      <td>0</td>\n",
       "      <td>0</td>\n",
       "      <td>0</td>\n",
       "      <td>1</td>\n",
       "      <td>1</td>\n",
       "    </tr>\n",
       "  </tbody>\n",
       "</table>\n",
       "<p>130259 rows × 14 columns</p>\n",
       "</div>"
      ],
      "text/plain": [
       "        USER_ID  USER_A  USER_B  USER_C  1970  2013  2014  2015  2016  2017  \\\n",
       "0          2858       1       0       0     0     0     1     0     0     0   \n",
       "1       1281265       0       0       1     0     0     0     0     0     0   \n",
       "2       1282132       1       0       0     0     0     0     0     0     0   \n",
       "3       1282708       1       0       0     0     0     0     0     0     0   \n",
       "4       1284035       1       0       0     0     0     0     0     0     0   \n",
       "...         ...     ...     ...     ...   ...   ...   ...   ...   ...   ...   \n",
       "622663  1449495       1       0       0     0     0     0     0     0     0   \n",
       "622664  1480621       1       0       0     0     0     0     0     0     0   \n",
       "622881  1709950       0       0       1     0     0     0     0     0     0   \n",
       "623303  1709952       1       0       0     0     0     0     0     0     0   \n",
       "623304  1709628       1       0       0     0     0     0     0     0     0   \n",
       "\n",
       "        2018  2019  2020  SEOUL  \n",
       "0          0     0     0      1  \n",
       "1          0     1     0      1  \n",
       "2          0     1     0      1  \n",
       "3          0     1     0      1  \n",
       "4          0     1     0      1  \n",
       "...      ...   ...   ...    ...  \n",
       "622663     0     1     0      1  \n",
       "622664     0     0     1      1  \n",
       "622881     0     0     1      1  \n",
       "623303     0     0     1      1  \n",
       "623304     0     0     1      1  \n",
       "\n",
       "[130259 rows x 14 columns]"
      ]
     },
     "execution_count": 129,
     "metadata": {},
     "output_type": "execute_result"
    }
   ],
   "source": [
    "#train data set 전처리\n",
    "#고유값 가지는 컬럼들 추출\n",
    "df_train1=df_train_tem.drop(['DATE','MONTH','COUNT','공휴일','주말','주중','강수여부','이상기온','일자',\n",
    "                            'D_AA','D_BB','D_CC','GOODS_A','GOODS_B','GOODS_C','GOODS_D'],axis=1)\n",
    "df_train1=df_train1.drop_duplicates(['USER_ID'])\n",
    "df_train1"
   ]
  },
  {
   "cell_type": "code",
   "execution_count": 130,
   "id": "22dcc1a2",
   "metadata": {
    "slideshow": {
     "slide_type": "skip"
    }
   },
   "outputs": [
    {
     "data": {
      "text/html": [
       "<div>\n",
       "<style scoped>\n",
       "    .dataframe tbody tr th:only-of-type {\n",
       "        vertical-align: middle;\n",
       "    }\n",
       "\n",
       "    .dataframe tbody tr th {\n",
       "        vertical-align: top;\n",
       "    }\n",
       "\n",
       "    .dataframe thead th {\n",
       "        text-align: right;\n",
       "    }\n",
       "</style>\n",
       "<table border=\"1\" class=\"dataframe\">\n",
       "  <thead>\n",
       "    <tr style=\"text-align: right;\">\n",
       "      <th></th>\n",
       "      <th>USER_ID</th>\n",
       "      <th>MONTH</th>\n",
       "      <th>COUNT</th>\n",
       "      <th>공휴일</th>\n",
       "      <th>주말</th>\n",
       "      <th>주중</th>\n",
       "      <th>강수여부</th>\n",
       "      <th>이상기온</th>\n",
       "      <th>D_AA</th>\n",
       "      <th>D_BB</th>\n",
       "      <th>D_CC</th>\n",
       "      <th>GOODS_A</th>\n",
       "      <th>GOODS_B</th>\n",
       "      <th>GOODS_C</th>\n",
       "      <th>GOODS_D</th>\n",
       "    </tr>\n",
       "  </thead>\n",
       "  <tbody>\n",
       "    <tr>\n",
       "      <th>0</th>\n",
       "      <td>224</td>\n",
       "      <td>01</td>\n",
       "      <td>1</td>\n",
       "      <td>0</td>\n",
       "      <td>1</td>\n",
       "      <td>0</td>\n",
       "      <td>0</td>\n",
       "      <td>0</td>\n",
       "      <td>1</td>\n",
       "      <td>0</td>\n",
       "      <td>0</td>\n",
       "      <td>1</td>\n",
       "      <td>0</td>\n",
       "      <td>0</td>\n",
       "      <td>0</td>\n",
       "    </tr>\n",
       "    <tr>\n",
       "      <th>1</th>\n",
       "      <td>232</td>\n",
       "      <td>01</td>\n",
       "      <td>4</td>\n",
       "      <td>2</td>\n",
       "      <td>1</td>\n",
       "      <td>1</td>\n",
       "      <td>1</td>\n",
       "      <td>0</td>\n",
       "      <td>0</td>\n",
       "      <td>4</td>\n",
       "      <td>0</td>\n",
       "      <td>1</td>\n",
       "      <td>0</td>\n",
       "      <td>3</td>\n",
       "      <td>0</td>\n",
       "    </tr>\n",
       "    <tr>\n",
       "      <th>2</th>\n",
       "      <td>232</td>\n",
       "      <td>02</td>\n",
       "      <td>2</td>\n",
       "      <td>0</td>\n",
       "      <td>1</td>\n",
       "      <td>1</td>\n",
       "      <td>0</td>\n",
       "      <td>0</td>\n",
       "      <td>0</td>\n",
       "      <td>2</td>\n",
       "      <td>0</td>\n",
       "      <td>1</td>\n",
       "      <td>0</td>\n",
       "      <td>1</td>\n",
       "      <td>0</td>\n",
       "    </tr>\n",
       "    <tr>\n",
       "      <th>3</th>\n",
       "      <td>232</td>\n",
       "      <td>03</td>\n",
       "      <td>2</td>\n",
       "      <td>1</td>\n",
       "      <td>1</td>\n",
       "      <td>0</td>\n",
       "      <td>0</td>\n",
       "      <td>0</td>\n",
       "      <td>0</td>\n",
       "      <td>2</td>\n",
       "      <td>0</td>\n",
       "      <td>1</td>\n",
       "      <td>0</td>\n",
       "      <td>1</td>\n",
       "      <td>0</td>\n",
       "    </tr>\n",
       "    <tr>\n",
       "      <th>4</th>\n",
       "      <td>232</td>\n",
       "      <td>04</td>\n",
       "      <td>4</td>\n",
       "      <td>1</td>\n",
       "      <td>2</td>\n",
       "      <td>0</td>\n",
       "      <td>0</td>\n",
       "      <td>0</td>\n",
       "      <td>0</td>\n",
       "      <td>3</td>\n",
       "      <td>0</td>\n",
       "      <td>1</td>\n",
       "      <td>0</td>\n",
       "      <td>2</td>\n",
       "      <td>0</td>\n",
       "    </tr>\n",
       "    <tr>\n",
       "      <th>...</th>\n",
       "      <td>...</td>\n",
       "      <td>...</td>\n",
       "      <td>...</td>\n",
       "      <td>...</td>\n",
       "      <td>...</td>\n",
       "      <td>...</td>\n",
       "      <td>...</td>\n",
       "      <td>...</td>\n",
       "      <td>...</td>\n",
       "      <td>...</td>\n",
       "      <td>...</td>\n",
       "      <td>...</td>\n",
       "      <td>...</td>\n",
       "      <td>...</td>\n",
       "      <td>...</td>\n",
       "    </tr>\n",
       "    <tr>\n",
       "      <th>267262</th>\n",
       "      <td>1709914</td>\n",
       "      <td>09</td>\n",
       "      <td>1</td>\n",
       "      <td>1</td>\n",
       "      <td>0</td>\n",
       "      <td>0</td>\n",
       "      <td>0</td>\n",
       "      <td>0</td>\n",
       "      <td>0</td>\n",
       "      <td>1</td>\n",
       "      <td>0</td>\n",
       "      <td>0</td>\n",
       "      <td>1</td>\n",
       "      <td>0</td>\n",
       "      <td>0</td>\n",
       "    </tr>\n",
       "    <tr>\n",
       "      <th>267263</th>\n",
       "      <td>1709935</td>\n",
       "      <td>09</td>\n",
       "      <td>1</td>\n",
       "      <td>1</td>\n",
       "      <td>0</td>\n",
       "      <td>0</td>\n",
       "      <td>0</td>\n",
       "      <td>0</td>\n",
       "      <td>1</td>\n",
       "      <td>0</td>\n",
       "      <td>0</td>\n",
       "      <td>0</td>\n",
       "      <td>1</td>\n",
       "      <td>0</td>\n",
       "      <td>0</td>\n",
       "    </tr>\n",
       "    <tr>\n",
       "      <th>267264</th>\n",
       "      <td>1709942</td>\n",
       "      <td>09</td>\n",
       "      <td>1</td>\n",
       "      <td>1</td>\n",
       "      <td>0</td>\n",
       "      <td>0</td>\n",
       "      <td>0</td>\n",
       "      <td>0</td>\n",
       "      <td>1</td>\n",
       "      <td>0</td>\n",
       "      <td>0</td>\n",
       "      <td>0</td>\n",
       "      <td>1</td>\n",
       "      <td>0</td>\n",
       "      <td>0</td>\n",
       "    </tr>\n",
       "    <tr>\n",
       "      <th>267265</th>\n",
       "      <td>1709950</td>\n",
       "      <td>09</td>\n",
       "      <td>2</td>\n",
       "      <td>1</td>\n",
       "      <td>0</td>\n",
       "      <td>0</td>\n",
       "      <td>0</td>\n",
       "      <td>0</td>\n",
       "      <td>0</td>\n",
       "      <td>1</td>\n",
       "      <td>0</td>\n",
       "      <td>1</td>\n",
       "      <td>0</td>\n",
       "      <td>0</td>\n",
       "      <td>0</td>\n",
       "    </tr>\n",
       "    <tr>\n",
       "      <th>267266</th>\n",
       "      <td>1709952</td>\n",
       "      <td>09</td>\n",
       "      <td>1</td>\n",
       "      <td>1</td>\n",
       "      <td>0</td>\n",
       "      <td>0</td>\n",
       "      <td>0</td>\n",
       "      <td>0</td>\n",
       "      <td>1</td>\n",
       "      <td>0</td>\n",
       "      <td>0</td>\n",
       "      <td>1</td>\n",
       "      <td>0</td>\n",
       "      <td>0</td>\n",
       "      <td>0</td>\n",
       "    </tr>\n",
       "  </tbody>\n",
       "</table>\n",
       "<p>267267 rows × 15 columns</p>\n",
       "</div>"
      ],
      "text/plain": [
       "        USER_ID MONTH  COUNT  공휴일  주말  주중  강수여부  이상기온  D_AA  D_BB  D_CC  \\\n",
       "0           224    01      1    0   1   0     0     0     1     0     0   \n",
       "1           232    01      4    2   1   1     1     0     0     4     0   \n",
       "2           232    02      2    0   1   1     0     0     0     2     0   \n",
       "3           232    03      2    1   1   0     0     0     0     2     0   \n",
       "4           232    04      4    1   2   0     0     0     0     3     0   \n",
       "...         ...   ...    ...  ...  ..  ..   ...   ...   ...   ...   ...   \n",
       "267262  1709914    09      1    1   0   0     0     0     0     1     0   \n",
       "267263  1709935    09      1    1   0   0     0     0     1     0     0   \n",
       "267264  1709942    09      1    1   0   0     0     0     1     0     0   \n",
       "267265  1709950    09      2    1   0   0     0     0     0     1     0   \n",
       "267266  1709952    09      1    1   0   0     0     0     1     0     0   \n",
       "\n",
       "        GOODS_A  GOODS_B  GOODS_C  GOODS_D  \n",
       "0             1        0        0        0  \n",
       "1             1        0        3        0  \n",
       "2             1        0        1        0  \n",
       "3             1        0        1        0  \n",
       "4             1        0        2        0  \n",
       "...         ...      ...      ...      ...  \n",
       "267262        0        1        0        0  \n",
       "267263        0        1        0        0  \n",
       "267264        0        1        0        0  \n",
       "267265        1        0        0        0  \n",
       "267266        1        0        0        0  \n",
       "\n",
       "[267267 rows x 15 columns]"
      ]
     },
     "execution_count": 130,
     "metadata": {},
     "output_type": "execute_result"
    }
   ],
   "source": [
    "#train data set 전처리\n",
    "#월별 합산값 가지는 컬럼들 추출\n",
    "df_train2=df_train_tem[['MONTH','COUNT','공휴일','주말','주중','강수여부','이상기온','USER_ID',\n",
    "                        'D_AA','D_BB','D_CC','GOODS_A','GOODS_B','GOODS_C','GOODS_D']]\n",
    "df_train2=df_train2.groupby(['USER_ID','MONTH']).sum()\n",
    "df_train2=df_train2.reset_index()\n",
    "df_train2"
   ]
  },
  {
   "cell_type": "code",
   "execution_count": 131,
   "id": "928dc268",
   "metadata": {
    "slideshow": {
     "slide_type": "skip"
    }
   },
   "outputs": [
    {
     "data": {
      "text/html": [
       "<div>\n",
       "<style scoped>\n",
       "    .dataframe tbody tr th:only-of-type {\n",
       "        vertical-align: middle;\n",
       "    }\n",
       "\n",
       "    .dataframe tbody tr th {\n",
       "        vertical-align: top;\n",
       "    }\n",
       "\n",
       "    .dataframe thead th {\n",
       "        text-align: right;\n",
       "    }\n",
       "</style>\n",
       "<table border=\"1\" class=\"dataframe\">\n",
       "  <thead>\n",
       "    <tr style=\"text-align: right;\">\n",
       "      <th></th>\n",
       "      <th>USER_ID</th>\n",
       "      <th>USER_A</th>\n",
       "      <th>USER_B</th>\n",
       "      <th>USER_C</th>\n",
       "      <th>1970</th>\n",
       "      <th>2013</th>\n",
       "      <th>2014</th>\n",
       "      <th>2015</th>\n",
       "      <th>2016</th>\n",
       "      <th>2017</th>\n",
       "      <th>2018</th>\n",
       "      <th>2019</th>\n",
       "      <th>2020</th>\n",
       "      <th>SEOUL</th>\n",
       "      <th>MONTH</th>\n",
       "      <th>COUNT</th>\n",
       "      <th>공휴일</th>\n",
       "      <th>주말</th>\n",
       "      <th>주중</th>\n",
       "      <th>강수여부</th>\n",
       "      <th>이상기온</th>\n",
       "      <th>D_AA</th>\n",
       "      <th>D_BB</th>\n",
       "      <th>D_CC</th>\n",
       "      <th>GOODS_A</th>\n",
       "      <th>GOODS_B</th>\n",
       "      <th>GOODS_C</th>\n",
       "      <th>GOODS_D</th>\n",
       "    </tr>\n",
       "  </thead>\n",
       "  <tbody>\n",
       "    <tr>\n",
       "      <th>0</th>\n",
       "      <td>2858</td>\n",
       "      <td>1</td>\n",
       "      <td>0</td>\n",
       "      <td>0</td>\n",
       "      <td>0</td>\n",
       "      <td>0</td>\n",
       "      <td>1</td>\n",
       "      <td>0</td>\n",
       "      <td>0</td>\n",
       "      <td>0</td>\n",
       "      <td>0</td>\n",
       "      <td>0</td>\n",
       "      <td>0</td>\n",
       "      <td>1</td>\n",
       "      <td>01</td>\n",
       "      <td>1</td>\n",
       "      <td>1</td>\n",
       "      <td>0</td>\n",
       "      <td>0</td>\n",
       "      <td>1</td>\n",
       "      <td>0</td>\n",
       "      <td>1</td>\n",
       "      <td>0</td>\n",
       "      <td>0</td>\n",
       "      <td>1</td>\n",
       "      <td>0</td>\n",
       "      <td>0</td>\n",
       "      <td>0</td>\n",
       "    </tr>\n",
       "    <tr>\n",
       "      <th>1</th>\n",
       "      <td>1281265</td>\n",
       "      <td>0</td>\n",
       "      <td>0</td>\n",
       "      <td>1</td>\n",
       "      <td>0</td>\n",
       "      <td>0</td>\n",
       "      <td>0</td>\n",
       "      <td>0</td>\n",
       "      <td>0</td>\n",
       "      <td>0</td>\n",
       "      <td>0</td>\n",
       "      <td>1</td>\n",
       "      <td>0</td>\n",
       "      <td>1</td>\n",
       "      <td>01</td>\n",
       "      <td>7</td>\n",
       "      <td>1</td>\n",
       "      <td>3</td>\n",
       "      <td>3</td>\n",
       "      <td>1</td>\n",
       "      <td>0</td>\n",
       "      <td>7</td>\n",
       "      <td>0</td>\n",
       "      <td>0</td>\n",
       "      <td>7</td>\n",
       "      <td>0</td>\n",
       "      <td>0</td>\n",
       "      <td>0</td>\n",
       "    </tr>\n",
       "    <tr>\n",
       "      <th>2</th>\n",
       "      <td>1281265</td>\n",
       "      <td>0</td>\n",
       "      <td>0</td>\n",
       "      <td>1</td>\n",
       "      <td>0</td>\n",
       "      <td>0</td>\n",
       "      <td>0</td>\n",
       "      <td>0</td>\n",
       "      <td>0</td>\n",
       "      <td>0</td>\n",
       "      <td>0</td>\n",
       "      <td>1</td>\n",
       "      <td>0</td>\n",
       "      <td>1</td>\n",
       "      <td>03</td>\n",
       "      <td>20</td>\n",
       "      <td>0</td>\n",
       "      <td>0</td>\n",
       "      <td>19</td>\n",
       "      <td>0</td>\n",
       "      <td>0</td>\n",
       "      <td>19</td>\n",
       "      <td>0</td>\n",
       "      <td>0</td>\n",
       "      <td>19</td>\n",
       "      <td>0</td>\n",
       "      <td>0</td>\n",
       "      <td>0</td>\n",
       "    </tr>\n",
       "    <tr>\n",
       "      <th>3</th>\n",
       "      <td>1281265</td>\n",
       "      <td>0</td>\n",
       "      <td>0</td>\n",
       "      <td>1</td>\n",
       "      <td>0</td>\n",
       "      <td>0</td>\n",
       "      <td>0</td>\n",
       "      <td>0</td>\n",
       "      <td>0</td>\n",
       "      <td>0</td>\n",
       "      <td>0</td>\n",
       "      <td>1</td>\n",
       "      <td>0</td>\n",
       "      <td>1</td>\n",
       "      <td>04</td>\n",
       "      <td>21</td>\n",
       "      <td>0</td>\n",
       "      <td>1</td>\n",
       "      <td>19</td>\n",
       "      <td>1</td>\n",
       "      <td>0</td>\n",
       "      <td>20</td>\n",
       "      <td>0</td>\n",
       "      <td>0</td>\n",
       "      <td>19</td>\n",
       "      <td>0</td>\n",
       "      <td>1</td>\n",
       "      <td>0</td>\n",
       "    </tr>\n",
       "    <tr>\n",
       "      <th>4</th>\n",
       "      <td>1281265</td>\n",
       "      <td>0</td>\n",
       "      <td>0</td>\n",
       "      <td>1</td>\n",
       "      <td>0</td>\n",
       "      <td>0</td>\n",
       "      <td>0</td>\n",
       "      <td>0</td>\n",
       "      <td>0</td>\n",
       "      <td>0</td>\n",
       "      <td>0</td>\n",
       "      <td>1</td>\n",
       "      <td>0</td>\n",
       "      <td>1</td>\n",
       "      <td>05</td>\n",
       "      <td>19</td>\n",
       "      <td>0</td>\n",
       "      <td>1</td>\n",
       "      <td>18</td>\n",
       "      <td>2</td>\n",
       "      <td>0</td>\n",
       "      <td>19</td>\n",
       "      <td>0</td>\n",
       "      <td>0</td>\n",
       "      <td>19</td>\n",
       "      <td>0</td>\n",
       "      <td>0</td>\n",
       "      <td>0</td>\n",
       "    </tr>\n",
       "    <tr>\n",
       "      <th>...</th>\n",
       "      <td>...</td>\n",
       "      <td>...</td>\n",
       "      <td>...</td>\n",
       "      <td>...</td>\n",
       "      <td>...</td>\n",
       "      <td>...</td>\n",
       "      <td>...</td>\n",
       "      <td>...</td>\n",
       "      <td>...</td>\n",
       "      <td>...</td>\n",
       "      <td>...</td>\n",
       "      <td>...</td>\n",
       "      <td>...</td>\n",
       "      <td>...</td>\n",
       "      <td>...</td>\n",
       "      <td>...</td>\n",
       "      <td>...</td>\n",
       "      <td>...</td>\n",
       "      <td>...</td>\n",
       "      <td>...</td>\n",
       "      <td>...</td>\n",
       "      <td>...</td>\n",
       "      <td>...</td>\n",
       "      <td>...</td>\n",
       "      <td>...</td>\n",
       "      <td>...</td>\n",
       "      <td>...</td>\n",
       "      <td>...</td>\n",
       "    </tr>\n",
       "    <tr>\n",
       "      <th>267262</th>\n",
       "      <td>1449495</td>\n",
       "      <td>1</td>\n",
       "      <td>0</td>\n",
       "      <td>0</td>\n",
       "      <td>0</td>\n",
       "      <td>0</td>\n",
       "      <td>0</td>\n",
       "      <td>0</td>\n",
       "      <td>0</td>\n",
       "      <td>0</td>\n",
       "      <td>0</td>\n",
       "      <td>1</td>\n",
       "      <td>0</td>\n",
       "      <td>1</td>\n",
       "      <td>09</td>\n",
       "      <td>1</td>\n",
       "      <td>1</td>\n",
       "      <td>0</td>\n",
       "      <td>0</td>\n",
       "      <td>0</td>\n",
       "      <td>0</td>\n",
       "      <td>1</td>\n",
       "      <td>0</td>\n",
       "      <td>0</td>\n",
       "      <td>1</td>\n",
       "      <td>0</td>\n",
       "      <td>0</td>\n",
       "      <td>0</td>\n",
       "    </tr>\n",
       "    <tr>\n",
       "      <th>267263</th>\n",
       "      <td>1480621</td>\n",
       "      <td>1</td>\n",
       "      <td>0</td>\n",
       "      <td>0</td>\n",
       "      <td>0</td>\n",
       "      <td>0</td>\n",
       "      <td>0</td>\n",
       "      <td>0</td>\n",
       "      <td>0</td>\n",
       "      <td>0</td>\n",
       "      <td>0</td>\n",
       "      <td>0</td>\n",
       "      <td>1</td>\n",
       "      <td>1</td>\n",
       "      <td>09</td>\n",
       "      <td>1</td>\n",
       "      <td>1</td>\n",
       "      <td>0</td>\n",
       "      <td>0</td>\n",
       "      <td>0</td>\n",
       "      <td>0</td>\n",
       "      <td>1</td>\n",
       "      <td>0</td>\n",
       "      <td>0</td>\n",
       "      <td>1</td>\n",
       "      <td>0</td>\n",
       "      <td>0</td>\n",
       "      <td>0</td>\n",
       "    </tr>\n",
       "    <tr>\n",
       "      <th>267264</th>\n",
       "      <td>1709950</td>\n",
       "      <td>0</td>\n",
       "      <td>0</td>\n",
       "      <td>1</td>\n",
       "      <td>0</td>\n",
       "      <td>0</td>\n",
       "      <td>0</td>\n",
       "      <td>0</td>\n",
       "      <td>0</td>\n",
       "      <td>0</td>\n",
       "      <td>0</td>\n",
       "      <td>0</td>\n",
       "      <td>1</td>\n",
       "      <td>1</td>\n",
       "      <td>09</td>\n",
       "      <td>2</td>\n",
       "      <td>1</td>\n",
       "      <td>0</td>\n",
       "      <td>0</td>\n",
       "      <td>0</td>\n",
       "      <td>0</td>\n",
       "      <td>0</td>\n",
       "      <td>1</td>\n",
       "      <td>0</td>\n",
       "      <td>1</td>\n",
       "      <td>0</td>\n",
       "      <td>0</td>\n",
       "      <td>0</td>\n",
       "    </tr>\n",
       "    <tr>\n",
       "      <th>267265</th>\n",
       "      <td>1709952</td>\n",
       "      <td>1</td>\n",
       "      <td>0</td>\n",
       "      <td>0</td>\n",
       "      <td>0</td>\n",
       "      <td>0</td>\n",
       "      <td>0</td>\n",
       "      <td>0</td>\n",
       "      <td>0</td>\n",
       "      <td>0</td>\n",
       "      <td>0</td>\n",
       "      <td>0</td>\n",
       "      <td>1</td>\n",
       "      <td>1</td>\n",
       "      <td>09</td>\n",
       "      <td>1</td>\n",
       "      <td>1</td>\n",
       "      <td>0</td>\n",
       "      <td>0</td>\n",
       "      <td>0</td>\n",
       "      <td>0</td>\n",
       "      <td>1</td>\n",
       "      <td>0</td>\n",
       "      <td>0</td>\n",
       "      <td>1</td>\n",
       "      <td>0</td>\n",
       "      <td>0</td>\n",
       "      <td>0</td>\n",
       "    </tr>\n",
       "    <tr>\n",
       "      <th>267266</th>\n",
       "      <td>1709628</td>\n",
       "      <td>1</td>\n",
       "      <td>0</td>\n",
       "      <td>0</td>\n",
       "      <td>0</td>\n",
       "      <td>0</td>\n",
       "      <td>0</td>\n",
       "      <td>0</td>\n",
       "      <td>0</td>\n",
       "      <td>0</td>\n",
       "      <td>0</td>\n",
       "      <td>0</td>\n",
       "      <td>1</td>\n",
       "      <td>1</td>\n",
       "      <td>09</td>\n",
       "      <td>1</td>\n",
       "      <td>1</td>\n",
       "      <td>0</td>\n",
       "      <td>0</td>\n",
       "      <td>0</td>\n",
       "      <td>0</td>\n",
       "      <td>1</td>\n",
       "      <td>0</td>\n",
       "      <td>0</td>\n",
       "      <td>1</td>\n",
       "      <td>0</td>\n",
       "      <td>0</td>\n",
       "      <td>0</td>\n",
       "    </tr>\n",
       "  </tbody>\n",
       "</table>\n",
       "<p>267267 rows × 28 columns</p>\n",
       "</div>"
      ],
      "text/plain": [
       "        USER_ID  USER_A  USER_B  USER_C  1970  2013  2014  2015  2016  2017  \\\n",
       "0          2858       1       0       0     0     0     1     0     0     0   \n",
       "1       1281265       0       0       1     0     0     0     0     0     0   \n",
       "2       1281265       0       0       1     0     0     0     0     0     0   \n",
       "3       1281265       0       0       1     0     0     0     0     0     0   \n",
       "4       1281265       0       0       1     0     0     0     0     0     0   \n",
       "...         ...     ...     ...     ...   ...   ...   ...   ...   ...   ...   \n",
       "267262  1449495       1       0       0     0     0     0     0     0     0   \n",
       "267263  1480621       1       0       0     0     0     0     0     0     0   \n",
       "267264  1709950       0       0       1     0     0     0     0     0     0   \n",
       "267265  1709952       1       0       0     0     0     0     0     0     0   \n",
       "267266  1709628       1       0       0     0     0     0     0     0     0   \n",
       "\n",
       "        2018  2019  2020  SEOUL MONTH  COUNT  공휴일  주말  주중  강수여부  이상기온  D_AA  \\\n",
       "0          0     0     0      1    01      1    1   0   0     1     0     1   \n",
       "1          0     1     0      1    01      7    1   3   3     1     0     7   \n",
       "2          0     1     0      1    03     20    0   0  19     0     0    19   \n",
       "3          0     1     0      1    04     21    0   1  19     1     0    20   \n",
       "4          0     1     0      1    05     19    0   1  18     2     0    19   \n",
       "...      ...   ...   ...    ...   ...    ...  ...  ..  ..   ...   ...   ...   \n",
       "267262     0     1     0      1    09      1    1   0   0     0     0     1   \n",
       "267263     0     0     1      1    09      1    1   0   0     0     0     1   \n",
       "267264     0     0     1      1    09      2    1   0   0     0     0     0   \n",
       "267265     0     0     1      1    09      1    1   0   0     0     0     1   \n",
       "267266     0     0     1      1    09      1    1   0   0     0     0     1   \n",
       "\n",
       "        D_BB  D_CC  GOODS_A  GOODS_B  GOODS_C  GOODS_D  \n",
       "0          0     0        1        0        0        0  \n",
       "1          0     0        7        0        0        0  \n",
       "2          0     0       19        0        0        0  \n",
       "3          0     0       19        0        1        0  \n",
       "4          0     0       19        0        0        0  \n",
       "...      ...   ...      ...      ...      ...      ...  \n",
       "267262     0     0        1        0        0        0  \n",
       "267263     0     0        1        0        0        0  \n",
       "267264     1     0        1        0        0        0  \n",
       "267265     0     0        1        0        0        0  \n",
       "267266     0     0        1        0        0        0  \n",
       "\n",
       "[267267 rows x 28 columns]"
      ]
     },
     "execution_count": 131,
     "metadata": {},
     "output_type": "execute_result"
    }
   ],
   "source": [
    "#train data set 전처리\n",
    "df_train=pd.merge(df_train1,df_train2)\n",
    "df_train"
   ]
  },
  {
   "cell_type": "code",
   "execution_count": 132,
   "id": "79e2bfe2",
   "metadata": {
    "slideshow": {
     "slide_type": "skip"
    }
   },
   "outputs": [],
   "source": [
    "#train data set 전처리\n",
    "#min-max 정규화 함수\n",
    "def mmnorm(s):\n",
    "    return (s - s.min()) / ( s.max() - s.min())"
   ]
  },
  {
   "cell_type": "code",
   "execution_count": 133,
   "id": "55772ec4",
   "metadata": {
    "slideshow": {
     "slide_type": "skip"
    }
   },
   "outputs": [],
   "source": [
    "#train data set 전처리\n",
    "#정규화\n",
    "df_train['공휴일']=mmnorm(df_train[['공휴일']])\n",
    "df_train['주말']=mmnorm(df_train[['주말']])\n",
    "df_train['주중']=mmnorm(df_train[['주중']])\n",
    "df_train['강수여부']=mmnorm(df_train[['강수여부']])\n",
    "df_train['이상기온']=mmnorm(df_train[['이상기온']])\n",
    "df_train['D_AA']=mmnorm(df_train[['D_AA']])\n",
    "df_train['D_BB']=mmnorm(df_train[['D_BB']])\n",
    "df_train['D_CC']=mmnorm(df_train[['D_CC']])\n",
    "df_train['GOODS_A']=mmnorm(df_train[['GOODS_A']])\n",
    "df_train['GOODS_B']=mmnorm(df_train[['GOODS_B']])\n",
    "df_train['GOODS_C']=mmnorm(df_train[['GOODS_C']])\n",
    "df_train['GOODS_D']=mmnorm(df_train[['GOODS_D']])"
   ]
  },
  {
   "cell_type": "code",
   "execution_count": 134,
   "id": "90be8b4f",
   "metadata": {
    "slideshow": {
     "slide_type": "skip"
    }
   },
   "outputs": [],
   "source": [
    "#train data set 전처리\n",
    "df_train=df_train[['USER_A','USER_B','USER_C',\n",
    "                 '1970','2013','2014','2015','2016','2017','2018','2019','2020',\n",
    "                'SEOUL','주중','주말','공휴일','이상기온','강수여부',\n",
    "                   'D_AA','D_BB','D_CC','GOODS_A','GOODS_B','GOODS_C','COUNT']]\n",
    "df_train_x=df_train.drop(['COUNT'],axis=1)\n",
    "df_train_y=df_train['COUNT']"
   ]
  },
  {
   "cell_type": "code",
   "execution_count": 135,
   "id": "7364bc4b",
   "metadata": {
    "slideshow": {
     "slide_type": "skip"
    }
   },
   "outputs": [
    {
     "data": {
      "text/html": [
       "<div>\n",
       "<style scoped>\n",
       "    .dataframe tbody tr th:only-of-type {\n",
       "        vertical-align: middle;\n",
       "    }\n",
       "\n",
       "    .dataframe tbody tr th {\n",
       "        vertical-align: top;\n",
       "    }\n",
       "\n",
       "    .dataframe thead th {\n",
       "        text-align: right;\n",
       "    }\n",
       "</style>\n",
       "<table border=\"1\" class=\"dataframe\">\n",
       "  <thead>\n",
       "    <tr style=\"text-align: right;\">\n",
       "      <th></th>\n",
       "      <th>USER_ID</th>\n",
       "      <th>USER_A</th>\n",
       "      <th>USER_B</th>\n",
       "      <th>USER_C</th>\n",
       "      <th>1970</th>\n",
       "      <th>2013</th>\n",
       "      <th>2014</th>\n",
       "      <th>2015</th>\n",
       "      <th>2016</th>\n",
       "      <th>2017</th>\n",
       "      <th>2018</th>\n",
       "      <th>2019</th>\n",
       "      <th>2020</th>\n",
       "      <th>SEOUL</th>\n",
       "    </tr>\n",
       "  </thead>\n",
       "  <tbody>\n",
       "    <tr>\n",
       "      <th>623305</th>\n",
       "      <td>1589466</td>\n",
       "      <td>1</td>\n",
       "      <td>0</td>\n",
       "      <td>0</td>\n",
       "      <td>0</td>\n",
       "      <td>0</td>\n",
       "      <td>0</td>\n",
       "      <td>0</td>\n",
       "      <td>0</td>\n",
       "      <td>0</td>\n",
       "      <td>0</td>\n",
       "      <td>0</td>\n",
       "      <td>1</td>\n",
       "      <td>1</td>\n",
       "    </tr>\n",
       "    <tr>\n",
       "      <th>623306</th>\n",
       "      <td>1557160</td>\n",
       "      <td>1</td>\n",
       "      <td>0</td>\n",
       "      <td>0</td>\n",
       "      <td>0</td>\n",
       "      <td>0</td>\n",
       "      <td>0</td>\n",
       "      <td>0</td>\n",
       "      <td>0</td>\n",
       "      <td>0</td>\n",
       "      <td>0</td>\n",
       "      <td>0</td>\n",
       "      <td>1</td>\n",
       "      <td>1</td>\n",
       "    </tr>\n",
       "    <tr>\n",
       "      <th>623307</th>\n",
       "      <td>1557070</td>\n",
       "      <td>1</td>\n",
       "      <td>0</td>\n",
       "      <td>0</td>\n",
       "      <td>0</td>\n",
       "      <td>0</td>\n",
       "      <td>0</td>\n",
       "      <td>0</td>\n",
       "      <td>0</td>\n",
       "      <td>0</td>\n",
       "      <td>0</td>\n",
       "      <td>0</td>\n",
       "      <td>1</td>\n",
       "      <td>1</td>\n",
       "    </tr>\n",
       "    <tr>\n",
       "      <th>623308</th>\n",
       "      <td>1555326</td>\n",
       "      <td>1</td>\n",
       "      <td>0</td>\n",
       "      <td>0</td>\n",
       "      <td>0</td>\n",
       "      <td>0</td>\n",
       "      <td>0</td>\n",
       "      <td>0</td>\n",
       "      <td>0</td>\n",
       "      <td>0</td>\n",
       "      <td>0</td>\n",
       "      <td>0</td>\n",
       "      <td>1</td>\n",
       "      <td>0</td>\n",
       "    </tr>\n",
       "    <tr>\n",
       "      <th>623309</th>\n",
       "      <td>1013267</td>\n",
       "      <td>1</td>\n",
       "      <td>0</td>\n",
       "      <td>0</td>\n",
       "      <td>0</td>\n",
       "      <td>0</td>\n",
       "      <td>0</td>\n",
       "      <td>0</td>\n",
       "      <td>0</td>\n",
       "      <td>0</td>\n",
       "      <td>1</td>\n",
       "      <td>0</td>\n",
       "      <td>0</td>\n",
       "      <td>1</td>\n",
       "    </tr>\n",
       "    <tr>\n",
       "      <th>...</th>\n",
       "      <td>...</td>\n",
       "      <td>...</td>\n",
       "      <td>...</td>\n",
       "      <td>...</td>\n",
       "      <td>...</td>\n",
       "      <td>...</td>\n",
       "      <td>...</td>\n",
       "      <td>...</td>\n",
       "      <td>...</td>\n",
       "      <td>...</td>\n",
       "      <td>...</td>\n",
       "      <td>...</td>\n",
       "      <td>...</td>\n",
       "      <td>...</td>\n",
       "    </tr>\n",
       "    <tr>\n",
       "      <th>878402</th>\n",
       "      <td>808499</td>\n",
       "      <td>1</td>\n",
       "      <td>0</td>\n",
       "      <td>0</td>\n",
       "      <td>0</td>\n",
       "      <td>0</td>\n",
       "      <td>0</td>\n",
       "      <td>0</td>\n",
       "      <td>0</td>\n",
       "      <td>0</td>\n",
       "      <td>1</td>\n",
       "      <td>0</td>\n",
       "      <td>0</td>\n",
       "      <td>1</td>\n",
       "    </tr>\n",
       "    <tr>\n",
       "      <th>878461</th>\n",
       "      <td>864552</td>\n",
       "      <td>1</td>\n",
       "      <td>0</td>\n",
       "      <td>0</td>\n",
       "      <td>0</td>\n",
       "      <td>0</td>\n",
       "      <td>0</td>\n",
       "      <td>0</td>\n",
       "      <td>0</td>\n",
       "      <td>0</td>\n",
       "      <td>1</td>\n",
       "      <td>0</td>\n",
       "      <td>0</td>\n",
       "      <td>1</td>\n",
       "    </tr>\n",
       "    <tr>\n",
       "      <th>878469</th>\n",
       "      <td>1401244</td>\n",
       "      <td>1</td>\n",
       "      <td>0</td>\n",
       "      <td>0</td>\n",
       "      <td>0</td>\n",
       "      <td>0</td>\n",
       "      <td>0</td>\n",
       "      <td>0</td>\n",
       "      <td>0</td>\n",
       "      <td>0</td>\n",
       "      <td>0</td>\n",
       "      <td>1</td>\n",
       "      <td>0</td>\n",
       "      <td>1</td>\n",
       "    </tr>\n",
       "    <tr>\n",
       "      <th>878513</th>\n",
       "      <td>1361675</td>\n",
       "      <td>0</td>\n",
       "      <td>0</td>\n",
       "      <td>1</td>\n",
       "      <td>0</td>\n",
       "      <td>0</td>\n",
       "      <td>0</td>\n",
       "      <td>0</td>\n",
       "      <td>0</td>\n",
       "      <td>0</td>\n",
       "      <td>0</td>\n",
       "      <td>1</td>\n",
       "      <td>0</td>\n",
       "      <td>1</td>\n",
       "    </tr>\n",
       "    <tr>\n",
       "      <th>878904</th>\n",
       "      <td>689172</td>\n",
       "      <td>1</td>\n",
       "      <td>0</td>\n",
       "      <td>0</td>\n",
       "      <td>0</td>\n",
       "      <td>0</td>\n",
       "      <td>0</td>\n",
       "      <td>0</td>\n",
       "      <td>0</td>\n",
       "      <td>0</td>\n",
       "      <td>1</td>\n",
       "      <td>0</td>\n",
       "      <td>0</td>\n",
       "      <td>1</td>\n",
       "    </tr>\n",
       "  </tbody>\n",
       "</table>\n",
       "<p>75959 rows × 14 columns</p>\n",
       "</div>"
      ],
      "text/plain": [
       "        USER_ID  USER_A  USER_B  USER_C  1970  2013  2014  2015  2016  2017  \\\n",
       "623305  1589466       1       0       0     0     0     0     0     0     0   \n",
       "623306  1557160       1       0       0     0     0     0     0     0     0   \n",
       "623307  1557070       1       0       0     0     0     0     0     0     0   \n",
       "623308  1555326       1       0       0     0     0     0     0     0     0   \n",
       "623309  1013267       1       0       0     0     0     0     0     0     0   \n",
       "...         ...     ...     ...     ...   ...   ...   ...   ...   ...   ...   \n",
       "878402   808499       1       0       0     0     0     0     0     0     0   \n",
       "878461   864552       1       0       0     0     0     0     0     0     0   \n",
       "878469  1401244       1       0       0     0     0     0     0     0     0   \n",
       "878513  1361675       0       0       1     0     0     0     0     0     0   \n",
       "878904   689172       1       0       0     0     0     0     0     0     0   \n",
       "\n",
       "        2018  2019  2020  SEOUL  \n",
       "623305     0     0     1      1  \n",
       "623306     0     0     1      1  \n",
       "623307     0     0     1      1  \n",
       "623308     0     0     1      0  \n",
       "623309     1     0     0      1  \n",
       "...      ...   ...   ...    ...  \n",
       "878402     1     0     0      1  \n",
       "878461     1     0     0      1  \n",
       "878469     0     1     0      1  \n",
       "878513     0     1     0      1  \n",
       "878904     1     0     0      1  \n",
       "\n",
       "[75959 rows x 14 columns]"
      ]
     },
     "execution_count": 135,
     "metadata": {},
     "output_type": "execute_result"
    }
   ],
   "source": [
    "#test data set 전처리\n",
    "#고유값 가지는 컬럼들 추출\n",
    "df_test1=df_test_tem.drop(['DATE','MONTH','COUNT','공휴일','주말','주중','강수여부','이상기온','일자',\n",
    "                            'D_AA','D_BB','D_CC','GOODS_A','GOODS_B','GOODS_C','GOODS_D'],axis=1)\n",
    "df_test1=df_test1.drop_duplicates(['USER_ID'])\n",
    "df_test1"
   ]
  },
  {
   "cell_type": "code",
   "execution_count": 136,
   "id": "363473d6",
   "metadata": {
    "slideshow": {
     "slide_type": "skip"
    }
   },
   "outputs": [
    {
     "data": {
      "text/html": [
       "<div>\n",
       "<style scoped>\n",
       "    .dataframe tbody tr th:only-of-type {\n",
       "        vertical-align: middle;\n",
       "    }\n",
       "\n",
       "    .dataframe tbody tr th {\n",
       "        vertical-align: top;\n",
       "    }\n",
       "\n",
       "    .dataframe thead th {\n",
       "        text-align: right;\n",
       "    }\n",
       "</style>\n",
       "<table border=\"1\" class=\"dataframe\">\n",
       "  <thead>\n",
       "    <tr style=\"text-align: right;\">\n",
       "      <th></th>\n",
       "      <th>USER_ID</th>\n",
       "      <th>MONTH</th>\n",
       "      <th>COUNT</th>\n",
       "      <th>공휴일</th>\n",
       "      <th>주말</th>\n",
       "      <th>주중</th>\n",
       "      <th>강수여부</th>\n",
       "      <th>이상기온</th>\n",
       "      <th>D_AA</th>\n",
       "      <th>D_BB</th>\n",
       "      <th>D_CC</th>\n",
       "      <th>GOODS_A</th>\n",
       "      <th>GOODS_B</th>\n",
       "      <th>GOODS_C</th>\n",
       "      <th>GOODS_D</th>\n",
       "    </tr>\n",
       "  </thead>\n",
       "  <tbody>\n",
       "    <tr>\n",
       "      <th>0</th>\n",
       "      <td>224</td>\n",
       "      <td>12</td>\n",
       "      <td>1</td>\n",
       "      <td>0</td>\n",
       "      <td>0</td>\n",
       "      <td>1</td>\n",
       "      <td>0</td>\n",
       "      <td>0</td>\n",
       "      <td>1</td>\n",
       "      <td>0</td>\n",
       "      <td>0</td>\n",
       "      <td>0</td>\n",
       "      <td>0</td>\n",
       "      <td>1</td>\n",
       "      <td>0</td>\n",
       "    </tr>\n",
       "    <tr>\n",
       "      <th>1</th>\n",
       "      <td>232</td>\n",
       "      <td>10</td>\n",
       "      <td>2</td>\n",
       "      <td>1</td>\n",
       "      <td>0</td>\n",
       "      <td>1</td>\n",
       "      <td>0</td>\n",
       "      <td>0</td>\n",
       "      <td>0</td>\n",
       "      <td>2</td>\n",
       "      <td>0</td>\n",
       "      <td>1</td>\n",
       "      <td>1</td>\n",
       "      <td>0</td>\n",
       "      <td>0</td>\n",
       "    </tr>\n",
       "    <tr>\n",
       "      <th>2</th>\n",
       "      <td>232</td>\n",
       "      <td>11</td>\n",
       "      <td>2</td>\n",
       "      <td>0</td>\n",
       "      <td>0</td>\n",
       "      <td>2</td>\n",
       "      <td>0</td>\n",
       "      <td>0</td>\n",
       "      <td>0</td>\n",
       "      <td>2</td>\n",
       "      <td>0</td>\n",
       "      <td>2</td>\n",
       "      <td>0</td>\n",
       "      <td>0</td>\n",
       "      <td>0</td>\n",
       "    </tr>\n",
       "    <tr>\n",
       "      <th>3</th>\n",
       "      <td>342</td>\n",
       "      <td>10</td>\n",
       "      <td>1</td>\n",
       "      <td>0</td>\n",
       "      <td>1</td>\n",
       "      <td>0</td>\n",
       "      <td>0</td>\n",
       "      <td>0</td>\n",
       "      <td>1</td>\n",
       "      <td>0</td>\n",
       "      <td>0</td>\n",
       "      <td>1</td>\n",
       "      <td>0</td>\n",
       "      <td>0</td>\n",
       "      <td>0</td>\n",
       "    </tr>\n",
       "    <tr>\n",
       "      <th>4</th>\n",
       "      <td>565</td>\n",
       "      <td>11</td>\n",
       "      <td>1</td>\n",
       "      <td>0</td>\n",
       "      <td>0</td>\n",
       "      <td>1</td>\n",
       "      <td>0</td>\n",
       "      <td>0</td>\n",
       "      <td>1</td>\n",
       "      <td>0</td>\n",
       "      <td>0</td>\n",
       "      <td>0</td>\n",
       "      <td>1</td>\n",
       "      <td>0</td>\n",
       "      <td>0</td>\n",
       "    </tr>\n",
       "    <tr>\n",
       "      <th>...</th>\n",
       "      <td>...</td>\n",
       "      <td>...</td>\n",
       "      <td>...</td>\n",
       "      <td>...</td>\n",
       "      <td>...</td>\n",
       "      <td>...</td>\n",
       "      <td>...</td>\n",
       "      <td>...</td>\n",
       "      <td>...</td>\n",
       "      <td>...</td>\n",
       "      <td>...</td>\n",
       "      <td>...</td>\n",
       "      <td>...</td>\n",
       "      <td>...</td>\n",
       "      <td>...</td>\n",
       "    </tr>\n",
       "    <tr>\n",
       "      <th>108145</th>\n",
       "      <td>1830551</td>\n",
       "      <td>12</td>\n",
       "      <td>1</td>\n",
       "      <td>0</td>\n",
       "      <td>0</td>\n",
       "      <td>1</td>\n",
       "      <td>0</td>\n",
       "      <td>1</td>\n",
       "      <td>0</td>\n",
       "      <td>1</td>\n",
       "      <td>0</td>\n",
       "      <td>0</td>\n",
       "      <td>1</td>\n",
       "      <td>0</td>\n",
       "      <td>0</td>\n",
       "    </tr>\n",
       "    <tr>\n",
       "      <th>108146</th>\n",
       "      <td>1830570</td>\n",
       "      <td>12</td>\n",
       "      <td>1</td>\n",
       "      <td>0</td>\n",
       "      <td>0</td>\n",
       "      <td>1</td>\n",
       "      <td>0</td>\n",
       "      <td>1</td>\n",
       "      <td>0</td>\n",
       "      <td>1</td>\n",
       "      <td>0</td>\n",
       "      <td>0</td>\n",
       "      <td>1</td>\n",
       "      <td>0</td>\n",
       "      <td>0</td>\n",
       "    </tr>\n",
       "    <tr>\n",
       "      <th>108147</th>\n",
       "      <td>1830580</td>\n",
       "      <td>12</td>\n",
       "      <td>1</td>\n",
       "      <td>0</td>\n",
       "      <td>0</td>\n",
       "      <td>1</td>\n",
       "      <td>0</td>\n",
       "      <td>1</td>\n",
       "      <td>1</td>\n",
       "      <td>0</td>\n",
       "      <td>0</td>\n",
       "      <td>0</td>\n",
       "      <td>1</td>\n",
       "      <td>0</td>\n",
       "      <td>0</td>\n",
       "    </tr>\n",
       "    <tr>\n",
       "      <th>108148</th>\n",
       "      <td>1830589</td>\n",
       "      <td>12</td>\n",
       "      <td>1</td>\n",
       "      <td>0</td>\n",
       "      <td>0</td>\n",
       "      <td>1</td>\n",
       "      <td>0</td>\n",
       "      <td>1</td>\n",
       "      <td>0</td>\n",
       "      <td>1</td>\n",
       "      <td>0</td>\n",
       "      <td>0</td>\n",
       "      <td>1</td>\n",
       "      <td>0</td>\n",
       "      <td>0</td>\n",
       "    </tr>\n",
       "    <tr>\n",
       "      <th>108149</th>\n",
       "      <td>1830598</td>\n",
       "      <td>12</td>\n",
       "      <td>1</td>\n",
       "      <td>0</td>\n",
       "      <td>0</td>\n",
       "      <td>1</td>\n",
       "      <td>0</td>\n",
       "      <td>1</td>\n",
       "      <td>1</td>\n",
       "      <td>0</td>\n",
       "      <td>0</td>\n",
       "      <td>0</td>\n",
       "      <td>1</td>\n",
       "      <td>0</td>\n",
       "      <td>0</td>\n",
       "    </tr>\n",
       "  </tbody>\n",
       "</table>\n",
       "<p>108150 rows × 15 columns</p>\n",
       "</div>"
      ],
      "text/plain": [
       "        USER_ID MONTH  COUNT  공휴일  주말  주중  강수여부  이상기온  D_AA  D_BB  D_CC  \\\n",
       "0           224    12      1    0   0   1     0     0     1     0     0   \n",
       "1           232    10      2    1   0   1     0     0     0     2     0   \n",
       "2           232    11      2    0   0   2     0     0     0     2     0   \n",
       "3           342    10      1    0   1   0     0     0     1     0     0   \n",
       "4           565    11      1    0   0   1     0     0     1     0     0   \n",
       "...         ...   ...    ...  ...  ..  ..   ...   ...   ...   ...   ...   \n",
       "108145  1830551    12      1    0   0   1     0     1     0     1     0   \n",
       "108146  1830570    12      1    0   0   1     0     1     0     1     0   \n",
       "108147  1830580    12      1    0   0   1     0     1     1     0     0   \n",
       "108148  1830589    12      1    0   0   1     0     1     0     1     0   \n",
       "108149  1830598    12      1    0   0   1     0     1     1     0     0   \n",
       "\n",
       "        GOODS_A  GOODS_B  GOODS_C  GOODS_D  \n",
       "0             0        0        1        0  \n",
       "1             1        1        0        0  \n",
       "2             2        0        0        0  \n",
       "3             1        0        0        0  \n",
       "4             0        1        0        0  \n",
       "...         ...      ...      ...      ...  \n",
       "108145        0        1        0        0  \n",
       "108146        0        1        0        0  \n",
       "108147        0        1        0        0  \n",
       "108148        0        1        0        0  \n",
       "108149        0        1        0        0  \n",
       "\n",
       "[108150 rows x 15 columns]"
      ]
     },
     "execution_count": 136,
     "metadata": {},
     "output_type": "execute_result"
    }
   ],
   "source": [
    "#test data set 전처리\n",
    "#월별 합산값 가지는 컬럼들 추출\n",
    "df_test2=df_test_tem[['MONTH','COUNT','공휴일','주말','주중','강수여부','이상기온','USER_ID',\n",
    "                        'D_AA','D_BB','D_CC','GOODS_A','GOODS_B','GOODS_C','GOODS_D']]\n",
    "df_test2=df_test2.groupby(['USER_ID','MONTH']).sum()\n",
    "df_test2=df_test2.reset_index()\n",
    "df_test2"
   ]
  },
  {
   "cell_type": "code",
   "execution_count": 137,
   "id": "e1599407",
   "metadata": {
    "scrolled": true,
    "slideshow": {
     "slide_type": "skip"
    }
   },
   "outputs": [
    {
     "data": {
      "text/html": [
       "<div>\n",
       "<style scoped>\n",
       "    .dataframe tbody tr th:only-of-type {\n",
       "        vertical-align: middle;\n",
       "    }\n",
       "\n",
       "    .dataframe tbody tr th {\n",
       "        vertical-align: top;\n",
       "    }\n",
       "\n",
       "    .dataframe thead th {\n",
       "        text-align: right;\n",
       "    }\n",
       "</style>\n",
       "<table border=\"1\" class=\"dataframe\">\n",
       "  <thead>\n",
       "    <tr style=\"text-align: right;\">\n",
       "      <th></th>\n",
       "      <th>USER_ID</th>\n",
       "      <th>USER_A</th>\n",
       "      <th>USER_B</th>\n",
       "      <th>USER_C</th>\n",
       "      <th>1970</th>\n",
       "      <th>2013</th>\n",
       "      <th>2014</th>\n",
       "      <th>2015</th>\n",
       "      <th>2016</th>\n",
       "      <th>2017</th>\n",
       "      <th>2018</th>\n",
       "      <th>2019</th>\n",
       "      <th>2020</th>\n",
       "      <th>SEOUL</th>\n",
       "      <th>MONTH</th>\n",
       "      <th>COUNT</th>\n",
       "      <th>공휴일</th>\n",
       "      <th>주말</th>\n",
       "      <th>주중</th>\n",
       "      <th>강수여부</th>\n",
       "      <th>이상기온</th>\n",
       "      <th>D_AA</th>\n",
       "      <th>D_BB</th>\n",
       "      <th>D_CC</th>\n",
       "      <th>GOODS_A</th>\n",
       "      <th>GOODS_B</th>\n",
       "      <th>GOODS_C</th>\n",
       "      <th>GOODS_D</th>\n",
       "    </tr>\n",
       "  </thead>\n",
       "  <tbody>\n",
       "    <tr>\n",
       "      <th>0</th>\n",
       "      <td>1589466</td>\n",
       "      <td>1</td>\n",
       "      <td>0</td>\n",
       "      <td>0</td>\n",
       "      <td>0</td>\n",
       "      <td>0</td>\n",
       "      <td>0</td>\n",
       "      <td>0</td>\n",
       "      <td>0</td>\n",
       "      <td>0</td>\n",
       "      <td>0</td>\n",
       "      <td>0</td>\n",
       "      <td>1</td>\n",
       "      <td>1</td>\n",
       "      <td>10</td>\n",
       "      <td>1</td>\n",
       "      <td>1</td>\n",
       "      <td>0</td>\n",
       "      <td>0</td>\n",
       "      <td>0</td>\n",
       "      <td>0</td>\n",
       "      <td>1</td>\n",
       "      <td>0</td>\n",
       "      <td>0</td>\n",
       "      <td>0</td>\n",
       "      <td>0</td>\n",
       "      <td>1</td>\n",
       "      <td>0</td>\n",
       "    </tr>\n",
       "    <tr>\n",
       "      <th>1</th>\n",
       "      <td>1589466</td>\n",
       "      <td>1</td>\n",
       "      <td>0</td>\n",
       "      <td>0</td>\n",
       "      <td>0</td>\n",
       "      <td>0</td>\n",
       "      <td>0</td>\n",
       "      <td>0</td>\n",
       "      <td>0</td>\n",
       "      <td>0</td>\n",
       "      <td>0</td>\n",
       "      <td>0</td>\n",
       "      <td>1</td>\n",
       "      <td>1</td>\n",
       "      <td>11</td>\n",
       "      <td>1</td>\n",
       "      <td>0</td>\n",
       "      <td>1</td>\n",
       "      <td>0</td>\n",
       "      <td>0</td>\n",
       "      <td>0</td>\n",
       "      <td>1</td>\n",
       "      <td>0</td>\n",
       "      <td>0</td>\n",
       "      <td>0</td>\n",
       "      <td>0</td>\n",
       "      <td>1</td>\n",
       "      <td>0</td>\n",
       "    </tr>\n",
       "    <tr>\n",
       "      <th>2</th>\n",
       "      <td>1589466</td>\n",
       "      <td>1</td>\n",
       "      <td>0</td>\n",
       "      <td>0</td>\n",
       "      <td>0</td>\n",
       "      <td>0</td>\n",
       "      <td>0</td>\n",
       "      <td>0</td>\n",
       "      <td>0</td>\n",
       "      <td>0</td>\n",
       "      <td>0</td>\n",
       "      <td>0</td>\n",
       "      <td>1</td>\n",
       "      <td>1</td>\n",
       "      <td>12</td>\n",
       "      <td>1</td>\n",
       "      <td>0</td>\n",
       "      <td>1</td>\n",
       "      <td>0</td>\n",
       "      <td>0</td>\n",
       "      <td>0</td>\n",
       "      <td>1</td>\n",
       "      <td>0</td>\n",
       "      <td>0</td>\n",
       "      <td>0</td>\n",
       "      <td>0</td>\n",
       "      <td>1</td>\n",
       "      <td>0</td>\n",
       "    </tr>\n",
       "    <tr>\n",
       "      <th>3</th>\n",
       "      <td>1557160</td>\n",
       "      <td>1</td>\n",
       "      <td>0</td>\n",
       "      <td>0</td>\n",
       "      <td>0</td>\n",
       "      <td>0</td>\n",
       "      <td>0</td>\n",
       "      <td>0</td>\n",
       "      <td>0</td>\n",
       "      <td>0</td>\n",
       "      <td>0</td>\n",
       "      <td>0</td>\n",
       "      <td>1</td>\n",
       "      <td>1</td>\n",
       "      <td>10</td>\n",
       "      <td>2</td>\n",
       "      <td>2</td>\n",
       "      <td>0</td>\n",
       "      <td>0</td>\n",
       "      <td>0</td>\n",
       "      <td>0</td>\n",
       "      <td>2</td>\n",
       "      <td>0</td>\n",
       "      <td>0</td>\n",
       "      <td>2</td>\n",
       "      <td>0</td>\n",
       "      <td>0</td>\n",
       "      <td>0</td>\n",
       "    </tr>\n",
       "    <tr>\n",
       "      <th>4</th>\n",
       "      <td>1557070</td>\n",
       "      <td>1</td>\n",
       "      <td>0</td>\n",
       "      <td>0</td>\n",
       "      <td>0</td>\n",
       "      <td>0</td>\n",
       "      <td>0</td>\n",
       "      <td>0</td>\n",
       "      <td>0</td>\n",
       "      <td>0</td>\n",
       "      <td>0</td>\n",
       "      <td>0</td>\n",
       "      <td>1</td>\n",
       "      <td>1</td>\n",
       "      <td>10</td>\n",
       "      <td>2</td>\n",
       "      <td>1</td>\n",
       "      <td>0</td>\n",
       "      <td>1</td>\n",
       "      <td>0</td>\n",
       "      <td>0</td>\n",
       "      <td>0</td>\n",
       "      <td>2</td>\n",
       "      <td>0</td>\n",
       "      <td>2</td>\n",
       "      <td>0</td>\n",
       "      <td>0</td>\n",
       "      <td>0</td>\n",
       "    </tr>\n",
       "    <tr>\n",
       "      <th>...</th>\n",
       "      <td>...</td>\n",
       "      <td>...</td>\n",
       "      <td>...</td>\n",
       "      <td>...</td>\n",
       "      <td>...</td>\n",
       "      <td>...</td>\n",
       "      <td>...</td>\n",
       "      <td>...</td>\n",
       "      <td>...</td>\n",
       "      <td>...</td>\n",
       "      <td>...</td>\n",
       "      <td>...</td>\n",
       "      <td>...</td>\n",
       "      <td>...</td>\n",
       "      <td>...</td>\n",
       "      <td>...</td>\n",
       "      <td>...</td>\n",
       "      <td>...</td>\n",
       "      <td>...</td>\n",
       "      <td>...</td>\n",
       "      <td>...</td>\n",
       "      <td>...</td>\n",
       "      <td>...</td>\n",
       "      <td>...</td>\n",
       "      <td>...</td>\n",
       "      <td>...</td>\n",
       "      <td>...</td>\n",
       "      <td>...</td>\n",
       "    </tr>\n",
       "    <tr>\n",
       "      <th>108145</th>\n",
       "      <td>808499</td>\n",
       "      <td>1</td>\n",
       "      <td>0</td>\n",
       "      <td>0</td>\n",
       "      <td>0</td>\n",
       "      <td>0</td>\n",
       "      <td>0</td>\n",
       "      <td>0</td>\n",
       "      <td>0</td>\n",
       "      <td>0</td>\n",
       "      <td>1</td>\n",
       "      <td>0</td>\n",
       "      <td>0</td>\n",
       "      <td>1</td>\n",
       "      <td>12</td>\n",
       "      <td>1</td>\n",
       "      <td>0</td>\n",
       "      <td>0</td>\n",
       "      <td>1</td>\n",
       "      <td>0</td>\n",
       "      <td>1</td>\n",
       "      <td>0</td>\n",
       "      <td>1</td>\n",
       "      <td>0</td>\n",
       "      <td>1</td>\n",
       "      <td>0</td>\n",
       "      <td>0</td>\n",
       "      <td>0</td>\n",
       "    </tr>\n",
       "    <tr>\n",
       "      <th>108146</th>\n",
       "      <td>864552</td>\n",
       "      <td>1</td>\n",
       "      <td>0</td>\n",
       "      <td>0</td>\n",
       "      <td>0</td>\n",
       "      <td>0</td>\n",
       "      <td>0</td>\n",
       "      <td>0</td>\n",
       "      <td>0</td>\n",
       "      <td>0</td>\n",
       "      <td>1</td>\n",
       "      <td>0</td>\n",
       "      <td>0</td>\n",
       "      <td>1</td>\n",
       "      <td>12</td>\n",
       "      <td>1</td>\n",
       "      <td>0</td>\n",
       "      <td>0</td>\n",
       "      <td>1</td>\n",
       "      <td>0</td>\n",
       "      <td>1</td>\n",
       "      <td>1</td>\n",
       "      <td>0</td>\n",
       "      <td>0</td>\n",
       "      <td>1</td>\n",
       "      <td>0</td>\n",
       "      <td>0</td>\n",
       "      <td>0</td>\n",
       "    </tr>\n",
       "    <tr>\n",
       "      <th>108147</th>\n",
       "      <td>1401244</td>\n",
       "      <td>1</td>\n",
       "      <td>0</td>\n",
       "      <td>0</td>\n",
       "      <td>0</td>\n",
       "      <td>0</td>\n",
       "      <td>0</td>\n",
       "      <td>0</td>\n",
       "      <td>0</td>\n",
       "      <td>0</td>\n",
       "      <td>0</td>\n",
       "      <td>1</td>\n",
       "      <td>0</td>\n",
       "      <td>1</td>\n",
       "      <td>12</td>\n",
       "      <td>1</td>\n",
       "      <td>0</td>\n",
       "      <td>0</td>\n",
       "      <td>1</td>\n",
       "      <td>0</td>\n",
       "      <td>1</td>\n",
       "      <td>1</td>\n",
       "      <td>0</td>\n",
       "      <td>0</td>\n",
       "      <td>0</td>\n",
       "      <td>0</td>\n",
       "      <td>1</td>\n",
       "      <td>0</td>\n",
       "    </tr>\n",
       "    <tr>\n",
       "      <th>108148</th>\n",
       "      <td>1361675</td>\n",
       "      <td>0</td>\n",
       "      <td>0</td>\n",
       "      <td>1</td>\n",
       "      <td>0</td>\n",
       "      <td>0</td>\n",
       "      <td>0</td>\n",
       "      <td>0</td>\n",
       "      <td>0</td>\n",
       "      <td>0</td>\n",
       "      <td>0</td>\n",
       "      <td>1</td>\n",
       "      <td>0</td>\n",
       "      <td>1</td>\n",
       "      <td>12</td>\n",
       "      <td>1</td>\n",
       "      <td>0</td>\n",
       "      <td>0</td>\n",
       "      <td>1</td>\n",
       "      <td>0</td>\n",
       "      <td>1</td>\n",
       "      <td>0</td>\n",
       "      <td>1</td>\n",
       "      <td>0</td>\n",
       "      <td>1</td>\n",
       "      <td>0</td>\n",
       "      <td>0</td>\n",
       "      <td>0</td>\n",
       "    </tr>\n",
       "    <tr>\n",
       "      <th>108149</th>\n",
       "      <td>689172</td>\n",
       "      <td>1</td>\n",
       "      <td>0</td>\n",
       "      <td>0</td>\n",
       "      <td>0</td>\n",
       "      <td>0</td>\n",
       "      <td>0</td>\n",
       "      <td>0</td>\n",
       "      <td>0</td>\n",
       "      <td>0</td>\n",
       "      <td>1</td>\n",
       "      <td>0</td>\n",
       "      <td>0</td>\n",
       "      <td>1</td>\n",
       "      <td>12</td>\n",
       "      <td>1</td>\n",
       "      <td>0</td>\n",
       "      <td>0</td>\n",
       "      <td>1</td>\n",
       "      <td>0</td>\n",
       "      <td>1</td>\n",
       "      <td>1</td>\n",
       "      <td>0</td>\n",
       "      <td>0</td>\n",
       "      <td>1</td>\n",
       "      <td>0</td>\n",
       "      <td>0</td>\n",
       "      <td>0</td>\n",
       "    </tr>\n",
       "  </tbody>\n",
       "</table>\n",
       "<p>108150 rows × 28 columns</p>\n",
       "</div>"
      ],
      "text/plain": [
       "        USER_ID  USER_A  USER_B  USER_C  1970  2013  2014  2015  2016  2017  \\\n",
       "0       1589466       1       0       0     0     0     0     0     0     0   \n",
       "1       1589466       1       0       0     0     0     0     0     0     0   \n",
       "2       1589466       1       0       0     0     0     0     0     0     0   \n",
       "3       1557160       1       0       0     0     0     0     0     0     0   \n",
       "4       1557070       1       0       0     0     0     0     0     0     0   \n",
       "...         ...     ...     ...     ...   ...   ...   ...   ...   ...   ...   \n",
       "108145   808499       1       0       0     0     0     0     0     0     0   \n",
       "108146   864552       1       0       0     0     0     0     0     0     0   \n",
       "108147  1401244       1       0       0     0     0     0     0     0     0   \n",
       "108148  1361675       0       0       1     0     0     0     0     0     0   \n",
       "108149   689172       1       0       0     0     0     0     0     0     0   \n",
       "\n",
       "        2018  2019  2020  SEOUL MONTH  COUNT  공휴일  주말  주중  강수여부  이상기온  D_AA  \\\n",
       "0          0     0     1      1    10      1    1   0   0     0     0     1   \n",
       "1          0     0     1      1    11      1    0   1   0     0     0     1   \n",
       "2          0     0     1      1    12      1    0   1   0     0     0     1   \n",
       "3          0     0     1      1    10      2    2   0   0     0     0     2   \n",
       "4          0     0     1      1    10      2    1   0   1     0     0     0   \n",
       "...      ...   ...   ...    ...   ...    ...  ...  ..  ..   ...   ...   ...   \n",
       "108145     1     0     0      1    12      1    0   0   1     0     1     0   \n",
       "108146     1     0     0      1    12      1    0   0   1     0     1     1   \n",
       "108147     0     1     0      1    12      1    0   0   1     0     1     1   \n",
       "108148     0     1     0      1    12      1    0   0   1     0     1     0   \n",
       "108149     1     0     0      1    12      1    0   0   1     0     1     1   \n",
       "\n",
       "        D_BB  D_CC  GOODS_A  GOODS_B  GOODS_C  GOODS_D  \n",
       "0          0     0        0        0        1        0  \n",
       "1          0     0        0        0        1        0  \n",
       "2          0     0        0        0        1        0  \n",
       "3          0     0        2        0        0        0  \n",
       "4          2     0        2        0        0        0  \n",
       "...      ...   ...      ...      ...      ...      ...  \n",
       "108145     1     0        1        0        0        0  \n",
       "108146     0     0        1        0        0        0  \n",
       "108147     0     0        0        0        1        0  \n",
       "108148     1     0        1        0        0        0  \n",
       "108149     0     0        1        0        0        0  \n",
       "\n",
       "[108150 rows x 28 columns]"
      ]
     },
     "execution_count": 137,
     "metadata": {},
     "output_type": "execute_result"
    }
   ],
   "source": [
    "#test data set 전처리\n",
    "df_test=pd.merge(df_test1,df_test2)\n",
    "df_test"
   ]
  },
  {
   "cell_type": "code",
   "execution_count": 138,
   "id": "644fc03d",
   "metadata": {
    "slideshow": {
     "slide_type": "skip"
    }
   },
   "outputs": [],
   "source": [
    "#test data set 전처리\n",
    "#min-max 정규화 함수\n",
    "def mmnorm(s):\n",
    "    return (s - s.min()) / ( s.max() - s.min())"
   ]
  },
  {
   "cell_type": "code",
   "execution_count": 139,
   "id": "2fcda325",
   "metadata": {
    "slideshow": {
     "slide_type": "skip"
    }
   },
   "outputs": [],
   "source": [
    "#test data set 전처리\n",
    "#정규화\n",
    "df_test['공휴일']=mmnorm(df_test[['공휴일']])\n",
    "df_test['주말']=mmnorm(df_test[['주말']])\n",
    "df_test['주중']=mmnorm(df_test[['주중']])\n",
    "df_test['강수여부']=mmnorm(df_test[['강수여부']])\n",
    "df_test['이상기온']=mmnorm(df_test[['이상기온']])\n",
    "df_test['D_AA']=mmnorm(df_test[['D_AA']])\n",
    "df_test['D_BB']=mmnorm(df_test[['D_BB']])\n",
    "df_test['D_CC']=mmnorm(df_test[['D_CC']])\n",
    "df_test['GOODS_A']=mmnorm(df_test[['GOODS_A']])\n",
    "df_test['GOODS_B']=mmnorm(df_test[['GOODS_B']])\n",
    "df_test['GOODS_C']=mmnorm(df_test[['GOODS_C']])\n",
    "df_test['GOODS_D']=mmnorm(df_test[['GOODS_D']])"
   ]
  },
  {
   "cell_type": "code",
   "execution_count": 140,
   "id": "8832d33d",
   "metadata": {
    "slideshow": {
     "slide_type": "skip"
    }
   },
   "outputs": [],
   "source": [
    "#test data set 전처리\n",
    "df_test=df_test[['USER_A','USER_B','USER_C',\n",
    "                 '1970','2013','2014','2015','2016','2017','2018','2019','2020',\n",
    "                'SEOUL','주중','주말','공휴일','이상기온','강수여부',\n",
    "                   'D_AA','D_BB','D_CC','GOODS_A','GOODS_B','GOODS_C','COUNT']]\n",
    "df_test_x=df_test.drop(['COUNT'],axis=1)\n",
    "df_test_y=df_test['COUNT']"
   ]
  },
  {
   "cell_type": "code",
   "execution_count": 141,
   "id": "93d91eb8",
   "metadata": {
    "slideshow": {
     "slide_type": "skip"
    }
   },
   "outputs": [
    {
     "name": "stdout",
     "output_type": "stream",
     "text": [
      "(267267, 24)\n",
      "(267267,)\n",
      "(108150, 24)\n",
      "(108150,)\n"
     ]
    }
   ],
   "source": [
    "print(df_train_x.shape)\n",
    "print(df_train_y.shape)\n",
    "print(df_test_x.shape)\n",
    "print(df_test_y.shape)"
   ]
  },
  {
   "cell_type": "markdown",
   "id": "4e961b95",
   "metadata": {
    "slideshow": {
     "slide_type": "skip"
    }
   },
   "source": [
    "### 4.2.2. 모델 수립"
   ]
  },
  {
   "cell_type": "code",
   "execution_count": 142,
   "id": "01f0ab47",
   "metadata": {
    "slideshow": {
     "slide_type": "skip"
    }
   },
   "outputs": [],
   "source": [
    "#random seed 설정\n",
    "np.random.seed(42)"
   ]
  },
  {
   "cell_type": "code",
   "execution_count": 143,
   "id": "83ebd0c4",
   "metadata": {
    "slideshow": {
     "slide_type": "slide"
    }
   },
   "outputs": [
    {
     "data": {
      "text/plain": [
       "LGBMRegressor()"
      ]
     },
     "execution_count": 143,
     "metadata": {},
     "output_type": "execute_result"
    }
   ],
   "source": [
    "#랜덤포레스트\n",
    "rf = RandomForestRegressor()\n",
    "rf.fit(df_train_x,df_train_y)\n",
    "\n",
    "#gboost\n",
    "gb=GradientBoostingRegressor()\n",
    "gb.fit(df_train_x,df_train_y)\n",
    "\n",
    "#lightgbm\n",
    "lg=LGBMRegressor()\n",
    "lg.fit(df_train_x,df_train_y)"
   ]
  },
  {
   "cell_type": "code",
   "execution_count": 144,
   "id": "9e3ff823",
   "metadata": {
    "slideshow": {
     "slide_type": "slide"
    }
   },
   "outputs": [
    {
     "name": "stdout",
     "output_type": "stream",
     "text": [
      "rf mse : 0.3719841068114661\n",
      "rf mae : 0.10656131371471773\n",
      "gb mse : 0.2726050247630921\n",
      "gb mae : 0.12493188245452637\n",
      "lg mse : 0.26389459776750673\n",
      "lg mae : 0.10399234125248175\n"
     ]
    }
   ],
   "source": [
    "rf_y_pred=rf.predict(df_test_x)\n",
    "print(\"rf mse :\",mean_squared_error(df_test_y,rf_y_pred))\n",
    "print(\"rf mae :\",mean_absolute_error(df_test_y,rf_y_pred))\n",
    "gb_y_pred=gb.predict(df_test_x)\n",
    "print(\"gb mse :\",mean_squared_error(df_test_y,gb_y_pred))\n",
    "print(\"gb mae :\",mean_absolute_error(df_test_y,gb_y_pred))\n",
    "lg_y_pred=lg.predict(df_test_x)\n",
    "print(\"lg mse :\",mean_squared_error(df_test_y,lg_y_pred))\n",
    "print(\"lg mae :\",mean_absolute_error(df_test_y,lg_y_pred))"
   ]
  },
  {
   "cell_type": "markdown",
   "id": "10082dc8",
   "metadata": {
    "slideshow": {
     "slide_type": "skip"
    }
   },
   "source": [
    ">**lightgbm regressor()이 가장 좋은 수치를 보여줌**"
   ]
  },
  {
   "cell_type": "code",
   "execution_count": 145,
   "id": "b36b6dc3",
   "metadata": {
    "slideshow": {
     "slide_type": "skip"
    }
   },
   "outputs": [],
   "source": [
    "# 파라미터 범위\n",
    "param_grid = {'n_estimators': [10, 30, 50],'max_depth': [10, 20],'learning_rate' : [0.05],'num_iterations' : [100,200],}\n",
    "# 모델 준비 (LGBMRegressor)\n",
    "lg_model = LGBMRegressor()"
   ]
  },
  {
   "cell_type": "code",
   "execution_count": 146,
   "id": "90322984",
   "metadata": {
    "slideshow": {
     "slide_type": "slide"
    }
   },
   "outputs": [
    {
     "name": "stdout",
     "output_type": "stream",
     "text": [
      "Fitting 5 folds for each of 12 candidates, totalling 60 fits\n"
     ]
    },
    {
     "name": "stderr",
     "output_type": "stream",
     "text": [
      "[Parallel(n_jobs=5)]: Using backend LokyBackend with 5 concurrent workers.\n",
      "[Parallel(n_jobs=5)]: Done  40 tasks      | elapsed:  2.0min\n",
      "[Parallel(n_jobs=5)]: Done  60 out of  60 | elapsed:  3.3min finished\n"
     ]
    },
    {
     "name": "stdout",
     "output_type": "stream",
     "text": [
      "Best Param : {'learning_rate': 0.05, 'max_depth': 20, 'n_estimators': 10, 'num_iterations': 200}\n"
     ]
    }
   ],
   "source": [
    "# GridSearch로 가장 좋은 파라미터 찾기\n",
    "GCV = GridSearchCV(lg_model, param_grid=param_grid, scoring='neg_mean_squared_error', cv=5, verbose=1, n_jobs=5)\n",
    "# 모델 fitting\n",
    "GCV.fit(df_train_x, df_train_y)\n",
    "# 가장 좋은 파라미터 찾기\n",
    "print(\"Best Param :\", GCV.best_params_)\n",
    "# 가장 좋은 파라미터로 모델 설정\n",
    "lg_model=GCV.best_estimator_ "
   ]
  },
  {
   "cell_type": "code",
   "execution_count": 147,
   "id": "0c1ff9f2",
   "metadata": {
    "slideshow": {
     "slide_type": "slide"
    }
   },
   "outputs": [
    {
     "data": {
      "text/plain": [
       "LGBMRegressor(learning_rate=0.05, max_depth=20, n_estimators=10,\n",
       "              num_iterations=200)"
      ]
     },
     "execution_count": 147,
     "metadata": {},
     "output_type": "execute_result"
    }
   ],
   "source": [
    "#train data 활용 모델 train\n",
    "lg_model.fit(df_train_x,df_train_y)"
   ]
  },
  {
   "cell_type": "markdown",
   "id": "5903e2f1",
   "metadata": {
    "slideshow": {
     "slide_type": "skip"
    }
   },
   "source": [
    "### 4.2.3. 모델 평가"
   ]
  },
  {
   "cell_type": "code",
   "execution_count": 148,
   "id": "f4e75612",
   "metadata": {
    "slideshow": {
     "slide_type": "slide"
    }
   },
   "outputs": [
    {
     "name": "stdout",
     "output_type": "stream",
     "text": [
      "최종 mse(lightgbm모델 사용) :  0.26355187894719134\n",
      "최종 mae(lightgbm모델 사용) :  0.10392207522470769\n"
     ]
    }
   ],
   "source": [
    "#예측\n",
    "lg_y_pred=lg_model.predict(df_test_x)\n",
    "print('최종 mse(lightgbm모델 사용) : ',mean_squared_error(df_test_y,lg_y_pred))\n",
    "print('최종 mae(lightgbm모델 사용) : ',mean_absolute_error(df_test_y,lg_y_pred))"
   ]
  },
  {
   "cell_type": "code",
   "execution_count": null,
   "id": "ee4e5d4b",
   "metadata": {
    "slideshow": {
     "slide_type": "skip"
    }
   },
   "outputs": [],
   "source": []
  }
 ],
 "metadata": {
  "celltoolbar": "Slideshow",
  "kernelspec": {
   "display_name": "Python 3",
   "language": "python",
   "name": "python3"
  },
  "language_info": {
   "codemirror_mode": {
    "name": "ipython",
    "version": 3
   },
   "file_extension": ".py",
   "mimetype": "text/x-python",
   "name": "python",
   "nbconvert_exporter": "python",
   "pygments_lexer": "ipython3",
   "version": "3.6.10"
  },
  "toc": {
   "base_numbering": 1,
   "nav_menu": {},
   "number_sections": false,
   "sideBar": true,
   "skip_h1_title": false,
   "title_cell": "Table of Contents",
   "title_sidebar": "Contents",
   "toc_cell": false,
   "toc_position": {},
   "toc_section_display": true,
   "toc_window_display": true
  }
 },
 "nbformat": 4,
 "nbformat_minor": 5
}
